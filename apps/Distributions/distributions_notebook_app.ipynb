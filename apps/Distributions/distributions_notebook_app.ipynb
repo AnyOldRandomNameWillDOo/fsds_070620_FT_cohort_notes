{
 "cells": [
  {
   "cell_type": "markdown",
   "metadata": {},
   "source": [
    "# Making dashboards with Plotly and Dash"
   ]
  },
  {
   "cell_type": "markdown",
   "metadata": {},
   "source": [
    "- [Dash Tutorial](https://dash.plot.ly/?_ga=2.113980039.1477785321.1582826692-909099599.1571873348)\n",
    "\n",
    "- [Udemy Course](https://www.udemy.com/share/1021eIAEYbdVdWRXQ=/)"
   ]
  },
  {
   "cell_type": "markdown",
   "metadata": {},
   "source": [
    "# Using `jupyter-plotly-dash`\n",
    "https://pypi.org/project/jupyter-plotly-dash/"
   ]
  },
  {
   "cell_type": "markdown",
   "metadata": {
    "ExecuteTime": {
     "end_time": "2020-02-28T16:24:19.256374Z",
     "start_time": "2020-02-28T16:24:19.247974Z"
    }
   },
   "source": [
    "- In your terminal, install the following requirements:\n",
    "```\n",
    "pip install -U dash\n",
    "pip install -U jupyter_plotly_dash\n",
    "```\n",
    "- I highly recommend also install cufflinks\n",
    "```\n",
    "conda install -c plotly chart-studio \n",
    "pip install -U cufflinks\n",
    "```"
   ]
  },
  {
   "cell_type": "code",
   "execution_count": 31,
   "metadata": {
    "ExecuteTime": {
     "end_time": "2020-08-07T01:15:00.362133Z",
     "start_time": "2020-08-07T01:15:00.360227Z"
    }
   },
   "outputs": [
    {
     "name": "stdout",
     "output_type": "stream",
     "text": [
      "\u001b[1;31m---------------------------------------------------------------------------\u001b[0m\n",
      "\u001b[1;31mTypeError\u001b[0m                                 Traceback (most recent call last)\n",
      "\u001b[1;32m<ipython-input-29-ef608afbac65>\u001b[0m in \u001b[0;36mupdate_graph3\u001b[1;34m(\n",
      "    mu1=0,\n",
      "    sd1=1,\n",
      "    z1=0,\n",
      "    mu2=None,\n",
      "    sd2=1,\n",
      "    z2=0\n",
      ")\u001b[0m\n",
      "\u001b[0;32m     74\u001b[0m       Input('z2', 'value')])\n",
      "\u001b[0;32m     75\u001b[0m \u001b[1;32mdef\u001b[0m \u001b[0mupdate_graph3\u001b[0m\u001b[1;33m(\u001b[0m\u001b[0mmu1\u001b[0m\u001b[1;33m,\u001b[0m\u001b[0msd1\u001b[0m\u001b[1;33m,\u001b[0m\u001b[0mz1\u001b[0m\u001b[1;33m,\u001b[0m\u001b[0mmu2\u001b[0m\u001b[1;33m,\u001b[0m\u001b[0msd2\u001b[0m\u001b[1;33m,\u001b[0m\u001b[0mz2\u001b[0m\u001b[1;33m)\u001b[0m\u001b[1;33m:\u001b[0m\u001b[1;33m\u001b[0m\u001b[1;33m\u001b[0m\u001b[0m\n",
      "\u001b[1;32m---> 76\u001b[1;33m     \u001b[0mminx\u001b[0m\u001b[1;33m=\u001b[0m\u001b[0mmin\u001b[0m\u001b[1;33m(\u001b[0m\u001b[1;33m(\u001b[0m\u001b[0mmu1\u001b[0m\u001b[1;33m-\u001b[0m\u001b[1;36m4\u001b[0m\u001b[1;33m*\u001b[0m\u001b[0msd1\u001b[0m\u001b[1;33m,\u001b[0m\u001b[0mmu2\u001b[0m\u001b[1;33m-\u001b[0m\u001b[1;36m4\u001b[0m\u001b[1;33m*\u001b[0m\u001b[0msd2\u001b[0m\u001b[1;33m)\u001b[0m\u001b[1;33m)\u001b[0m\u001b[1;33m\u001b[0m\u001b[1;33m\u001b[0m\u001b[0m\n",
      "\u001b[0m        \u001b[0;36mminx\u001b[0m \u001b[1;34m= \u001b[1;36mundefined\u001b[0m\u001b[0m\u001b[1;34m\n",
      "        \u001b[0m\u001b[1;36mglobal\u001b[0m \u001b[0;36mmin\u001b[0m \u001b[1;34m= \u001b[1;36mundefined\u001b[0m\u001b[0m\u001b[1;34m\n",
      "        \u001b[0m\u001b[0;36mmu1\u001b[0m \u001b[1;34m= 0\u001b[0m\u001b[1;34m\n",
      "        \u001b[0m\u001b[0;36msd1\u001b[0m \u001b[1;34m= 1\u001b[0m\u001b[1;34m\n",
      "        \u001b[0m\u001b[0;36mmu2\u001b[0m \u001b[1;34m= None\u001b[0m\u001b[1;34m\n",
      "        \u001b[0m\u001b[0;36msd2\u001b[0m \u001b[1;34m= 1\u001b[0m\n",
      "\u001b[0;32m     77\u001b[0m     \u001b[0mmaxx\u001b[0m\u001b[1;33m=\u001b[0m\u001b[0mmax\u001b[0m\u001b[1;33m(\u001b[0m\u001b[1;33m(\u001b[0m\u001b[0mmu1\u001b[0m\u001b[1;33m+\u001b[0m\u001b[1;36m4\u001b[0m\u001b[1;33m*\u001b[0m\u001b[0msd1\u001b[0m\u001b[1;33m,\u001b[0m\u001b[0mmu2\u001b[0m\u001b[1;33m+\u001b[0m\u001b[1;36m4\u001b[0m\u001b[1;33m*\u001b[0m\u001b[0msd2\u001b[0m\u001b[1;33m)\u001b[0m\u001b[1;33m)\u001b[0m\u001b[1;33m\u001b[0m\u001b[1;33m\u001b[0m\u001b[0m\n",
      "\u001b[0;32m     78\u001b[0m     \u001b[0mx1\u001b[0m \u001b[1;33m=\u001b[0m \u001b[0mnp\u001b[0m\u001b[1;33m.\u001b[0m\u001b[0mlinspace\u001b[0m\u001b[1;33m(\u001b[0m\u001b[0mminx\u001b[0m\u001b[1;33m,\u001b[0m\u001b[0mmaxx\u001b[0m\u001b[1;33m,\u001b[0m\u001b[1;36m1001\u001b[0m\u001b[1;33m)\u001b[0m\u001b[1;33m\u001b[0m\u001b[1;33m\u001b[0m\u001b[0m\n",
      "\n",
      "\u001b[1;31mTypeError\u001b[0m: unsupported operand type(s) for -: 'NoneType' and 'int'\n",
      "\n"
     ]
    }
   ],
   "source": [
    "### UNCOMMENT THIS CELL TO INSTALL PACKAGES\n",
    "# !pip install -U dash\n",
    "# !pip install -U jupyter_plotly_dash\n",
    "# %conda install -c plotly chart-studio \n",
    "# !pip install -U cufflinks"
   ]
  },
  {
   "cell_type": "code",
   "execution_count": 16,
   "metadata": {
    "ExecuteTime": {
     "end_time": "2020-08-07T01:09:43.845728Z",
     "start_time": "2020-08-07T01:09:43.843485Z"
    }
   },
   "outputs": [],
   "source": [
    "# !pip install -U fsds_100719\n",
    "from fsds_100719.imports import *"
   ]
  },
  {
   "cell_type": "code",
   "execution_count": 2,
   "metadata": {
    "ExecuteTime": {
     "end_time": "2020-08-07T01:04:40.268669Z",
     "start_time": "2020-08-07T01:04:39.267254Z"
    }
   },
   "outputs": [
    {
     "name": "stdout",
     "output_type": "stream",
     "text": [
      "4.9.0\n",
      "1.14.0\n",
      "0.4.2\n"
     ]
    }
   ],
   "source": [
    "import plotly, dash, jupyter_plotly_dash\n",
    "from jupyter_plotly_dash import JupyterDash\n",
    "print(plotly.__version__, dash.__version__, jupyter_plotly_dash.__version__,sep='\\n')"
   ]
  },
  {
   "cell_type": "code",
   "execution_count": 15,
   "metadata": {
    "ExecuteTime": {
     "end_time": "2020-08-07T01:09:43.355844Z",
     "start_time": "2020-08-07T01:09:43.353667Z"
    }
   },
   "outputs": [],
   "source": []
  },
  {
   "cell_type": "markdown",
   "metadata": {},
   "source": [
    "# Distribution Appsp"
   ]
  },
  {
   "cell_type": "markdown",
   "metadata": {},
   "source": [
    "## Binomial Distribution"
   ]
  },
  {
   "cell_type": "code",
   "execution_count": 28,
   "metadata": {
    "ExecuteTime": {
     "end_time": "2020-08-07T01:13:04.430350Z",
     "start_time": "2020-08-07T01:13:04.398733Z"
    },
    "code_folding": [
     14,
     49,
     53
    ]
   },
   "outputs": [
    {
     "data": {
      "text/html": [
       "\n",
       "        <iframe\n",
       "            width=\"800\"\n",
       "            height=\"650\"\n",
       "            src=\"http://127.0.0.1:8050/\"\n",
       "            frameborder=\"0\"\n",
       "            allowfullscreen\n",
       "        ></iframe>\n",
       "        "
      ],
      "text/plain": [
       "<IPython.lib.display.IFrame at 0x13171de10>"
      ]
     },
     "metadata": {},
     "output_type": "display_data"
    }
   ],
   "source": [
    "import dash\n",
    "import dash_core_components as dcc\n",
    "import dash_html_components as html\n",
    "from dash.dependencies import Input, Output\n",
    "import plotly.graph_objs as go\n",
    "from scipy.stats import binom\n",
    "\n",
    "\n",
    "from jupyter_dash import JupyterDash\n",
    "app = JupyterDash('binomial')#,serve_locally=True)#dash.Dash(name=__name__)#, static_folder='static')\n",
    "\n",
    "# THE EXTERNAL CSS FILE REMOVES THE DASH \"UNDO/REDO\" BUTTON\n",
    "# app.css.append_css({'external_url':'static/my.css'})\n",
    "\n",
    "app.layout = html.Div([\n",
    "        dcc.Graph(id='feature-graphic1', config={'displayModeBar': False}),\n",
    "        html.Div([\n",
    "        html.Div('n=',style={'width':'8%','fontSize':24,'fontStyle':'italic','float':'left','textAlign':'right','paddingRight':20}),\n",
    "        dcc.Input(\n",
    "            id='n',\n",
    "            type='number',\n",
    "            value=50,\n",
    "            style={'width':'8%','fontSize':24,'float':'left'}),\n",
    "        html.Div('p=',style={'width':'5%','fontSize':24,'fontStyle':'italic','float':'left','textAlign':'right','paddingRight':20}),\n",
    "        html.Div(dcc.Slider(\n",
    "            id='p',\n",
    "            min=0,\n",
    "            max=12,\n",
    "            step=None,\n",
    "            marks={\n",
    "                0: {'label': '0', 'style': {'fontSize':18,'color': '#f50'}},\n",
    "                1: {'label': '1/6', 'style': {'fontSize':18}},\n",
    "                2: {'label': '1/5', 'style': {'fontSize':18}},\n",
    "                3: {'label': '1/4', 'style': {'fontSize':18}},\n",
    "                4: {'label': '1/3', 'style': {'fontSize':18}},\n",
    "                5: {'label': '2/5', 'style': {'fontSize':18}},\n",
    "                6: {'label': '1/2', 'style': {'fontSize':18}},\n",
    "                7: {'label': '3/5', 'style': {'fontSize':18}},\n",
    "                8: {'label': '2/3', 'style': {'fontSize':18}},\n",
    "                9: {'label': '3/4', 'style': {'fontSize':18}},\n",
    "                10: {'label': '4/5', 'style': {'fontSize':18}},\n",
    "                11: {'label': '5/6', 'style': {'fontSize':18}},\n",
    "                12: {'label': '1', 'style': {'fontSize':18,'color': '#f50'}}\n",
    "            },\n",
    "            included=False,\n",
    "            value=6), style={'width':'65%','float':'left'})\n",
    "        ])\n",
    "        ])\n",
    "\n",
    "@app.callback(\n",
    "    Output('feature-graphic1', 'figure'),\n",
    "    [Input('n', 'value'),\n",
    "     Input('p', 'value')])\n",
    "def update_graph(n,p):\n",
    "    pset = [0,0.1667,0.2,0.25,0.3333,0.4,0.5,0.6,0.6667,0.75,0.8,0.8333,1]\n",
    "    x = list(range(n+1))\n",
    "    y = [binom.pmf(i,n,pset[p]) for i in range(n+1)]\n",
    "    return {\n",
    "        'data': [go.Bar(\n",
    "            x=x,\n",
    "            y=y,\n",
    "            width=[0.2]*(n+1),\n",
    "        )],\n",
    "        'layout': go.Layout(\n",
    "            title='Binomial Distribution',\n",
    "            margin={'l':40, 'b':40, 't':50, 'r':0}\n",
    "        )\n",
    "    }\n",
    "app.run_server('inline')"
   ]
  },
  {
   "cell_type": "markdown",
   "metadata": {},
   "source": [
    "## Normal Distribution"
   ]
  },
  {
   "cell_type": "code",
   "execution_count": 27,
   "metadata": {
    "ExecuteTime": {
     "end_time": "2020-08-07T01:12:55.682338Z",
     "start_time": "2020-08-07T01:12:55.650351Z"
    },
    "code_folding": [
     6,
     38,
     43
    ]
   },
   "outputs": [
    {
     "name": "stderr",
     "output_type": "stream",
     "text": [
      "/opt/anaconda3/envs/learn-env/lib/python3.6/site-packages/dash/resources.py:68: UserWarning:\n",
      "\n",
      "You have set your config to `serve_locally=True` but A local version of static/my.css is not available.\n",
      "If you added this file with `app.scripts.append_script` or `app.css.append_css`, use `external_scripts` or `external_stylesheets` instead.\n",
      "See https://dash.plot.com/external-resources\n",
      "\n"
     ]
    },
    {
     "data": {
      "text/html": [
       "\n",
       "        <iframe\n",
       "            width=\"800\"\n",
       "            height=\"650\"\n",
       "            src=\"http://127.0.0.1:8050/\"\n",
       "            frameborder=\"0\"\n",
       "            allowfullscreen\n",
       "        ></iframe>\n",
       "        "
      ],
      "text/plain": [
       "<IPython.lib.display.IFrame at 0x13124a1d0>"
      ]
     },
     "metadata": {},
     "output_type": "display_data"
    }
   ],
   "source": [
    "from scipy.stats import norm\n",
    "app = JupyterDash('normal')#dash.Dash(name=__name__)#, static_folder='static')\n",
    "\n",
    "# THE EXTERNAL CSS FILE REMOVES THE DASH \"UNDO/REDO\" BUTTON\n",
    "app.css.append_css({'external_url':'static/my.css'})\n",
    "\n",
    "app.layout = html.Div([\n",
    "        dcc.Graph(id='feature-graphic2', config={'displayModeBar': False}),\n",
    "        html.Div([\n",
    "        html.Div('μ=',style={'width':'8%','fontSize':24,'fontStyle':'italic',\n",
    "        'float':'left','textAlign':'right','paddingRight':20}),\n",
    "        dcc.Input(\n",
    "            id='mu',\n",
    "            type='number',\n",
    "            value=0,\n",
    "            style={'width':'8%','fontSize':24,'float':'left'}),\n",
    "        html.Div('std =',style={'width':'7%','fontSize':24,\n",
    "        'fontFamily':'symbol','float':'left','textAlign':'right',\n",
    "        'paddingRight':50}),\n",
    "        html.Div(dcc.Input(\n",
    "            id='sd',\n",
    "            type='number',\n",
    "            value=1,\n",
    "            style={'width':'8%','fontSize':24,'float':'left'})),\n",
    "        html.Div('Show Z?',style={'width':'10%','fontSize':24,\n",
    "        'fontStyle':'italic','float':'left','textAlign':'right',\n",
    "        'paddingRight':30,'paddingLeft':15}),\n",
    "        html.Div(dcc.RadioItems(\n",
    "            id='z',\n",
    "            options=[\n",
    "                {'label':'Yes', 'value':1},\n",
    "                {'label':'No', 'value':0},\n",
    "            ],\n",
    "            value=0,\n",
    "            labelStyle={'display':'inline-block','fontSize':24})),\n",
    "        ])\n",
    "        ])\n",
    "\n",
    "@app.callback(\n",
    "    Output('feature-graphic2', 'figure'),\n",
    "    [Input('mu', 'value'),\n",
    "     Input('sd', 'value'),\n",
    "     Input('z', 'value')])\n",
    "def update_graph2(mu,sd,z):\n",
    "    x = np.linspace(mu-(4*sd),mu+(4*sd),1001)\n",
    "    y = [norm.pdf(i,mu,sd) for i in x]\n",
    "    zx = [mu-(3*sd),mu-(2*sd),mu-sd,mu+sd,mu+(2*sd),mu+(3*sd)]\n",
    "    zy = [norm.pdf(i,mu,sd) for i in zx]\n",
    "    trace0 = go.Scatter(\n",
    "        x=x,\n",
    "        y=y,\n",
    "        mode='lines',\n",
    "        hoverinfo='none'\n",
    "    )\n",
    "    trace1 = go.Bar(\n",
    "        x = zx,\n",
    "        y = zy,\n",
    "        text = ['Z=-3','Z=-2','Z=-1','Z=1','Z=2','Z=3'],\n",
    "        width = [0.02]*6,\n",
    "        hoverinfo='text+x'\n",
    "    )\n",
    "    if z:\n",
    "        data = [trace0,trace1]\n",
    "    else:\n",
    "        data = [trace0]\n",
    "\n",
    "    return {\n",
    "        'data':data,\n",
    "        'layout': go.Layout(\n",
    "            title='Normal Distribution',\n",
    "            margin={'l':40, 'b':40, 't':50, 'r':40},\n",
    "            showlegend=False\n",
    "        )\n",
    "    }\n",
    "\n",
    "app.run_server('inline')\n"
   ]
  },
  {
   "cell_type": "markdown",
   "metadata": {},
   "source": [
    "## Two Normal Distributions"
   ]
  },
  {
   "cell_type": "code",
   "execution_count": 29,
   "metadata": {
    "ExecuteTime": {
     "end_time": "2020-08-07T01:13:56.734079Z",
     "start_time": "2020-08-07T01:13:56.689755Z"
    },
    "code_folding": [
     6,
     67,
     75
    ]
   },
   "outputs": [
    {
     "name": "stderr",
     "output_type": "stream",
     "text": [
      "/opt/anaconda3/envs/learn-env/lib/python3.6/site-packages/dash/resources.py:68: UserWarning:\n",
      "\n",
      "You have set your config to `serve_locally=True` but A local version of static/my.css is not available.\n",
      "If you added this file with `app.scripts.append_script` or `app.css.append_css`, use `external_scripts` or `external_stylesheets` instead.\n",
      "See https://dash.plot.com/external-resources\n",
      "\n"
     ]
    },
    {
     "data": {
      "text/html": [
       "\n",
       "        <iframe\n",
       "            width=\"800\"\n",
       "            height=\"650\"\n",
       "            src=\"http://127.0.0.1:8050/\"\n",
       "            frameborder=\"0\"\n",
       "            allowfullscreen\n",
       "        ></iframe>\n",
       "        "
      ],
      "text/plain": [
       "<IPython.lib.display.IFrame at 0x1317b3978>"
      ]
     },
     "metadata": {},
     "output_type": "display_data"
    }
   ],
   "source": [
    "\n",
    "app = JupyterDash('normal2')#dash.Dash(name=__name__)#, static_folder='static')\n",
    "\n",
    "# THE EXTERNAL CSS FILE REMOVES THE DASH \"UNDO/REDO\" BUTTON\n",
    "app.css.append_css({'external_url':'static/my.css'})\n",
    "\n",
    "app.layout = html.Div([\n",
    "        dcc.Graph(id='feature-graphic3', config={'displayModeBar': False}),\n",
    "        html.Div([\n",
    "        html.Div('μ=',style={'width':'8%','fontSize':24,'fontStyle':'italic',\n",
    "        'float':'left','textAlign':'right','paddingRight':20,'color':'#1f77b4'}),\n",
    "        dcc.Input(\n",
    "            id='mu1',\n",
    "            type='number',\n",
    "            value=0,\n",
    "            style={'width':'8%','fontSize':24,'float':'left','color':'#1f77b4'}),\n",
    "        html.Div('std =',style={'width':'7%','fontSize':24,\n",
    "        'fontFamily':'symbol','float':'left','textAlign':'right',\n",
    "        'paddingRight':50,'color':'#1f77b4'}),\n",
    "        html.Div(dcc.Input(\n",
    "            id='sd1',\n",
    "            type='number',\n",
    "            value=1,\n",
    "            style={'width':'8%','fontSize':24,'float':'left','color':'#1f77b4'})),\n",
    "        html.Div('Show Z?',style={'width':'10%','fontSize':24,\n",
    "        'fontStyle':'italic','float':'left','textAlign':'right',\n",
    "        'paddingRight':30,'paddingLeft':15,'color':'#1f77b4'}),\n",
    "        html.Div(dcc.RadioItems(\n",
    "            id='z1',\n",
    "            options=[\n",
    "                {'label':'Yes', 'value':1},\n",
    "                {'label':'No', 'value':0},\n",
    "            ],\n",
    "            value=0,\n",
    "            labelStyle={'display':'inline-block','fontSize':24,'color':'#1f77b4'})),\n",
    "        ]),\n",
    "\n",
    "        html.Div([\n",
    "        html.Div('μ=',style={'width':'8%','fontSize':24,'fontStyle':'italic',\n",
    "        'float':'left','textAlign':'right','paddingRight':20,'color':'#2ca02c'}),\n",
    "        dcc.Input(\n",
    "            id='mu2',\n",
    "            type='number',\n",
    "            value=0,\n",
    "            style={'width':'8%','fontSize':24,'float':'left','color':'#2ca02c'}),\n",
    "        html.Div('std =',style={'width':'7%','fontSize':24,\n",
    "        'fontFamily':'symbol','float':'left','textAlign':'right',\n",
    "        'paddingRight':50,'color':'#2ca02c'}),\n",
    "        html.Div(dcc.Input(\n",
    "            id='sd2',\n",
    "            type='number',\n",
    "            value=1,\n",
    "            style={'width':'8%','fontSize':24,'float':'left','color':'#2ca02c'})),\n",
    "        html.Div('Show Z?',style={'width':'10%','fontSize':24,\n",
    "        'fontStyle':'italic','float':'left','textAlign':'right',\n",
    "        'paddingRight':30,'paddingLeft':15,'color':'#2ca02c'}),\n",
    "        html.Div(dcc.RadioItems(\n",
    "            id='z2',\n",
    "            options=[\n",
    "                {'label':'Yes', 'value':1},\n",
    "                {'label':'No', 'value':0},\n",
    "            ],\n",
    "            value=0,\n",
    "            labelStyle={'display':'inline-block','fontSize':24})),\n",
    "        ],style={'clear':'both','paddingTop':8,'color':'#2ca02c'})\n",
    "        ])\n",
    "\n",
    "@app.callback(\n",
    "    Output('feature-graphic3', 'figure'),\n",
    "    [Input('mu1', 'value'),\n",
    "     Input('sd1', 'value'),\n",
    "     Input('z1', 'value'),\n",
    "     Input('mu2', 'value'),\n",
    "      Input('sd2', 'value'),\n",
    "      Input('z2', 'value')])\n",
    "def update_graph3(mu1,sd1,z1,mu2,sd2,z2):\n",
    "    minx=min((mu1-4*sd1,mu2-4*sd2))\n",
    "    maxx=max((mu1+4*sd1,mu2+4*sd2))\n",
    "    x1 = np.linspace(minx,maxx,1001)\n",
    "    y1 = [norm.pdf(i,mu1,sd1) for i in x1]\n",
    "    zx1 = [mu1-(3*sd1),mu1-(2*sd1),mu1-sd1,mu1+sd1,mu1+(2*sd1),mu1+(3*sd1)]\n",
    "    zy1 = [norm.pdf(i,mu1,sd1) for i in zx1]\n",
    "    trace10 = go.Scatter(\n",
    "        x=x1,\n",
    "        y=y1,\n",
    "        mode='lines',\n",
    "        hoverinfo='none',\n",
    "        line={'color':'rgb(31, 119, 180)'}\n",
    "    )\n",
    "    trace11 = go.Bar(\n",
    "        x = zx1,\n",
    "        y = zy1,\n",
    "        text = ['Z=-3','Z=-2','Z=-1','Z=1','Z=2','Z=3'],\n",
    "        width = [0.02]*6,\n",
    "        hoverinfo='text+x',\n",
    "        marker = {'color':'#ff7f0e'}\n",
    "    )\n",
    "    x2 = np.linspace(minx,maxx,1001)\n",
    "    y2 = [norm.pdf(i,mu2,sd2) for i in x2]\n",
    "    zx2 = [mu2-(3*sd2),mu2-(2*sd2),mu2-sd2,mu2+sd2,mu2+(2*sd2),mu2+(3*sd2)]\n",
    "    zy2 = [norm.pdf(i,mu2,sd2) for i in zx2]\n",
    "    trace20 = go.Scatter(\n",
    "        x=x2,\n",
    "        y=y2,\n",
    "        mode='lines',\n",
    "        hoverinfo='none',\n",
    "        line={'color':'rgb(44,160,44)'}\n",
    "    )\n",
    "    trace21 = go.Bar(\n",
    "        x = zx2,\n",
    "        y = zy2,\n",
    "        text = ['Z=-3','Z=-2','Z=-1','Z=1','Z=2','Z=3'],\n",
    "        width = [0.02]*6,\n",
    "        hoverinfo='text+x',\n",
    "        marker = {'color':'#d62728'}\n",
    "    )\n",
    "    if z1 and z2:\n",
    "        data = [trace20,trace21,trace10,trace11]\n",
    "    elif z1:\n",
    "        data = [trace20,trace10,trace11]\n",
    "    elif z2:\n",
    "        data = [trace20,trace21,trace10]\n",
    "    else:\n",
    "        data = [trace20,trace10]\n",
    "\n",
    "    return {\n",
    "        'data':data,\n",
    "        'layout': go.Layout(\n",
    "            title='Normal Distribution',\n",
    "            margin={'l':40, 'b':40, 't':50, 'r':40},\n",
    "            showlegend=False,\n",
    "            barmode='overlay'\n",
    "        )\n",
    "    }\n",
    "\n",
    "app.run_server('inline')\n"
   ]
  }
 ],
 "metadata": {
  "kernelspec": {
   "display_name": "learn-env",
   "language": "python",
   "name": "learn-env"
  },
  "language_info": {
   "codemirror_mode": {
    "name": "ipython",
    "version": 3
   },
   "file_extension": ".py",
   "mimetype": "text/x-python",
   "name": "python",
   "nbconvert_exporter": "python",
   "pygments_lexer": "ipython3",
   "version": "3.6.11"
  },
  "toc": {
   "base_numbering": 1,
   "nav_menu": {},
   "number_sections": false,
   "sideBar": true,
   "skip_h1_title": false,
   "title_cell": "Table of Contents",
   "title_sidebar": "Contents",
   "toc_cell": false,
   "toc_position": {},
   "toc_section_display": true,
   "toc_window_display": true
  },
  "widgets": {
   "application/vnd.jupyter.widget-state+json": {
    "state": {},
    "version_major": 2,
    "version_minor": 0
   }
  }
 },
 "nbformat": 4,
 "nbformat_minor": 2
}
