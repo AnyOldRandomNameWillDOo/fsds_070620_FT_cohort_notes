{
 "cells": [
  {
   "cell_type": "markdown",
   "metadata": {
    "colab_type": "text",
    "id": "cJtmZmtMCE55"
   },
   "source": [
    "# SECTION 19: MULTIPLE LINEAR REGRESSION"
   ]
  },
  {
   "cell_type": "markdown",
   "metadata": {},
   "source": [
    "- online-ds-ft-070620\n",
    "- 08/20/20"
   ]
  },
  {
   "cell_type": "markdown",
   "metadata": {},
   "source": [
    "## Announcements"
   ]
  },
  {
   "cell_type": "markdown",
   "metadata": {},
   "source": [
    "- **Questions re: YouTube Playlist Video Changes to reduce delay**\n",
    "    - No title screens (just started)\n",
    "    - 720p Video (have been doing for a while. Has anyone had issues when watching study groups?)\n",
    "    \n",
    "\n",
    "    "
   ]
  },
  {
   "cell_type": "markdown",
   "metadata": {},
   "source": [
    "## Resources:"
   ]
  },
  {
   "cell_type": "markdown",
   "metadata": {},
   "source": [
    "- **[OSEMN Data Science Workflow Notebook](https://github.com/jirvingphd/fsds-osemn-workflow)**\n",
    "    - `student_OSEMN.ipynb`: also included in notes repo"
   ]
  },
  {
   "cell_type": "markdown",
   "metadata": {
    "colab_type": "text",
    "id": "wi_LF1BzrcQ0"
   },
   "source": [
    "## LEARNING OBJECTIVES"
   ]
  },
  {
   "cell_type": "markdown",
   "metadata": {
    "colab_type": "text",
    "id": "wi_LF1BzrcQ0"
   },
   "source": [
    "- Learn how to expand our last lesson to include multiple independent variables.\n",
    "- Learn ways to deal with categorical variables.\n",
    "- Learn about multicollinearity of features\n",
    "- Learn about how to improve a baseline model based on results\n",
    "- Learn how to run a multiple regression using statsmodels\n",
    "\n",
    "<!-- ### TOPICS:\n",
    "\n",
    "#### Part 1 \n",
    "- Multiple Linear Regression\n",
    "- Dealing with Categorical Variables\n",
    "- Multicollinearity of Features\n",
    "- Multiple Linear Regression in Statsmodels\n",
    "\n",
    "#### Part 2\n",
    "- Feature Scaling & Normalization\n",
    "- Model Fit and Validation/Cross Validation -->"
   ]
  },
  {
   "cell_type": "markdown",
   "metadata": {
    "colab_type": "text",
    "id": "GnvMyBX-re5C"
   },
   "source": [
    "## Questions?\n",
    "\n"
   ]
  },
  {
   "cell_type": "markdown",
   "metadata": {},
   "source": [
    "- Introduction to Cross-Validation - Lab - Cross-Validation using Scikit-Learn solution\n",
    "\n",
    "- Multiple Linear Regression in Statsmodels - Lab \n",
    "    - is there a way to easily create the regression equation when there are so many coefficients?\n",
    "\n",
    "\n",
    "- Can we possibly work through a full practical linear regression workflow from start to finish? \n",
    "    - Stats testing the data for assumptions, splitting, training, testing, validation, and inference or prediction results to get a fuller understanding of the realistic linear regression workflow as it pertains to the job.\n"
   ]
  },
  {
   "cell_type": "markdown",
   "metadata": {
    "colab_type": "text",
    "id": "2P7o3jg2zfSC"
   },
   "source": [
    "# PREVIOUSLY ON..."
   ]
  },
  {
   "cell_type": "markdown",
   "metadata": {
    "colab_type": "text",
    "id": "Gf2OdhZ6n9_V"
   },
   "source": [
    "## Single Linear Regression"
   ]
  },
  {
   "cell_type": "markdown",
   "metadata": {
    "colab_type": "text",
    "id": "iiQhSaORoC-f"
   },
   "source": [
    "- We discussed how the mean is our worst model.\n",
    "\n",
    "- We discussed the assumptions for a linear regression:\n",
    "    - Linear relationship between predictor and target variable.\n",
    "    - Predictor (x) and its error terms have a normal distribution\n",
    "    - Homoskedasticity ( variance of residuals is constant)\n",
    "    \n",
    "- We learned how to run a single regession in statsmodels"
   ]
  },
  {
   "cell_type": "code",
   "execution_count": 1,
   "metadata": {
    "ExecuteTime": {
     "end_time": "2020-08-20T15:55:58.332291Z",
     "start_time": "2020-08-20T15:55:54.848740Z"
    }
   },
   "outputs": [
    {
     "name": "stdout",
     "output_type": "stream",
     "text": [
      "fsds v0.2.23 loaded.  Read the docs: https://fs-ds.readthedocs.io/en/latest/ \n"
     ]
    },
    {
     "data": {
      "text/html": [
       "<style  type=\"text/css\" >\n",
       "</style><table id=\"T_a301e742_e2fd_11ea_9955_4865ee12e626\" ><caption>Loaded Packages and Handles</caption><thead>    <tr>        <th class=\"col_heading level0 col0\" >Handle</th>        <th class=\"col_heading level0 col1\" >Package</th>        <th class=\"col_heading level0 col2\" >Description</th>    </tr></thead><tbody>\n",
       "                <tr>\n",
       "                                <td id=\"T_a301e742_e2fd_11ea_9955_4865ee12e626row0_col0\" class=\"data row0 col0\" >dp</td>\n",
       "                        <td id=\"T_a301e742_e2fd_11ea_9955_4865ee12e626row0_col1\" class=\"data row0 col1\" >IPython.display</td>\n",
       "                        <td id=\"T_a301e742_e2fd_11ea_9955_4865ee12e626row0_col2\" class=\"data row0 col2\" >Display modules with helpful display and clearing commands.</td>\n",
       "            </tr>\n",
       "            <tr>\n",
       "                                <td id=\"T_a301e742_e2fd_11ea_9955_4865ee12e626row1_col0\" class=\"data row1 col0\" >fs</td>\n",
       "                        <td id=\"T_a301e742_e2fd_11ea_9955_4865ee12e626row1_col1\" class=\"data row1 col1\" >fsds</td>\n",
       "                        <td id=\"T_a301e742_e2fd_11ea_9955_4865ee12e626row1_col2\" class=\"data row1 col2\" >Custom data science bootcamp student package</td>\n",
       "            </tr>\n",
       "            <tr>\n",
       "                                <td id=\"T_a301e742_e2fd_11ea_9955_4865ee12e626row2_col0\" class=\"data row2 col0\" >mpl</td>\n",
       "                        <td id=\"T_a301e742_e2fd_11ea_9955_4865ee12e626row2_col1\" class=\"data row2 col1\" >matplotlib</td>\n",
       "                        <td id=\"T_a301e742_e2fd_11ea_9955_4865ee12e626row2_col2\" class=\"data row2 col2\" >Matplotlib's base OOP module with formatting artists</td>\n",
       "            </tr>\n",
       "            <tr>\n",
       "                                <td id=\"T_a301e742_e2fd_11ea_9955_4865ee12e626row3_col0\" class=\"data row3 col0\" >plt</td>\n",
       "                        <td id=\"T_a301e742_e2fd_11ea_9955_4865ee12e626row3_col1\" class=\"data row3 col1\" >matplotlib.pyplot</td>\n",
       "                        <td id=\"T_a301e742_e2fd_11ea_9955_4865ee12e626row3_col2\" class=\"data row3 col2\" >Matplotlib's matlab-like plotting module</td>\n",
       "            </tr>\n",
       "            <tr>\n",
       "                                <td id=\"T_a301e742_e2fd_11ea_9955_4865ee12e626row4_col0\" class=\"data row4 col0\" >np</td>\n",
       "                        <td id=\"T_a301e742_e2fd_11ea_9955_4865ee12e626row4_col1\" class=\"data row4 col1\" >numpy</td>\n",
       "                        <td id=\"T_a301e742_e2fd_11ea_9955_4865ee12e626row4_col2\" class=\"data row4 col2\" >scientific computing with Python</td>\n",
       "            </tr>\n",
       "            <tr>\n",
       "                                <td id=\"T_a301e742_e2fd_11ea_9955_4865ee12e626row5_col0\" class=\"data row5 col0\" >pd</td>\n",
       "                        <td id=\"T_a301e742_e2fd_11ea_9955_4865ee12e626row5_col1\" class=\"data row5 col1\" >pandas</td>\n",
       "                        <td id=\"T_a301e742_e2fd_11ea_9955_4865ee12e626row5_col2\" class=\"data row5 col2\" >High performance data structures and tools</td>\n",
       "            </tr>\n",
       "            <tr>\n",
       "                                <td id=\"T_a301e742_e2fd_11ea_9955_4865ee12e626row6_col0\" class=\"data row6 col0\" >sns</td>\n",
       "                        <td id=\"T_a301e742_e2fd_11ea_9955_4865ee12e626row6_col1\" class=\"data row6 col1\" >seaborn</td>\n",
       "                        <td id=\"T_a301e742_e2fd_11ea_9955_4865ee12e626row6_col2\" class=\"data row6 col2\" >High-level data visualization library based on matplotlib</td>\n",
       "            </tr>\n",
       "    </tbody></table>"
      ],
      "text/plain": [
       "<pandas.io.formats.style.Styler at 0x10e2358d0>"
      ]
     },
     "metadata": {},
     "output_type": "display_data"
    },
    {
     "data": {
      "text/html": [
       "        <script type=\"text/javascript\">\n",
       "        window.PlotlyConfig = {MathJaxConfig: 'local'};\n",
       "        if (window.MathJax) {MathJax.Hub.Config({SVG: {font: \"STIX-Web\"}});}\n",
       "        if (typeof require !== 'undefined') {\n",
       "        require.undef(\"plotly\");\n",
       "        requirejs.config({\n",
       "            paths: {\n",
       "                'plotly': ['https://cdn.plot.ly/plotly-latest.min']\n",
       "            }\n",
       "        });\n",
       "        require(['plotly'], function(Plotly) {\n",
       "            window._Plotly = Plotly;\n",
       "        });\n",
       "        }\n",
       "        </script>\n",
       "        "
      ]
     },
     "metadata": {},
     "output_type": "display_data"
    },
    {
     "data": {
      "text/html": [
       "        <script type=\"text/javascript\">\n",
       "        window.PlotlyConfig = {MathJaxConfig: 'local'};\n",
       "        if (window.MathJax) {MathJax.Hub.Config({SVG: {font: \"STIX-Web\"}});}\n",
       "        if (typeof require !== 'undefined') {\n",
       "        require.undef(\"plotly\");\n",
       "        requirejs.config({\n",
       "            paths: {\n",
       "                'plotly': ['https://cdn.plot.ly/plotly-latest.min']\n",
       "            }\n",
       "        });\n",
       "        require(['plotly'], function(Plotly) {\n",
       "            window._Plotly = Plotly;\n",
       "        });\n",
       "        }\n",
       "        </script>\n",
       "        "
      ]
     },
     "metadata": {},
     "output_type": "display_data"
    },
    {
     "name": "stdout",
     "output_type": "stream",
     "text": [
      "[i] Pandas .iplot() method activated.\n"
     ]
    }
   ],
   "source": [
    "!pip install -U fsds\n",
    "from fsds.imports import *"
   ]
  },
  {
   "cell_type": "code",
   "execution_count": 2,
   "metadata": {
    "ExecuteTime": {
     "end_time": "2020-08-20T15:55:58.335936Z",
     "start_time": "2020-08-20T15:55:58.333411Z"
    }
   },
   "outputs": [],
   "source": [
    "plt.style.use('fivethirtyeight')\n",
    "plt.rcParams['figure.figsize'] = [10,6]"
   ]
  },
  {
   "cell_type": "code",
   "execution_count": 3,
   "metadata": {
    "ExecuteTime": {
     "end_time": "2020-08-20T15:55:59.760482Z",
     "start_time": "2020-08-20T15:55:59.164739Z"
    }
   },
   "outputs": [],
   "source": [
    "import statsmodels.api as sm\n",
    "import statsmodels.stats.api as sms\n",
    "import statsmodels.formula.api as smf\n",
    "import scipy.stats as stats\n",
    "\n",
    "import warnings\n",
    "# warnings.filterwarnings('ignore')"
   ]
  },
  {
   "cell_type": "code",
   "execution_count": 4,
   "metadata": {
    "ExecuteTime": {
     "end_time": "2020-08-20T15:56:04.029136Z",
     "start_time": "2020-08-20T15:56:03.696008Z"
    }
   },
   "outputs": [],
   "source": [
    "## Load in ames dataset\n",
    "df = fs.datasets.load_ames_train(subset=True)\n",
    "\n",
    "## Preview Data\n",
    "# display(df.head());\n",
    "\n",
    "## Save Columns of Interest\n",
    "X = df['GrLivArea'].copy()\n",
    "y = df['SalePrice'].copy()"
   ]
  },
  {
   "cell_type": "code",
   "execution_count": null,
   "metadata": {
    "ExecuteTime": {
     "end_time": "2020-08-20T00:46:14.768306Z",
     "start_time": "2020-08-20T00:46:14.565721Z"
    },
    "scrolled": false
   },
   "outputs": [],
   "source": [
    "\n",
    "## Formatting \n",
    "priceFmt = mpl.ticker.StrMethodFormatter(\"${x:,.0f}\")\n",
    "\n",
    "## Scatter Plots for Linearity Check\n",
    "def plot_data(X,y,xlabel='GrLivArea',ylabel='SalePrice'):\n",
    "    \n",
    "    fig, ax = plt.subplots()\n",
    "    \n",
    "    ax.scatter(X,y,marker='.')\n",
    "    \n",
    "    ax.set(xlabel=xlabel,ylabel=ylabel)\n",
    "    ax.set_title(f'{xlabel} vs {ylabel}')\n",
    "    \n",
    "    ax.yaxis.set_major_formatter(priceFmt)\n",
    "    return fig,ax\n",
    "\n",
    "plot_data(X,y)"
   ]
  },
  {
   "cell_type": "code",
   "execution_count": null,
   "metadata": {
    "ExecuteTime": {
     "end_time": "2020-08-20T00:46:15.069928Z",
     "start_time": "2020-08-20T00:46:14.769765Z"
    }
   },
   "outputs": [],
   "source": [
    "## Check Linearity \n",
    "ax = sns.regplot(X,y,line_kws={'color':'green','ls':'--'})"
   ]
  },
  {
   "cell_type": "code",
   "execution_count": null,
   "metadata": {
    "ExecuteTime": {
     "end_time": "2020-08-20T00:46:15.074697Z",
     "start_time": "2020-08-20T00:46:15.071465Z"
    }
   },
   "outputs": [],
   "source": [
    "## Check for outliers\n",
    "from scipy import stats\n",
    "def find_outliers_z(data):\n",
    "    zFP = np.abs(stats.zscore(data))\n",
    "    zFP = pd.Series(zFP, index=data.index)\n",
    "    idx_outliers = zFP > 3\n",
    "    return idx_outliers"
   ]
  },
  {
   "cell_type": "code",
   "execution_count": null,
   "metadata": {
    "ExecuteTime": {
     "end_time": "2020-08-20T00:46:15.081837Z",
     "start_time": "2020-08-20T00:46:15.076872Z"
    }
   },
   "outputs": [],
   "source": [
    "## Get X outliers\n",
    "X_outliers = find_outliers_z(X)\n",
    "X_outliers.sum()"
   ]
  },
  {
   "cell_type": "code",
   "execution_count": null,
   "metadata": {
    "ExecuteTime": {
     "end_time": "2020-08-20T00:46:15.087669Z",
     "start_time": "2020-08-20T00:46:15.083531Z"
    }
   },
   "outputs": [],
   "source": [
    "## Get y outliers\n",
    "y_outliers = find_outliers_z(y)\n",
    "y_outliers.sum()"
   ]
  },
  {
   "cell_type": "code",
   "execution_count": null,
   "metadata": {
    "ExecuteTime": {
     "end_time": "2020-08-20T00:46:15.090666Z",
     "start_time": "2020-08-20T00:46:15.088909Z"
    }
   },
   "outputs": [],
   "source": [
    "# ## Make a DataFrame of Outliers\n",
    "# df_outliers = pd.DataFrame({'X':X_outliers,\n",
    "#                            'y':y_outliers})\n",
    "# df_outliers['any'] = df_outliers.any(axis=1)\n",
    "# ## Add column of any outliers\n",
    "# df_outliers['any'].value_counts()\n",
    "\n",
    "# idx_outliers = df_outliers['any'].copy()\n",
    "# ~idx_outliers"
   ]
  },
  {
   "cell_type": "code",
   "execution_count": null,
   "metadata": {
    "ExecuteTime": {
     "end_time": "2020-08-20T00:46:15.095037Z",
     "start_time": "2020-08-20T00:46:15.091967Z"
    }
   },
   "outputs": [],
   "source": [
    "len(X)"
   ]
  },
  {
   "cell_type": "code",
   "execution_count": null,
   "metadata": {
    "ExecuteTime": {
     "end_time": "2020-08-20T00:46:15.100622Z",
     "start_time": "2020-08-20T00:46:15.096619Z"
    }
   },
   "outputs": [],
   "source": [
    "idx_outliers = np.any(np.stack([X_outliers,y_outliers],axis=1), axis=1)\n",
    "idx_outliers.shape"
   ]
  },
  {
   "cell_type": "code",
   "execution_count": null,
   "metadata": {
    "ExecuteTime": {
     "end_time": "2020-08-20T00:46:15.283990Z",
     "start_time": "2020-08-20T00:46:15.101964Z"
    }
   },
   "outputs": [],
   "source": [
    "## Create X_clean and y_clean wihtout outliers\n",
    "X_clean = X[~idx_outliers].copy()\n",
    "y_clean = y[~idx_outliers].copy()\n",
    "\n",
    "## Check data with plot_data\n",
    "plot_data(X_clean,y_clean)"
   ]
  },
  {
   "cell_type": "code",
   "execution_count": null,
   "metadata": {
    "ExecuteTime": {
     "end_time": "2020-08-20T00:46:15.289087Z",
     "start_time": "2020-08-20T00:46:15.285136Z"
    }
   },
   "outputs": [],
   "source": [
    "## Turn code above for checking normality into a function \n",
    "def check_normality(X,y):\n",
    "    ## Visualize Distributions of X and y and Check Normality\n",
    "    fig, axes = plt.subplots(ncols=2,figsize=(10,5))\n",
    "\n",
    "    sns.distplot(X, ax=axes[0], kde=False,bins='auto')\n",
    "    axes[0].set(xlabel='X')\n",
    "\n",
    "    sns.distplot(y, ax=axes[1], kde=False,bins='auto',color='orange')\n",
    "    axes[1].set(xlabel='y')\n",
    "\n",
    "    print(\"X Normality: \",stats.normaltest(X))\n",
    "    print(\"y Normality: \",stats.normaltest(y))\n",
    "    return fig, axes\n"
   ]
  },
  {
   "cell_type": "code",
   "execution_count": null,
   "metadata": {
    "ExecuteTime": {
     "end_time": "2020-08-20T00:46:15.630527Z",
     "start_time": "2020-08-20T00:46:15.290528Z"
    }
   },
   "outputs": [],
   "source": [
    "check_normality(X_clean,y_clean)"
   ]
  },
  {
   "cell_type": "markdown",
   "metadata": {},
   "source": [
    "### OLS with Statsmodels (non-formula version)"
   ]
  },
  {
   "cell_type": "code",
   "execution_count": null,
   "metadata": {
    "ExecuteTime": {
     "end_time": "2020-08-20T00:46:15.646174Z",
     "start_time": "2020-08-20T00:46:15.631836Z"
    }
   },
   "outputs": [],
   "source": [
    "from statsmodels.regression.linear_model import OLS\n",
    "## Add a constant to X to include an intercept in our regression\n",
    "X_clean = sm.add_constant(X_clean)\n",
    "display(X_clean)"
   ]
  },
  {
   "cell_type": "code",
   "execution_count": null,
   "metadata": {
    "ExecuteTime": {
     "end_time": "2020-08-20T00:46:15.662691Z",
     "start_time": "2020-08-20T00:46:15.647454Z"
    }
   },
   "outputs": [],
   "source": [
    "## Make an OLS linear model using original X and y\n",
    "model = OLS(y_clean,X_clean).fit()\n",
    "## Check model summary\n",
    "model.summary()"
   ]
  },
  {
   "cell_type": "code",
   "execution_count": null,
   "metadata": {
    "ExecuteTime": {
     "end_time": "2020-08-20T00:46:15.799524Z",
     "start_time": "2020-08-20T00:46:15.664169Z"
    }
   },
   "outputs": [],
   "source": [
    "fig = sm.graphics.qqplot(model.resid,dist=stats.norm,fit=True,line='45')"
   ]
  },
  {
   "cell_type": "markdown",
   "metadata": {},
   "source": [
    "### Not Covered Previously"
   ]
  },
  {
   "cell_type": "code",
   "execution_count": null,
   "metadata": {
    "ExecuteTime": {
     "end_time": "2020-08-20T00:46:16.422101Z",
     "start_time": "2020-08-20T00:46:15.800886Z"
    }
   },
   "outputs": [],
   "source": [
    "fig = sm.graphics.plot_regress_exog(model, \"GrLivArea\", fig=plt.figure(figsize=(12,8)))"
   ]
  },
  {
   "cell_type": "markdown",
   "metadata": {},
   "source": [
    "## Statsmodels OLS - Formula Version"
   ]
  },
  {
   "cell_type": "code",
   "execution_count": null,
   "metadata": {
    "ExecuteTime": {
     "end_time": "2020-08-20T00:46:16.435541Z",
     "start_time": "2020-08-20T00:46:16.423911Z"
    }
   },
   "outputs": [],
   "source": [
    "## Make our formula-based Regression\n",
    "import statsmodels.formula.api as smf\n",
    "df_clean = df[~idx_outliers].copy()\n",
    "df_clean"
   ]
  },
  {
   "cell_type": "code",
   "execution_count": null,
   "metadata": {
    "ExecuteTime": {
     "end_time": "2020-08-20T00:46:16.582738Z",
     "start_time": "2020-08-20T00:46:16.436747Z"
    }
   },
   "outputs": [],
   "source": []
  },
  {
   "cell_type": "code",
   "execution_count": null,
   "metadata": {
    "ExecuteTime": {
     "end_time": "2020-08-20T00:46:17.113574Z",
     "start_time": "2020-08-20T00:46:16.584126Z"
    }
   },
   "outputs": [],
   "source": []
  },
  {
   "cell_type": "markdown",
   "metadata": {
    "colab_type": "text",
    "id": "3duKbXvPCH76"
   },
   "source": [
    "# Multiple Linear Regression"
   ]
  },
  {
   "cell_type": "markdown",
   "metadata": {
    "colab_type": "text",
    "id": "Mv_UA43ADTwx"
   },
   "source": [
    "## Single Regression\n",
    " $$y=mx+b$$\n",
    "\n",
    " $$y = \\beta_1 x_1 + \\beta_0 $$\n",
    "\n",
    "<br><br>\n",
    "## Multiple Predictor/X Variables\n",
    "\n",
    "$$ y = \\beta_0 + \\beta_1 x_1 + \\beta_2 x_2 +\\ldots + \\beta_n x_n $$\n",
    "\n",
    "<img src=\"https://raw.githubusercontent.com/learn-co-students/dsc-multiple-linear-regression-online-ds-ft-100719/master/images/multiple_reg.png\" width=400>\n",
    "\n",
    "#### $\\hat Y$ vs $Y$\n",
    "\n",
    "\n",
    "- Y: Actual value corresponding to a specific X value\n",
    "\n",
    "- \"Y hat\" ($\\hat Y$): Predicted value predicted fromn a specific X value.\n",
    "\n",
    "\n",
    "$$ \\hat y = \\hat\\beta_0 + \\hat\\beta_1 x_1 + \\hat\\beta_2 x_2 +\\ldots + \\hat\\beta_n x_n $$ \n",
    "\n",
    "where $n$ is the number of predictors, $\\beta_0$ is the intercept, and $\\hat y$ is the so-called \"fitted line\" or the predicted value associated with the dependent variable."
   ]
  },
  {
   "cell_type": "code",
   "execution_count": null,
   "metadata": {
    "ExecuteTime": {
     "end_time": "2020-08-20T00:46:17.119282Z",
     "start_time": "2020-08-20T00:46:17.116707Z"
    }
   },
   "outputs": [],
   "source": [
    "pd.set_option('display.max_columns',0)\n",
    "pd.set_option('display.float_format', lambda x: '%.3f' % x)"
   ]
  },
  {
   "cell_type": "code",
   "execution_count": null,
   "metadata": {
    "ExecuteTime": {
     "end_time": "2020-08-20T00:46:17.342057Z",
     "start_time": "2020-08-20T00:46:17.121757Z"
    }
   },
   "outputs": [],
   "source": [
    "# Load in ames dataset\n",
    "df = fs.datasets.load_ames_train(subset=False)\n",
    "columns = ['LotArea', '1stFlrSF', 'GrLivArea', 'SalePrice',\n",
    "           'BldgType', 'KitchenQual', 'SaleType', 'MSZoning', 'Street', 'Neighborhood']\n",
    "df = df[columns].copy()\n",
    "df.head()"
   ]
  },
  {
   "cell_type": "code",
   "execution_count": null,
   "metadata": {
    "ExecuteTime": {
     "end_time": "2020-08-20T00:46:17.352282Z",
     "start_time": "2020-08-20T00:46:17.343536Z"
    }
   },
   "outputs": [],
   "source": []
  },
  {
   "cell_type": "code",
   "execution_count": null,
   "metadata": {
    "ExecuteTime": {
     "end_time": "2020-08-20T00:46:17.378666Z",
     "start_time": "2020-08-20T00:46:17.353828Z"
    }
   },
   "outputs": [],
   "source": []
  },
  {
   "cell_type": "code",
   "execution_count": null,
   "metadata": {
    "ExecuteTime": {
     "end_time": "2020-08-20T00:46:18.475024Z",
     "start_time": "2020-08-20T00:46:17.379895Z"
    },
    "scrolled": false
   },
   "outputs": [],
   "source": []
  },
  {
   "cell_type": "markdown",
   "metadata": {
    "colab_type": "text",
    "id": "_NZQ0j94C_5W"
   },
   "source": [
    "# DEALING WITH CATEGORICAL VARIABLES"
   ]
  },
  {
   "cell_type": "markdown",
   "metadata": {
    "colab_type": "text",
    "id": "spM2oo60C_uV"
   },
   "source": [
    "- What are categorical variables?\n",
    "- Understand creating dummy variables for predictors.\n",
    "- Use pandas and Scikit-Learn to create dumies\n",
    "- Understand and avoid the \"dummy variable trap\""
   ]
  },
  {
   "cell_type": "markdown",
   "metadata": {
    "colab_type": "text",
    "id": "yXbSihZZC_r5"
   },
   "source": [
    "## What are categorical variables?\n",
    "- Variables that do not represent a continuous/ordinal number. "
   ]
  },
  {
   "cell_type": "markdown",
   "metadata": {
    "colab_type": "text",
    "id": "yXbSihZZC_r5"
   },
   "source": [
    "## Identifying categorical variables:\n",
    "What to look for?\n",
    "1. Column dtype is 'object'\n",
    "2. Use `df.describe()` -  check for min/max. Are they integers?\n",
    "3. Use scatterplots & histograms -  look for columns of datapoints"
   ]
  },
  {
   "cell_type": "code",
   "execution_count": null,
   "metadata": {
    "ExecuteTime": {
     "end_time": "2020-08-20T00:46:18.484203Z",
     "start_time": "2020-08-20T00:46:18.476120Z"
    }
   },
   "outputs": [],
   "source": []
  },
  {
   "cell_type": "code",
   "execution_count": null,
   "metadata": {
    "ExecuteTime": {
     "end_time": "2020-08-20T00:46:18.505291Z",
     "start_time": "2020-08-20T00:46:18.485921Z"
    }
   },
   "outputs": [],
   "source": []
  },
  {
   "cell_type": "code",
   "execution_count": null,
   "metadata": {
    "ExecuteTime": {
     "end_time": "2020-08-20T00:46:18.508751Z",
     "start_time": "2020-08-20T00:46:18.506572Z"
    }
   },
   "outputs": [],
   "source": []
  },
  {
   "cell_type": "code",
   "execution_count": null,
   "metadata": {
    "ExecuteTime": {
     "end_time": "2020-08-20T15:51:11.516825Z",
     "start_time": "2020-08-20T15:51:11.514299Z"
    }
   },
   "outputs": [],
   "source": [
    "## Separate List of Numeric vs Str Columns\\\n"
   ]
  },
  {
   "cell_type": "code",
   "execution_count": null,
   "metadata": {
    "ExecuteTime": {
     "end_time": "2020-08-20T15:51:15.544562Z",
     "start_time": "2020-08-20T15:51:15.542473Z"
    },
    "scrolled": false
   },
   "outputs": [],
   "source": [
    "## Inspect the Value Counts for Each Str Col\n"
   ]
  },
  {
   "cell_type": "code",
   "execution_count": null,
   "metadata": {
    "ExecuteTime": {
     "end_time": "2020-08-20T00:46:18.538532Z",
     "start_time": "2020-08-20T00:46:18.536724Z"
    },
    "scrolled": false
   },
   "outputs": [],
   "source": [
    "## Visualize Num Cols vs Target and Num Col Distrubtions\n"
   ]
  },
  {
   "cell_type": "markdown",
   "metadata": {
    "colab_type": "text",
    "id": "org3DLv4JH4d"
   },
   "source": [
    "## Transforming Categorical Variables"
   ]
  },
  {
   "cell_type": "markdown",
   "metadata": {
    "colab_type": "text",
    "id": "6YbpSwy9KvKP"
   },
   "source": [
    "To use categorical variables for regression, they must be transformed.\n",
    "There are 2 methods to dealing with them:\n",
    "1. Label Encoding\n",
    "    - Replace string categories with integer values (0 to n)\n",
    "    - Can be done with:\n",
    "        1. Pandas \n",
    "        2. Scikit Learn\n",
    "\n",
    "2. One-hot / dummy encoding\n",
    "    - Turn each category in a categorical variable into its own variable, that is either a 0 or 1. 0 for rows that do not belong to that sub-category. 1 for rows that belong to the sub-category\n",
    "    - Can be done with:\n",
    "        1. Pandas\n",
    "        2. Scikit Learn\n"
   ]
  },
  {
   "cell_type": "markdown",
   "metadata": {
    "colab_type": "text",
    "id": "GaDrcK3xX3Um"
   },
   "source": [
    "### Label Encoding"
   ]
  },
  {
   "cell_type": "code",
   "execution_count": null,
   "metadata": {},
   "outputs": [],
   "source": []
  },
  {
   "cell_type": "code",
   "execution_count": null,
   "metadata": {
    "ExecuteTime": {
     "end_time": "2020-08-20T15:51:19.280636Z",
     "start_time": "2020-08-20T15:51:19.278598Z"
    }
   },
   "outputs": [],
   "source": [
    "## Check the Value Counts for our test column - \"BldgType\"\n"
   ]
  },
  {
   "cell_type": "markdown",
   "metadata": {
    "colab_type": "text",
    "id": "_JPOEQNvX60n"
   },
   "source": [
    "#### Via pandas.cat.codes"
   ]
  },
  {
   "cell_type": "code",
   "execution_count": null,
   "metadata": {
    "ExecuteTime": {
     "end_time": "2020-08-20T15:51:22.685486Z",
     "start_time": "2020-08-20T15:51:22.683584Z"
    },
    "colab": {
     "base_uri": "https://localhost:8080/",
     "height": 204
    },
    "colab_type": "code",
    "id": "B0AvDDy-2g2q",
    "outputId": "a8732d5a-d247-4c65-c27f-2262e54fdf4e"
   },
   "outputs": [],
   "source": [
    "## Label Encode with .cat.codes\n"
   ]
  },
  {
   "cell_type": "code",
   "execution_count": null,
   "metadata": {
    "ExecuteTime": {
     "end_time": "2020-08-20T00:46:18.559995Z",
     "start_time": "2020-08-20T00:46:18.555191Z"
    }
   },
   "outputs": [],
   "source": []
  },
  {
   "cell_type": "markdown",
   "metadata": {
    "colab_type": "text",
    "id": "nqzMnlcBYA2J"
   },
   "source": [
    "#### Via Sklearn's LabelEncoder"
   ]
  },
  {
   "cell_type": "code",
   "execution_count": null,
   "metadata": {
    "ExecuteTime": {
     "end_time": "2020-08-20T15:51:45.717611Z",
     "start_time": "2020-08-20T15:51:44.194416Z"
    },
    "colab": {
     "base_uri": "https://localhost:8080/",
     "height": 34
    },
    "colab_type": "code",
    "id": "DodA8nSGZqSJ",
    "outputId": "9cc13796-a9f0-40a6-f4ca-8c0ae8557104"
   },
   "outputs": [],
   "source": [
    "## Using sklearn LabelEncoder\n",
    "from sklearn.preprocessing import LabelEncoder\n"
   ]
  },
  {
   "cell_type": "code",
   "execution_count": null,
   "metadata": {
    "ExecuteTime": {
     "end_time": "2020-08-20T00:46:18.572453Z",
     "start_time": "2020-08-20T00:46:18.568658Z"
    }
   },
   "outputs": [],
   "source": []
  },
  {
   "cell_type": "code",
   "execution_count": null,
   "metadata": {
    "ExecuteTime": {
     "end_time": "2020-08-20T00:46:18.578594Z",
     "start_time": "2020-08-20T00:46:18.573586Z"
    },
    "colab": {
     "base_uri": "https://localhost:8080/",
     "height": 85
    },
    "colab_type": "code",
    "id": "LAVjmHQnMHrp",
    "outputId": "89fded6d-a3e1-43ee-c4e2-ed1e32b2ad3e"
   },
   "outputs": [],
   "source": []
  },
  {
   "cell_type": "markdown",
   "metadata": {
    "colab_type": "text",
    "id": "hi98TnOoYMug"
   },
   "source": [
    "### Dummy Encoding / One-Hot Encoding"
   ]
  },
  {
   "cell_type": "markdown",
   "metadata": {
    "colab_type": "text",
    "id": "WCCKfFtxYMqD"
   },
   "source": [
    "#### Via Pandas.get_dummies()"
   ]
  },
  {
   "cell_type": "code",
   "execution_count": null,
   "metadata": {
    "ExecuteTime": {
     "end_time": "2020-08-20T00:46:18.599904Z",
     "start_time": "2020-08-20T00:46:18.579946Z"
    }
   },
   "outputs": [],
   "source": []
  },
  {
   "cell_type": "code",
   "execution_count": null,
   "metadata": {
    "ExecuteTime": {
     "end_time": "2020-08-20T00:46:18.619676Z",
     "start_time": "2020-08-20T00:46:18.601030Z"
    },
    "colab": {
     "base_uri": "https://localhost:8080/",
     "height": 204
    },
    "colab_type": "code",
    "id": "p8C__4U25FtQ",
    "outputId": "fe91d93f-9c17-40ba-8f71-d8492167e4ae"
   },
   "outputs": [],
   "source": []
  },
  {
   "cell_type": "code",
   "execution_count": null,
   "metadata": {
    "ExecuteTime": {
     "end_time": "2020-07-15T22:10:50.045884Z",
     "start_time": "2020-07-15T22:10:50.029698Z"
    },
    "colab": {
     "base_uri": "https://localhost:8080/",
     "height": 359
    },
    "colab_type": "code",
    "id": "GoMhXAgOhqrD",
    "outputId": "d9227a1c-ae4d-43b3-ef42-58cf97ed3f2a"
   },
   "outputs": [],
   "source": []
  },
  {
   "cell_type": "markdown",
   "metadata": {
    "colab_type": "text",
    "id": "A1o7B3dmaeGM"
   },
   "source": [
    "#### Via Scikit-Learn's LabelBinerizer"
   ]
  },
  {
   "cell_type": "code",
   "execution_count": null,
   "metadata": {
    "ExecuteTime": {
     "end_time": "2020-08-20T15:52:00.441567Z",
     "start_time": "2020-08-20T15:52:00.439310Z"
    },
    "colab": {
     "base_uri": "https://localhost:8080/",
     "height": 359
    },
    "colab_type": "code",
    "id": "jaTfcvNmYg7y",
    "outputId": "ee2d51c7-3403-4db6-90f2-19aec193de59"
   },
   "outputs": [],
   "source": [
    "from sklearn.preprocessing import LabelBinarizer\n"
   ]
  },
  {
   "cell_type": "markdown",
   "metadata": {
    "colab_type": "text",
    "id": "l90fioiAaoMp"
   },
   "source": [
    "### The Dummy Variable Trap\n"
   ]
  },
  {
   "cell_type": "code",
   "execution_count": null,
   "metadata": {
    "ExecuteTime": {
     "end_time": "2020-07-15T22:10:50.087964Z",
     "start_time": "2020-07-15T22:10:50.071920Z"
    },
    "colab": {
     "base_uri": "https://localhost:8080/",
     "height": 359
    },
    "colab_type": "code",
    "id": "U99sFz-uakSG",
    "outputId": "ee09ba62-7c39-4aff-fa37-3a97875d826d"
   },
   "outputs": [],
   "source": []
  },
  {
   "cell_type": "markdown",
   "metadata": {},
   "source": [
    "## Testing Out Our Model With Encoded Categorical Data"
   ]
  },
  {
   "cell_type": "code",
   "execution_count": null,
   "metadata": {
    "ExecuteTime": {
     "end_time": "2020-08-20T00:46:18.655000Z",
     "start_time": "2020-08-20T00:46:18.631324Z"
    }
   },
   "outputs": [],
   "source": []
  },
  {
   "cell_type": "code",
   "execution_count": null,
   "metadata": {
    "ExecuteTime": {
     "end_time": "2020-08-20T15:52:08.667110Z",
     "start_time": "2020-08-20T15:52:08.665046Z"
    }
   },
   "outputs": [],
   "source": [
    "## Dummy Encode categorical vars\n"
   ]
  },
  {
   "cell_type": "code",
   "execution_count": null,
   "metadata": {
    "ExecuteTime": {
     "end_time": "2020-08-20T00:46:18.747678Z",
     "start_time": "2020-08-20T00:46:18.726995Z"
    }
   },
   "outputs": [],
   "source": []
  },
  {
   "cell_type": "code",
   "execution_count": null,
   "metadata": {
    "ExecuteTime": {
     "end_time": "2020-08-20T00:46:18.772819Z",
     "start_time": "2020-08-20T00:46:18.749045Z"
    }
   },
   "outputs": [],
   "source": []
  },
  {
   "cell_type": "code",
   "execution_count": null,
   "metadata": {
    "ExecuteTime": {
     "end_time": "2020-08-20T00:46:18.779234Z",
     "start_time": "2020-08-20T00:46:18.773989Z"
    }
   },
   "outputs": [],
   "source": []
  },
  {
   "cell_type": "code",
   "execution_count": null,
   "metadata": {
    "ExecuteTime": {
     "end_time": "2020-08-20T00:46:18.783566Z",
     "start_time": "2020-08-20T00:46:18.780596Z"
    }
   },
   "outputs": [],
   "source": []
  },
  {
   "cell_type": "code",
   "execution_count": null,
   "metadata": {
    "ExecuteTime": {
     "end_time": "2020-08-20T00:46:18.788898Z",
     "start_time": "2020-08-20T00:46:18.784928Z"
    }
   },
   "outputs": [],
   "source": []
  },
  {
   "cell_type": "code",
   "execution_count": null,
   "metadata": {
    "ExecuteTime": {
     "end_time": "2020-08-20T15:52:21.610411Z",
     "start_time": "2020-08-20T15:52:21.608452Z"
    },
    "scrolled": false
   },
   "outputs": [],
   "source": [
    "## EITHER USE FORMULA OLS or normal OLS \n"
   ]
  },
  {
   "cell_type": "code",
   "execution_count": null,
   "metadata": {
    "ExecuteTime": {
     "end_time": "2020-07-15T22:49:12.486792Z",
     "start_time": "2020-07-15T22:49:12.476149Z"
    }
   },
   "outputs": [],
   "source": []
  },
  {
   "cell_type": "code",
   "execution_count": null,
   "metadata": {
    "ExecuteTime": {
     "end_time": "2020-08-20T00:46:18.877019Z",
     "start_time": "2020-08-20T00:46:18.875101Z"
    }
   },
   "outputs": [],
   "source": [
    "## Non-Formula OLS\n"
   ]
  },
  {
   "cell_type": "code",
   "execution_count": null,
   "metadata": {
    "ExecuteTime": {
     "end_time": "2020-08-20T00:46:18.880217Z",
     "start_time": "2020-08-20T00:46:18.878374Z"
    },
    "scrolled": false
   },
   "outputs": [],
   "source": [
    "## View Model Summary"
   ]
  },
  {
   "cell_type": "markdown",
   "metadata": {
    "colab_type": "text",
    "id": "iiPVlei9bA7g"
   },
   "source": [
    "# Multicollinearity\n",
    "- An additional concern to check for.\n",
    "- Rule of thumb is if correlation between vars is >0.70 is too high\n"
   ]
  },
  {
   "cell_type": "code",
   "execution_count": null,
   "metadata": {
    "ExecuteTime": {
     "end_time": "2020-08-20T15:52:28.365187Z",
     "start_time": "2020-08-20T15:52:28.363182Z"
    },
    "colab": {},
    "colab_type": "code",
    "id": "cA9VUoPIa8kE"
   },
   "outputs": [],
   "source": [
    "## Get the correlation matrix for our model_df\n"
   ]
  },
  {
   "cell_type": "code",
   "execution_count": null,
   "metadata": {
    "ExecuteTime": {
     "end_time": "2020-08-20T00:46:24.633040Z",
     "start_time": "2020-08-20T00:46:18.904388Z"
    },
    "colab": {},
    "colab_type": "code",
    "id": "cA9VUoPIa8kE"
   },
   "outputs": [],
   "source": []
  },
  {
   "cell_type": "code",
   "execution_count": null,
   "metadata": {
    "ExecuteTime": {
     "end_time": "2020-08-20T15:52:47.485088Z",
     "start_time": "2020-08-20T15:52:47.482518Z"
    }
   },
   "outputs": [],
   "source": [
    "# Checking Visually \n",
    "\n",
    "def multiplot():\n",
    "\n",
    "    return fig, ax\n"
   ]
  },
  {
   "cell_type": "markdown",
   "metadata": {
    "colab_type": "text",
    "id": "6oMctVCOfbM5"
   },
   "source": []
  },
  {
   "cell_type": "markdown",
   "metadata": {
    "colab_type": "text",
    "id": "EVqW9paafbKE"
   },
   "source": [
    "# "
   ]
  }
 ],
 "metadata": {
  "colab": {
   "collapsed_sections": [],
   "include_colab_link": true,
   "name": "section_08_Multiple_Regression_Part_1.ipynb",
   "provenance": []
  },
  "kernelspec": {
   "display_name": "learn-env",
   "language": "python",
   "name": "learn-env"
  },
  "language_info": {
   "codemirror_mode": {
    "name": "ipython",
    "version": 3
   },
   "file_extension": ".py",
   "mimetype": "text/x-python",
   "name": "python",
   "nbconvert_exporter": "python",
   "pygments_lexer": "ipython3",
   "version": "3.6.11"
  },
  "toc": {
   "base_numbering": 1,
   "nav_menu": {},
   "number_sections": true,
   "sideBar": true,
   "skip_h1_title": false,
   "title_cell": "Table of Contents",
   "title_sidebar": "Contents",
   "toc_cell": false,
   "toc_position": {
    "height": "calc(100% - 180px)",
    "left": "10px",
    "top": "150px",
    "width": "165px"
   },
   "toc_section_display": true,
   "toc_window_display": true
  },
  "varInspector": {
   "cols": {
    "lenName": 16,
    "lenType": 16,
    "lenVar": 40
   },
   "kernels_config": {
    "python": {
     "delete_cmd_postfix": "",
     "delete_cmd_prefix": "del ",
     "library": "var_list.py",
     "varRefreshCmd": "print(var_dic_list())"
    },
    "r": {
     "delete_cmd_postfix": ") ",
     "delete_cmd_prefix": "rm(",
     "library": "var_list.r",
     "varRefreshCmd": "cat(var_dic_list()) "
    }
   },
   "types_to_exclude": [
    "module",
    "function",
    "builtin_function_or_method",
    "instance",
    "_Feature"
   ],
   "window_display": false
  }
 },
 "nbformat": 4,
 "nbformat_minor": 1
}
