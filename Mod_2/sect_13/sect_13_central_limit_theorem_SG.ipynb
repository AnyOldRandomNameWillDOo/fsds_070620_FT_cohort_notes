{
 "cells": [
  {
   "cell_type": "markdown",
   "metadata": {
    "colab_type": "text",
    "id": "ZM6DyjYckZl2"
   },
   "source": [
    "\n",
    "# Sect 13: Central Limit Theorem"
   ]
  },
  {
   "cell_type": "markdown",
   "metadata": {
    "colab_type": "text",
    "id": "EM8QVDhSUCa_"
   },
   "source": [
    "- online-ds-ft-070620\n",
    "- 08/11/20\n"
   ]
  },
  {
   "cell_type": "markdown",
   "metadata": {
    "colab_type": "text",
    "id": "BWefqzWJoc_E"
   },
   "source": [
    "# Topics "
   ]
  },
  {
   "cell_type": "markdown",
   "metadata": {
    "colab_type": "text",
    "id": "BWefqzWJoc_E"
   },
   "source": [
    "- Review: Normal distribution/Standard Normal Distribution\n",
    "- Z-tests with Normal Distribution\n",
    "- Sampling\n",
    "- Central Limit Theorem\n",
    "- Confidence Intervals"
   ]
  },
  {
   "cell_type": "markdown",
   "metadata": {},
   "source": [
    "##  Resources for Hypothesis Testing"
   ]
  },
  {
   "cell_type": "markdown",
   "metadata": {},
   "source": [
    "- **[My Hypothesis Testing Guide/Repo](https://github.com/jirvingphd/hypothesis_testing_workflow_python)** (for next class)\n",
    "    - [Slideshow on Hypothesis Testing with scipy:](https://github.com/jirvingphd/hypothesis_testing_workflow_python/blob/master/Hypothesis%20Testing%20with%20SciPy_codeacademy%20slides.pdf)"
   ]
  },
  {
   "cell_type": "markdown",
   "metadata": {},
   "source": [
    "## Questions"
   ]
  },
  {
   "cell_type": "markdown",
   "metadata": {},
   "source": [
    "- Confidence Intervals with T Distribution readme vs lab - when to use np.std(sample, ddof=1) vs sample.std() and why do they yield different results?\n",
    "- Sampling statistics lab - go over key for sample_means function \n",
    "```python\n",
    "# Calculate sample mean for all combinations\n",
    "    for i in range(len(combs)):\n",
    "        sum = 0\n",
    "\n",
    "        for j in range(n):\n",
    "            key = combs[i][j]\n",
    "            val =data[str(combs[i][j])]\n",
    "            sum += val\n",
    "\n",
    "        x_bar = sum/n\n",
    "        x_bar_list.append(x_bar)\n",
    "    print (\"The mean of all sample means mu_x_hat is:\", np.mean(x_bar_list))\n",
    "\n",
    "    return combs, x_bar_list\n",
    "```\n"
   ]
  },
  {
   "cell_type": "markdown",
   "metadata": {
    "colab_type": "text",
    "id": "dT1toD0noc3A"
   },
   "source": [
    "# Review: Normal Distribution"
   ]
  },
  {
   "cell_type": "markdown",
   "metadata": {},
   "source": [
    "> **The Normal Distribution is symmetrical and its mean, median and mode are equal.** \n",
    "* area under curve is equal to 1.0\n",
    "* denser in the center and less dense in the tails\n",
    "* defined by two parameters, the mean ($\\mu$) and the standard deviation ($\\sigma$).\n",
    "\n",
    "> **The Standardized Normal Distribution** is a special case of the Normal Distribution where the mean is 0 and the std is 1.\n",
    "    \n",
    "\n",
    "<center><img src=\"https://raw.githubusercontent.com/jirvingphd/dsc-normal-distribution-online-ds-ft-100719/master/images/normal_sd_new.png\" width=600></center>\n"
   ]
  },
  {
   "cell_type": "markdown",
   "metadata": {},
   "source": [
    "- Special case of the normal distribution where $\\mu=0$ and $\\sigma=1$"
   ]
  },
  {
   "cell_type": "code",
   "execution_count": 1,
   "metadata": {
    "ExecuteTime": {
     "end_time": "2020-08-11T15:11:53.776764Z",
     "start_time": "2020-08-11T15:11:52.154860Z"
    }
   },
   "outputs": [
    {
     "name": "stdout",
     "output_type": "stream",
     "text": [
      "fsds v0.2.22 loaded.  Read the docs: https://fs-ds.readthedocs.io/en/latest/ \n"
     ]
    },
    {
     "data": {
      "text/html": [
       "<style  type=\"text/css\" >\n",
       "</style><table id=\"T_fd03d676_dbe4_11ea_a379_acde48001122\" ><caption>Loaded Packages and Handles</caption><thead>    <tr>        <th class=\"col_heading level0 col0\" >Handle</th>        <th class=\"col_heading level0 col1\" >Package</th>        <th class=\"col_heading level0 col2\" >Description</th>    </tr></thead><tbody>\n",
       "                <tr>\n",
       "                                <td id=\"T_fd03d676_dbe4_11ea_a379_acde48001122row0_col0\" class=\"data row0 col0\" >dp</td>\n",
       "                        <td id=\"T_fd03d676_dbe4_11ea_a379_acde48001122row0_col1\" class=\"data row0 col1\" >IPython.display</td>\n",
       "                        <td id=\"T_fd03d676_dbe4_11ea_a379_acde48001122row0_col2\" class=\"data row0 col2\" >Display modules with helpful display and clearing commands.</td>\n",
       "            </tr>\n",
       "            <tr>\n",
       "                                <td id=\"T_fd03d676_dbe4_11ea_a379_acde48001122row1_col0\" class=\"data row1 col0\" >fs</td>\n",
       "                        <td id=\"T_fd03d676_dbe4_11ea_a379_acde48001122row1_col1\" class=\"data row1 col1\" >fsds</td>\n",
       "                        <td id=\"T_fd03d676_dbe4_11ea_a379_acde48001122row1_col2\" class=\"data row1 col2\" >Custom data science bootcamp student package</td>\n",
       "            </tr>\n",
       "            <tr>\n",
       "                                <td id=\"T_fd03d676_dbe4_11ea_a379_acde48001122row2_col0\" class=\"data row2 col0\" >mpl</td>\n",
       "                        <td id=\"T_fd03d676_dbe4_11ea_a379_acde48001122row2_col1\" class=\"data row2 col1\" >matplotlib</td>\n",
       "                        <td id=\"T_fd03d676_dbe4_11ea_a379_acde48001122row2_col2\" class=\"data row2 col2\" >Matplotlib's base OOP module with formatting artists</td>\n",
       "            </tr>\n",
       "            <tr>\n",
       "                                <td id=\"T_fd03d676_dbe4_11ea_a379_acde48001122row3_col0\" class=\"data row3 col0\" >plt</td>\n",
       "                        <td id=\"T_fd03d676_dbe4_11ea_a379_acde48001122row3_col1\" class=\"data row3 col1\" >matplotlib.pyplot</td>\n",
       "                        <td id=\"T_fd03d676_dbe4_11ea_a379_acde48001122row3_col2\" class=\"data row3 col2\" >Matplotlib's matlab-like plotting module</td>\n",
       "            </tr>\n",
       "            <tr>\n",
       "                                <td id=\"T_fd03d676_dbe4_11ea_a379_acde48001122row4_col0\" class=\"data row4 col0\" >np</td>\n",
       "                        <td id=\"T_fd03d676_dbe4_11ea_a379_acde48001122row4_col1\" class=\"data row4 col1\" >numpy</td>\n",
       "                        <td id=\"T_fd03d676_dbe4_11ea_a379_acde48001122row4_col2\" class=\"data row4 col2\" >scientific computing with Python</td>\n",
       "            </tr>\n",
       "            <tr>\n",
       "                                <td id=\"T_fd03d676_dbe4_11ea_a379_acde48001122row5_col0\" class=\"data row5 col0\" >pd</td>\n",
       "                        <td id=\"T_fd03d676_dbe4_11ea_a379_acde48001122row5_col1\" class=\"data row5 col1\" >pandas</td>\n",
       "                        <td id=\"T_fd03d676_dbe4_11ea_a379_acde48001122row5_col2\" class=\"data row5 col2\" >High performance data structures and tools</td>\n",
       "            </tr>\n",
       "            <tr>\n",
       "                                <td id=\"T_fd03d676_dbe4_11ea_a379_acde48001122row6_col0\" class=\"data row6 col0\" >sns</td>\n",
       "                        <td id=\"T_fd03d676_dbe4_11ea_a379_acde48001122row6_col1\" class=\"data row6 col1\" >seaborn</td>\n",
       "                        <td id=\"T_fd03d676_dbe4_11ea_a379_acde48001122row6_col2\" class=\"data row6 col2\" >High-level data visualization library based on matplotlib</td>\n",
       "            </tr>\n",
       "    </tbody></table>"
      ],
      "text/plain": [
       "<pandas.io.formats.style.Styler at 0x1126c8278>"
      ]
     },
     "metadata": {},
     "output_type": "display_data"
    },
    {
     "data": {
      "text/html": [
       "        <script type=\"text/javascript\">\n",
       "        window.PlotlyConfig = {MathJaxConfig: 'local'};\n",
       "        if (window.MathJax) {MathJax.Hub.Config({SVG: {font: \"STIX-Web\"}});}\n",
       "        if (typeof require !== 'undefined') {\n",
       "        require.undef(\"plotly\");\n",
       "        requirejs.config({\n",
       "            paths: {\n",
       "                'plotly': ['https://cdn.plot.ly/plotly-latest.min']\n",
       "            }\n",
       "        });\n",
       "        require(['plotly'], function(Plotly) {\n",
       "            window._Plotly = Plotly;\n",
       "        });\n",
       "        }\n",
       "        </script>\n",
       "        "
      ]
     },
     "metadata": {},
     "output_type": "display_data"
    },
    {
     "data": {
      "text/html": [
       "        <script type=\"text/javascript\">\n",
       "        window.PlotlyConfig = {MathJaxConfig: 'local'};\n",
       "        if (window.MathJax) {MathJax.Hub.Config({SVG: {font: \"STIX-Web\"}});}\n",
       "        if (typeof require !== 'undefined') {\n",
       "        require.undef(\"plotly\");\n",
       "        requirejs.config({\n",
       "            paths: {\n",
       "                'plotly': ['https://cdn.plot.ly/plotly-latest.min']\n",
       "            }\n",
       "        });\n",
       "        require(['plotly'], function(Plotly) {\n",
       "            window._Plotly = Plotly;\n",
       "        });\n",
       "        }\n",
       "        </script>\n",
       "        "
      ]
     },
     "metadata": {},
     "output_type": "display_data"
    },
    {
     "name": "stdout",
     "output_type": "stream",
     "text": [
      "[i] Pandas .iplot() method activated.\n"
     ]
    }
   ],
   "source": [
    "# !pip install -U fsds\n",
    "from fsds.imports import *\n",
    "import scipy.stats as stats"
   ]
  },
  {
   "cell_type": "code",
   "execution_count": 2,
   "metadata": {
    "ExecuteTime": {
     "end_time": "2020-08-11T15:11:53.999756Z",
     "start_time": "2020-08-11T15:11:53.778035Z"
    }
   },
   "outputs": [
    {
     "data": {
      "text/plain": [
       "(<Figure size 720x432 with 1 Axes>,\n",
       " <AxesSubplot:xlabel='Standard Deviation Units (sigma)', ylabel='Density'>)"
      ]
     },
     "execution_count": 2,
     "metadata": {},
     "output_type": "execute_result"
    },
    {
     "data": {
      "image/png": "[encoded data removed]",
      "text/plain": [
       "<Figure size 720x432 with 1 Axes>"
      ]
     },
     "metadata": {
      "needs_background": "light"
     },
     "output_type": "display_data"
    }
   ],
   "source": [
    "x = np.arange(-4,4,.01)\n",
    "y = stats.norm.pdf(x)\n",
    "\n",
    "def plot_normal(x=None,y=None,mean=0,std=1,label='Normal Distribution'):\n",
    "    \"\"\"Plots x,y (normal distrubtion)\"\"\"\n",
    "    \n",
    "    ## Generate Distribution if x and y not provided\n",
    "    if x is None:\n",
    "        x = np.arange(-4,4,.01)\n",
    "    if y is None:\n",
    "        y = stats.norm.pdf(x,loc=mean,scale=std)\n",
    "\n",
    "    ## Plot the distribution \n",
    "    fig,ax = plt.subplots(figsize=(10,6))\n",
    "    ax.plot(x,y,lw=3,label=label)\n",
    "    \n",
    "    ## Plot the mean and std grid\n",
    "    ax.axvline(mean,color='k',label='Mean',lw=2,ls='--',zorder=0)\n",
    "    ax.grid(which='major',axis='x')\n",
    "    \n",
    "    ## Add labels\n",
    "    ax.set(xlabel='Standard Deviation Units (sigma)',\n",
    "           ylabel='Density',\n",
    "           ylim=0,\n",
    "           xlim=(round(min(x)),round(max(x))))\n",
    "    ax.legend()\n",
    "    \n",
    "    return fig,ax\n",
    "\n",
    "plot_normal()"
   ]
  },
  {
   "cell_type": "code",
   "execution_count": null,
   "metadata": {
    "ExecuteTime": {
     "end_time": "2020-08-11T15:11:34.461673Z",
     "start_time": "2020-08-11T15:11:34.086343Z"
    }
   },
   "outputs": [],
   "source": [
    "dfh = fs.datasets.load_height_weight()\n",
    "dfh = dfh.groupby('Gender').get_group('Male')\n",
    "dfh"
   ]
  },
  {
   "cell_type": "code",
   "execution_count": null,
   "metadata": {
    "ExecuteTime": {
     "end_time": "2020-08-11T15:11:34.710817Z",
     "start_time": "2020-08-11T15:11:34.463396Z"
    }
   },
   "outputs": [],
   "source": [
    "\n",
    "sns.distplot(dfh['Height'])\n",
    "stats.normaltest(dfh['Height'])\n",
    "# dfh[['Height']].hist(bins='auto',figsize=(8,5))"
   ]
  },
  {
   "cell_type": "markdown",
   "metadata": {},
   "source": [
    "## Standardized Normal Distribution"
   ]
  },
  {
   "cell_type": "markdown",
   "metadata": {
    "ExecuteTime": {
     "end_time": "2020-01-17T21:14:10.883191Z",
     "start_time": "2020-01-17T21:14:10.881053Z"
    }
   },
   "source": [
    "### Z-Scores"
   ]
  },
  {
   "cell_type": "markdown",
   "metadata": {},
   "source": [
    "The standard score (more commonly referred to as a $z$-score) is a very useful statistic because it allows us to:\n",
    "1. Calculate the probability of a certain score occurring within a given normal distribution and \n",
    "2. Compare two scores that are from different normal distributions.\n",
    "\n",
    "Any normal distribution can be converted to a standard normal distribution and vice versa using this\n",
    "equation:\n",
    "\n",
    "$$\\Large z=\\frac{x-\\mu}{\\sigma}$$\n",
    "\n",
    "- where $x$ is an individual data point\n",
    "- $\\mu$ is the mean\n",
    "- $\\sigma$ is the standard deviation"
   ]
  },
  {
   "cell_type": "code",
   "execution_count": null,
   "metadata": {
    "ExecuteTime": {
     "end_time": "2020-08-11T15:11:34.716981Z",
     "start_time": "2020-08-11T15:11:34.711807Z"
    }
   },
   "outputs": [],
   "source": [
    "dfh['HeightZ'] = (dfh[\"Height\"] - dfh['Height'].mean())/ dfh['Height'].std()\n",
    "# dfh['WeightZ'] = (dfh[\"Weight\"] - dfh['Weight'].mean()) /dfh['Weight'].std()"
   ]
  },
  {
   "cell_type": "code",
   "execution_count": null,
   "metadata": {
    "ExecuteTime": {
     "end_time": "2020-08-11T15:11:35.169190Z",
     "start_time": "2020-08-11T15:11:34.717991Z"
    }
   },
   "outputs": [],
   "source": [
    "dfh[['Height','HeightZ']].hist(figsize=(12,5),bins='auto')"
   ]
  },
  {
   "cell_type": "markdown",
   "metadata": {},
   "source": [
    "- Once data is standardized, can start answering questions about population membership using $Z$-Tests"
   ]
  },
  {
   "cell_type": "markdown",
   "metadata": {},
   "source": [
    "___"
   ]
  },
  {
   "cell_type": "markdown",
   "metadata": {
    "colab_type": "text",
    "id": "-ryhenIMk2bH"
   },
   "source": [
    "# Statistical Testing with Z-scores and p-values"
   ]
  },
  {
   "cell_type": "markdown",
   "metadata": {
    "colab_type": "text",
    "id": "tTSol_nkk5LW"
   },
   "source": [
    "## Population vs Sample\n",
    "<img src=\"https://raw.githubusercontent.com/jirvingphd/dsc-z-score-p-value-online-ds-ft-100719/master/images/sample.png\" width=40%>\n",
    "\n",
    "\n",
    ">A **population** is the collection of **all the items of interest in a study**. The numbers you obtain when using a population are called **parameters**.\n",
    "\n",
    "> A **sample** is a **subset of the population**. The numbers you obtain when working with a sample are called **statistics**.\n",
    "\n"
   ]
  },
  {
   "cell_type": "markdown",
   "metadata": {
    "colab_type": "text",
    "id": "SkL-KNS2rPGd"
   },
   "source": [
    "## What Are Hypotheses ?"
   ]
  },
  {
   "cell_type": "markdown",
   "metadata": {
    "colab_type": "text",
    "id": "SkL-KNS2rPGd"
   },
   "source": [
    "- Null Hypothesis: $H_0$ there is no relationship / the samples come from the same population.\n",
    "\n",
    "- Alternative: $H_A$/$H_1$ there is a relationship / the samples DO NOT come from same distribution"
   ]
  },
  {
   "cell_type": "markdown",
   "metadata": {
    "colab_type": "text",
    "id": "TCgnbI1hrRIz"
   },
   "source": [
    " ### $\\large \\alpha$= 0.05\n",
    "\n",
    "\n",
    "- What does it mean?\n",
    "    - cutoff for judging whether our sample is \"significantly\" different than the population.\n",
    "    - % chance that you would observe this sample from your population dataset\n",
    "\n",
    "\n",
    "\n"
   ]
  },
  {
   "cell_type": "markdown",
   "metadata": {
    "colab_type": "text",
    "id": "kWuQRi1xlBH8"
   },
   "source": [
    "### One-Sample $z$-test"
   ]
  },
  {
   "cell_type": "markdown",
   "metadata": {
    "colab_type": "text",
    "id": "kWuQRi1xlBH8"
   },
   "source": [
    "> **The one-sample $z$-test is used only for tests related to the sample mean.** \n",
    "<img src=\"https://raw.githubusercontent.com/learn-co-students/dsc-z-score-p-value-online-ds-pt-100719/master/images/pvalue.png\" width=70%>\n",
    "\n",
    "\n",
    "<!---<img src=\"https://raw.githubusercontent.com/jirvingphd/dsc-z-score-p-value-online-ds-ft-100719/master/images/cumprob2.png\" width=400--->"
   ]
  },
  {
   "cell_type": "markdown",
   "metadata": {
    "colab_type": "text",
    "id": "yS5r2H5ZrRGf"
   },
   "source": [
    "\n",
    "\n",
    "| Set     | $H_0   $    | $H_a$ | Tails |\n",
    "|---------|-------|-------|-------|\n",
    "|<img width=30/>|<img width=100/>|<img width=100/>|<img width=50/>|\n",
    "| 1  | $\\mu= M $ |$\\mu \\neq M $ | 2  | \n",
    "| 2  | $\\mu \\geq M $ |$\\mu < M $ | 1  | \n",
    "| 3  | $\\mu \\leq M $ |$\\mu > M $ | 1  | \n"
   ]
  },
  {
   "cell_type": "code",
   "execution_count": null,
   "metadata": {
    "ExecuteTime": {
     "end_time": "2020-08-11T15:11:35.172704Z",
     "start_time": "2020-08-11T15:11:35.170490Z"
    }
   },
   "outputs": [],
   "source": [
    "potential_alien_lifeform = 77#height"
   ]
  },
  {
   "cell_type": "markdown",
   "metadata": {},
   "source": [
    "#### State our Hypothesis and Null Hypothesis\n",
    "$H_0$ =  The lifeform's height comes from the human population. \n",
    "\n",
    "$H_1$ = The lifesform's height is significantly different than humans. (its from another population)."
   ]
  },
  {
   "cell_type": "code",
   "execution_count": null,
   "metadata": {
    "ExecuteTime": {
     "end_time": "2020-08-11T15:11:35.176999Z",
     "start_time": "2020-08-11T15:11:35.174857Z"
    }
   },
   "outputs": [],
   "source": [
    "plt.rcParams['figure.figsize'] = (10,5)"
   ]
  },
  {
   "cell_type": "code",
   "execution_count": null,
   "metadata": {
    "ExecuteTime": {
     "end_time": "2020-08-11T15:11:35.449701Z",
     "start_time": "2020-08-11T15:11:35.178447Z"
    }
   },
   "outputs": [],
   "source": [
    "axes = dfh[['Height']].hist(bins='auto',figsize=(10,5))\n",
    "ax = axes[0][0]\n",
    "\n",
    "meanH = dfh['Height'].mean()\n",
    "stdH = dfh[\"Height\"].std()\n",
    "\n",
    "ax.axvline(meanH,c='k')\n",
    "fig =ax.get_figure()\n",
    "\n",
    "ax.axvline(potential_alien_lifeform,color='red',label= 'Potential Alien')\n",
    "ax.legend()"
   ]
  },
  {
   "cell_type": "code",
   "execution_count": null,
   "metadata": {
    "ExecuteTime": {
     "end_time": "2020-08-11T15:11:35.454154Z",
     "start_time": "2020-08-11T15:11:35.450765Z"
    }
   },
   "outputs": [],
   "source": [
    "from scipy import stats\n",
    "\n",
    "## Use standardized normal distribution for Z-test\n",
    "z_alien = (potential_alien_lifeform - meanH) /stdH\n",
    "z_alien"
   ]
  },
  {
   "cell_type": "code",
   "execution_count": null,
   "metadata": {
    "ExecuteTime": {
     "end_time": "2020-08-11T15:11:35.731044Z",
     "start_time": "2020-08-11T15:11:35.455250Z"
    }
   },
   "outputs": [],
   "source": [
    "ax = dfh['HeightZ'].hist(bins='auto')\n",
    "fig = ax.get_figure()\n",
    "ax.axvline(z_alien,color='red',label=round(z_alien,3))\n",
    "ax.legend()"
   ]
  },
  {
   "cell_type": "markdown",
   "metadata": {},
   "source": [
    "- [Scipy.stats.norm documentation](https://docs.scipy.org/doc/scipy/reference/generated/scipy.stats.norm.html)"
   ]
  },
  {
   "cell_type": "code",
   "execution_count": null,
   "metadata": {
    "ExecuteTime": {
     "end_time": "2020-08-11T15:11:35.735897Z",
     "start_time": "2020-08-11T15:11:35.732485Z"
    }
   },
   "outputs": [],
   "source": [
    "critical_value = stats.norm.ppf(1-.05)\n",
    "critical_value"
   ]
  },
  {
   "cell_type": "code",
   "execution_count": null,
   "metadata": {
    "ExecuteTime": {
     "end_time": "2020-08-11T15:11:35.960462Z",
     "start_time": "2020-08-11T15:11:35.737044Z"
    }
   },
   "outputs": [],
   "source": [
    "ax.axvline(critical_value,color='green',ls=':',label='critical value')\n",
    "ax.legend()\n",
    "fig"
   ]
  },
  {
   "cell_type": "code",
   "execution_count": null,
   "metadata": {
    "ExecuteTime": {
     "end_time": "2020-08-11T15:11:35.964617Z",
     "start_time": "2020-08-11T15:11:35.961472Z"
    }
   },
   "outputs": [],
   "source": [
    "alpha=0.05\n",
    "1 - stats.norm.cdf(z_alien)"
   ]
  },
  {
   "cell_type": "code",
   "execution_count": null,
   "metadata": {
    "ExecuteTime": {
     "end_time": "2020-08-11T15:11:36.169445Z",
     "start_time": "2020-08-11T15:11:35.965897Z"
    },
    "scrolled": false
   },
   "outputs": [],
   "source": [
    "## Get normal dist figure\n",
    "fig,ax =plot_normal(x,y)\n",
    "\n",
    "## Critical Values (from z-table lookup)\n",
    "crit_z_hi = 1.96\n",
    "crit_z_low= -crit_z_hi\n",
    "\n",
    "## Plot critical values \n",
    "crit_kws = dict(c='red',ls=':')\n",
    "ax.axvline(crit_z_hi,**crit_kws)\n",
    "ax.axvline(crit_z_low,**crit_kws)\n",
    "\n",
    "# Fill tails\n",
    "ax.fill_between(x,y,where=(x>crit_z_hi)|(x<crit_z_low),color='red')#&(y)"
   ]
  },
  {
   "cell_type": "code",
   "execution_count": null,
   "metadata": {},
   "outputs": [],
   "source": []
  },
  {
   "cell_type": "markdown",
   "metadata": {
    "colab_type": "text",
    "id": "5Y6ZIDTjNht-"
   },
   "source": [
    "\n",
    "<!---For $z$-tests, a $z$-statistic is used as our test statistic. You'll see other test statistics suitable for other tests later. A one-sample $z$-statistic is calculated as:\n",
    "\n",
    "$$ \\large \\text{z-statistic} = \\dfrac{\\bar x - \\mu_0}{{\\sigma}/{\\sqrt{n}}} $$\n",
    "\n",
    "This formula slightly differs from the standard score formula. It includes the square root of $n$ to reflect that we are dealing with the sample variance here. \n",
    "\n",
    "Now, all you need to do is use this formula given your sample mean $\\bar x$, the population standard deviation $\\sigma$, and the number of items in the sample ($n$). $\\mu_0$ is the mean you're testing the hypothesis for, or the \"hypothesized mean\". --->\n"
   ]
  },
  {
   "cell_type": "markdown",
   "metadata": {},
   "source": [
    "# Central Limit Theorem"
   ]
  },
  {
   "cell_type": "markdown",
   "metadata": {},
   "source": [
    "The Central Limit Theorem states: \n",
    "\n",
    "- No matter what populations distribtuon shape, the means of samples from the population will form a normal distribution.\n",
    "\n",
    "\n",
    "\n",
    "\n",
    "***The key takeaway from the central limit theorem is that it allows different distributions to be processed as a normal distribution, even when they do not fulfill the normality requirements shown above. We'll discuss this further when we talk about hypothesis testing.***\n",
    "\n",
    "[Here is an interesting youtube video highlighting this phenomenon](https://www.youtube.com/watch?v=AUSKTk9ENzg) for now. We will consider this in detail later. "
   ]
  },
  {
   "cell_type": "markdown",
   "metadata": {},
   "source": [
    "> \"The central limit theorem states that, under many conditions, independent random variables summed together will converge to a normal distribution as the number of variables increases.\"\n",
    "- This becomes very useful for applying statistical logic to sample statistics in order to estimate population parameters.\n",
    "- The means of samples from the population will form a normal distribution, ***no matter what how a population's distribution is shaped!***\n"
   ]
  },
  {
   "cell_type": "code",
   "execution_count": null,
   "metadata": {
    "ExecuteTime": {
     "end_time": "2020-08-11T15:11:36.493970Z",
     "start_time": "2020-08-11T15:11:36.170639Z"
    }
   },
   "outputs": [],
   "source": [
    "population = dfh['Height'].copy()\n",
    "ax = population.hist(bins='auto')\n",
    "ax.axvline(population.mean(),label=f'Mean = {round(population.mean(),2)}',color='k')\n",
    "ax.legend()"
   ]
  },
  {
   "cell_type": "code",
   "execution_count": null,
   "metadata": {
    "ExecuteTime": {
     "end_time": "2020-08-11T15:11:36.668852Z",
     "start_time": "2020-08-11T15:11:36.495077Z"
    }
   },
   "outputs": [],
   "source": [
    "SAMPLE = population.sample(n=32, random_state=3210)\n",
    "\n",
    "ax = SAMPLE.hist(bins='auto')\n",
    "ax.axvline(SAMPLE.mean(),label=f'Mean = {round(SAMPLE.mean(),2)}',color='k')\n",
    "ax.legend()"
   ]
  },
  {
   "cell_type": "code",
   "execution_count": null,
   "metadata": {
    "ExecuteTime": {
     "end_time": "2020-08-11T15:11:36.674688Z",
     "start_time": "2020-08-11T15:11:36.670043Z"
    }
   },
   "outputs": [],
   "source": [
    "stats.normaltest(SAMPLE)"
   ]
  },
  {
   "cell_type": "code",
   "execution_count": null,
   "metadata": {
    "ExecuteTime": {
     "end_time": "2020-08-11T15:11:36.679056Z",
     "start_time": "2020-08-11T15:11:36.676091Z"
    }
   },
   "outputs": [],
   "source": [
    "# import scipy.stats as stats\n",
    "def test_for_normality(x,label=None,get_p=False):\n",
    "    stat,p = stats.normaltest(x)\n",
    "    if p < .05:\n",
    "        label_suffix = f\"Not Normal: p={round(p,4)}\"\n",
    "    else:\n",
    "        label_suffix = f\"Normal: p={round(p,4)}\"\n",
    "    return label_suffix"
   ]
  },
  {
   "cell_type": "code",
   "execution_count": null,
   "metadata": {
    "ExecuteTime": {
     "end_time": "2020-08-11T15:11:36.684949Z",
     "start_time": "2020-08-11T15:11:36.680158Z"
    }
   },
   "outputs": [],
   "source": [
    "test_for_normality(SAMPLE)"
   ]
  },
  {
   "cell_type": "markdown",
   "metadata": {},
   "source": [
    "### Demonstrating How Taking Many Samples Creates a Normal Distribution of Means (like in CLT Lab)"
   ]
  },
  {
   "cell_type": "code",
   "execution_count": null,
   "metadata": {
    "ExecuteTime": {
     "end_time": "2020-08-11T15:11:36.689937Z",
     "start_time": "2020-08-11T15:11:36.686175Z"
    }
   },
   "outputs": [],
   "source": [
    "## CLT Lab\n",
    "def get_sample(data, n):\n",
    "    return data.sample(n,replace=True).values\n",
    "\n",
    "def get_sample_mean(sample):\n",
    "    return sample.mean()\n",
    "\n",
    "def create_sample_distribution(data, dist_size=100, n=30):\n",
    "    sample_means = []\n",
    "    for i in range(dist_size):\n",
    "        sample = get_sample(data,n)\n",
    "        sample_means.append( get_sample_mean(sample))\n",
    "    return sample_means"
   ]
  },
  {
   "cell_type": "code",
   "execution_count": null,
   "metadata": {
    "ExecuteTime": {
     "end_time": "2020-08-11T15:11:36.693242Z",
     "start_time": "2020-08-11T15:11:36.691242Z"
    }
   },
   "outputs": [],
   "source": [
    "sample_size = 20\n",
    "N_SAMPLES = 50"
   ]
  },
  {
   "cell_type": "code",
   "execution_count": null,
   "metadata": {
    "ExecuteTime": {
     "end_time": "2020-08-11T15:11:36.713589Z",
     "start_time": "2020-08-11T15:11:36.696370Z"
    }
   },
   "outputs": [],
   "source": [
    "## RESAMPLE AND PLOT MEANS\n",
    "## Empty lists for samples and means\n",
    "samples = [] \n",
    "sample_means = []\n",
    "\n",
    "## Get Samples & Means\n",
    "for i in range(N_SAMPLES):\n",
    "    sample = SAMPLE.sample(sample_size)\n",
    "    samples.append(sample)\n",
    "    sample_means.append(sample.mean())\n"
   ]
  },
  {
   "cell_type": "code",
   "execution_count": null,
   "metadata": {
    "ExecuteTime": {
     "end_time": "2020-08-11T15:11:36.901581Z",
     "start_time": "2020-08-11T15:11:36.715200Z"
    }
   },
   "outputs": [],
   "source": [
    "ax = sns.distplot(SAMPLE)\n",
    "ax.set_title(f'Original Sample of {len(SAMPLE)}')\n",
    "print(stats.normaltest(SAMPLE))\n",
    "test_for_normality(SAMPLE)"
   ]
  },
  {
   "cell_type": "code",
   "execution_count": null,
   "metadata": {
    "ExecuteTime": {
     "end_time": "2020-08-11T15:11:37.087019Z",
     "start_time": "2020-08-11T15:11:36.902750Z"
    }
   },
   "outputs": [],
   "source": [
    "## Plot sample means\n",
    "ax = sns.distplot(sample_means, color='red',\n",
    "                  label=f\"Data is {test_for_normality(sample_means)}\")\n",
    "ax.set_title(f\"Sample Means of {N_SAMPLES} with (n={sample_size})\")\n",
    "ax.legend()"
   ]
  },
  {
   "cell_type": "markdown",
   "metadata": {},
   "source": [
    "## The T-Distribution & T-Tests"
   ]
  },
  {
   "cell_type": "code",
   "execution_count": null,
   "metadata": {
    "ExecuteTime": {
     "end_time": "2020-08-11T15:11:37.316634Z",
     "start_time": "2020-08-11T15:11:37.088232Z"
    }
   },
   "outputs": [],
   "source": [
    "## The T-Distribution\n",
    "x = np.arange(-3,3,.01)\n",
    "y = stats.norm.pdf(x,loc=0,scale=1)\n",
    "\n",
    "## Plot the Normal Distrubtion\n",
    "fig,ax = plot_normal(x,y)#plt.subplots(figsize=(8,4),nrows=1)\n",
    "# ax.plot(x,y,zorder=-1,lw=3,label='Normal Distribution')\n",
    "\n",
    "## Adding T-Distribution \n",
    "for degrees_freedom in [1,2,3,1000]:#,5]:#,10,1000]:\n",
    "#     degrees_freedom=5\n",
    "    y_T = stats.t.pdf(x,df=degrees_freedom)\n",
    "\n",
    "    ax.plot(x,y_T,zorder=-1,ls='--',lw=1,label=f'T Distribution (df={degrees_freedom})')\n",
    "ax.legend()\n"
   ]
  },
  {
   "cell_type": "code",
   "execution_count": null,
   "metadata": {
    "ExecuteTime": {
     "end_time": "2020-08-11T15:11:37.529756Z",
     "start_time": "2020-08-11T15:11:37.317688Z"
    },
    "scrolled": false
   },
   "outputs": [],
   "source": [
    "## Confidence Interval\n",
    "ci_low,ci_high = stats.t.interval(alpha = 0.95, # Confidence level\n",
    "                 df= len(x)-1, # Degrees of freedom\n",
    "                 loc = 0,  # Sample mean\n",
    "                 scale = 1) # Standard deviation estimate\n",
    "\n",
    "ax.axvline(ci_low)\n",
    "ax.axvline(ci_high)\n",
    "fig\n"
   ]
  },
  {
   "cell_type": "code",
   "execution_count": null,
   "metadata": {
    "ExecuteTime": {
     "end_time": "2020-08-11T15:11:37.964031Z",
     "start_time": "2020-08-11T15:11:37.530937Z"
    }
   },
   "outputs": [],
   "source": [
    "## The T-Distribution & T-Tests\n",
    "\n",
    "## The T-Distribution\n",
    "x = np.arange(-3,3,.01)\n",
    "y = stats.norm.pdf(x,loc=0,scale=1)\n",
    "\n",
    "## Plot the Normal Distrubtion\n",
    "fig,ax = plot_normal(x,y)#plt.subplots(figsize=(8,4),nrows=1)\n",
    "# ax.plot(x,y,zorder=-1,lw=3,label='Normal Distribution')\n",
    "\n",
    "## Adding T-Distribution \n",
    "for degrees_freedom in [1,2,3,1000]:#,5]:#,10,1000]:\n",
    "#     degrees_freedom=5\n",
    "    y_T = stats.t.pdf(x,df=degrees_freedom)\n",
    "\n",
    "    ax.plot(x,y_T,zorder=-1,ls='--',lw=1,label=f'T Distribution (df={degrees_freedom})')\n",
    "ax.legend()\n",
    "\n",
    "\n",
    "## Confidence Interval\n",
    "ci_low,ci_high = stats.t.interval(alpha = 0.95, # Confidence level\n",
    "                 df= len(x)-1, # Degrees of freedom\n",
    "                 loc = 0,  # Sample mean\n",
    "                 scale = 1) # Standard deviation estimate\n",
    "\n",
    "ax.axvline(ci_low)\n",
    "ax.axvline(ci_high)\n",
    "fig\n"
   ]
  },
  {
   "cell_type": "code",
   "execution_count": null,
   "metadata": {},
   "outputs": [],
   "source": []
  }
 ],
 "metadata": {
  "colab": {
   "collapsed_sections": [],
   "name": "Sect 18+19  with Titanic.ipynb",
   "provenance": []
  },
  "kernelspec": {
   "display_name": "Python [conda env:learn-env] *",
   "language": "python",
   "name": "conda-env-learn-env-py"
  },
  "language_info": {
   "codemirror_mode": {
    "name": "ipython",
    "version": 3
   },
   "file_extension": ".py",
   "mimetype": "text/x-python",
   "name": "python",
   "nbconvert_exporter": "python",
   "pygments_lexer": "ipython3",
   "version": "3.6.11"
  },
  "toc": {
   "base_numbering": 1,
   "nav_menu": {},
   "number_sections": false,
   "sideBar": true,
   "skip_h1_title": false,
   "title_cell": "Table of Contents",
   "title_sidebar": "Contents",
   "toc_cell": false,
   "toc_position": {
    "height": "calc(100% - 180px)",
    "left": "10px",
    "top": "150px",
    "width": "255.994px"
   },
   "toc_section_display": true,
   "toc_window_display": true
  },
  "varInspector": {
   "cols": {
    "lenName": 16,
    "lenType": 16,
    "lenVar": 40
   },
   "kernels_config": {
    "python": {
     "delete_cmd_postfix": "",
     "delete_cmd_prefix": "del ",
     "library": "var_list.py",
     "varRefreshCmd": "print(var_dic_list())"
    },
    "r": {
     "delete_cmd_postfix": ") ",
     "delete_cmd_prefix": "rm(",
     "library": "var_list.r",
     "varRefreshCmd": "cat(var_dic_list()) "
    }
   },
   "types_to_exclude": [
    "module",
    "function",
    "builtin_function_or_method",
    "instance",
    "_Feature"
   ],
   "window_display": false
  }
 },
 "nbformat": 4,
 "nbformat_minor": 1
}
