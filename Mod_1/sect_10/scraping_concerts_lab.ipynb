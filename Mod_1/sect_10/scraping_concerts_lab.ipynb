{
 "cells": [
  {
   "cell_type": "markdown",
   "metadata": {},
   "source": [
    "# Scraping Concerts - Lab\n",
    "\n",
    "## Introduction\n",
    "\n",
    "Now that you've seen how to scrape a simple website, it's time to again practice those skills on a full-fledged site!\n",
    "In this lab, you'll practice your scraping skills on a music website: https://www.residentadvisor.net.\n",
    "## Objectives\n",
    "\n",
    "You will be able to:\n",
    "* Create a full scraping pipeline that involves traversing over many pages of a website, dealing with errors and storing data"
   ]
  },
  {
   "cell_type": "markdown",
   "metadata": {},
   "source": [
    "## View the Website\n",
    "\n",
    "For this lab, you'll be scraping the https://www.residentadvisor.net website. Start by navigating to the events page [here](https://www.residentadvisor.net/events) in your browser.\n",
    "\n",
    "<img src=\"images/ra.png\">"
   ]
  },
  {
   "cell_type": "code",
   "execution_count": 1,
   "metadata": {
    "ExecuteTime": {
     "end_time": "2020-07-24T15:25:42.160228Z",
     "start_time": "2020-07-24T15:25:42.157722Z"
    }
   },
   "outputs": [],
   "source": [
    "# Load the https://www.residentadvisor.net/events page in your browser."
   ]
  },
  {
   "cell_type": "markdown",
   "metadata": {},
   "source": [
    "## Open the Inspect Element Feature\n",
    "\n",
    "Next, open the inspect element feature from your web browser in order to preview the underlying HTML associated with the page."
   ]
  },
  {
   "cell_type": "code",
   "execution_count": null,
   "metadata": {},
   "outputs": [],
   "source": [
    "# Open the inspect element feature in your browser"
   ]
  },
  {
   "cell_type": "code",
   "execution_count": 2,
   "metadata": {
    "ExecuteTime": {
     "end_time": "2020-07-24T16:59:34.461445Z",
     "start_time": "2020-07-24T16:59:33.588429Z"
    }
   },
   "outputs": [],
   "source": [
    "import requests\n",
    "import bs4\n",
    "import lxml\n",
    "import pandas as pd \n",
    "import time\n"
   ]
  },
  {
   "cell_type": "code",
   "execution_count": null,
   "metadata": {
    "ExecuteTime": {
     "start_time": "2020-07-24T17:00:42.691Z"
    }
   },
   "outputs": [],
   "source": [
    "url = 'https://www.residentadvisor.net/events/us/newyork'\n",
    "response = requests.get(url,'lxml')"
   ]
  },
  {
   "cell_type": "code",
   "execution_count": 4,
   "metadata": {
    "ExecuteTime": {
     "end_time": "2020-07-24T17:01:29.678394Z",
     "start_time": "2020-07-24T17:01:29.669276Z"
    }
   },
   "outputs": [
    {
     "data": {
      "text/plain": [
       "200"
      ]
     },
     "execution_count": 4,
     "metadata": {},
     "output_type": "execute_result"
    }
   ],
   "source": [
    "response.status_code# == requests."
   ]
  },
  {
   "cell_type": "code",
   "execution_count": 6,
   "metadata": {
    "ExecuteTime": {
     "end_time": "2020-07-24T17:02:03.959298Z",
     "start_time": "2020-07-24T17:02:03.680980Z"
    }
   },
   "outputs": [
    {
     "data": {
      "text/plain": [
       "<!DOCTYPE html>\n",
       "<html lang=\"en,ja,es\">\n",
       "<head id=\"_x1\"><title>\n",
       "\tRA: Events in New York, United States of America\n",
       "</title><meta content=\"text/html; charset=utf-8\" http-equiv=\"Content-Type\"/><meta content=\"en,ja,es\" http-equiv=\"content-language\"/><meta content=\"RA: Resident Advisor\" name=\"Description\"/><meta content=\"RA, residentadvisor, resident, advisor, music, ra, events, in, new, york, united, states, america\" name=\"Keywords\"/><meta content=\"Resident Advisor\" name=\"Author\"/><meta content=\"Resident Advisor\" property=\"og:site_name\"/><meta content=\"712773712080127\" property=\"fb:app_id\"/><link href=\"/bundles/default-css?v=vkL5OUs4miKeCdcqd8mbjVuFVkrrYe1VirWNP4tMR-41\" rel=\"stylesheet\"/>\n",
       "<meta content=\"app-id=981952703, app-argument=ra-guide://search\" name=\"apple-itunes-app\"/><link href=\"/bundles/cat-listings-css?v=qgpSmyPbylOKeJFqy2yvCrTgAsw9yQYcJtLKS_vPO6s1\" rel=\"stylesheet\"/>\n",
       "<link href=\"/favicon.ico\" rel=\"icon\" type=\"image/vnd.microsoft.icon\"/><link color=\"#000000\" href=\"/images/ra_icon.svg\" rel=\"mask-icon\"/><script src=\"/bundles/default-js?v=ojfhnSS3vQR_E4mHHYGVG8VBKABXIiKyvhub_-LVawo1\"></script>\n",
       "<script>\n",
       "\t    googletag.cmd.push(function () { googletag.pubads().setTargeting(\"Page\", \"/events/us/newyork\").setTargeting(\"Category\", \"Listings\").setTargeting(\"Section\", \"Events\").setTargeting(\"Content\", \"EventsHome\").setTargeting(\"Country\", \"US\").setTargeting(\"Area\", \"NewYork\"); });\n",
       "         console.info('Interested in our code? Join us and help write it - https://www.residentadvisor.net/about/jobs');\n",
       "    </script>\n",
       "<script>\n",
       "            const widthTest = false;\n",
       "        if (window.screen.availWidth < 663 && window.screen.width < window.screen.height && !widthTest) {\n",
       "            document.write('<meta name=\"viewport\" content=\"width=328\">');\n",
       "        } else {\n",
       "            document.write('<meta name=\"viewport\" content=\"width=device-width, initial-scale=1\">');\n",
       "        }\n",
       "    </script>\n",
       "<script>\n",
       "            if (typeof dataLayer === 'undefined') {\n",
       "                dataLayer = []\n",
       "            }\n",
       "        </script>\n",
       "<script async=\"\" src=\"https://www.googletagmanager.com/gtag/js?id=AW-940832047\"></script>\n",
       "<script>\n",
       "            window.dataLayer = window.dataLayer || [];\n",
       "\n",
       "            /** Google optimize anti-flicker */\n",
       "            (function (a, s, y, n, c, h, i, d, e) {\n",
       "            s.className += ' ' + y; h.start = 1 * new Date;\n",
       "                h.end = i = function () { s.className = s.className.replace(RegExp(' ?' + y), '') };\n",
       "                (a[n] = a[n] || []).hide = h; setTimeout(function () { i(); h.end = null }, c); h.timeout = c;\n",
       "            })(window, document.documentElement, 'async-hide', 'dataLayer', 4000,\n",
       "                { 'GTM-M269WMP': true });\n",
       "\n",
       "            function gtag() { dataLayer.push(arguments); }\n",
       "            gtag('js', new Date());\n",
       "\n",
       "            gtag('config', 'AW-940832047');\n",
       "        </script>\n",
       "<script src=\"/js/dist/ReactLibs.bundle.js?637311633134991825\"></script>\n",
       "<script>\n",
       "            (function (w, d, s, l, i) {\n",
       "                w[l] = w[l] || []; w[l].push({\n",
       "                    'gtm.start':\n",
       "                        new Date().getTime(), event: 'gtm.js'\n",
       "                }); var f = d.getElementsByTagName(s)[0],\n",
       "                    j = d.createElement(s), dl = l != 'dataLayer' ? '&l=' + l : ''; j.async = true; j.src =\n",
       "                        'https://www.googletagmanager.com/gtm.js?id=' + i + dl; f.parentNode.insertBefore(j, f);\n",
       "                    })(window, document, 'script', 'dataLayer', 'GTM-M269WMP');\n",
       "        </script>\n",
       "</head>\n",
       "<body id=\"body\">\n",
       "<input id=\"user-id\" name=\"user-id\" type=\"hidden\" value=\"0\"/>\n",
       "<input id=\"see-ngc\" name=\"see-ngc\" type=\"hidden\" value=\"false\"/>\n",
       "<a name=\"top\"></a>\n",
       "<header id=\"header\">\n",
       "<div class=\"pnlLeaderWrapper\">\n",
       "<div id=\"pnlLeader\">\n",
       "<aside class=\"div-gpt-ad-1452773484957-6 leader\"><div class=\"ad\" id=\"div-gpt-ad-1452773484957-6\"></div></aside>\n",
       "</div>\n",
       "</div>\n",
       "<nav class=\"clearfix\" id=\"user\">\n",
       "<ul style=\"-moz-user-select: -moz-none; -khtml-user-select: none; -webkit-user-select: none;\">\n",
       "<li class=\"but dark arrow-down\" id=\"basket\">\n",
       "Basket\n",
       "<div class=\"count basket\" style=\"display:none;\"><span></span></div>\n",
       "</li>\n",
       "<li class=\"but subscribe desktop-only desktop-wide-only\" data-use-same-tab=\"true\" id=\"nav-link\">\n",
       "<a ga-event-action=\"subscribe-nav-link\" ga-event-category=\"subscriptions\" ga-on=\"click\" href=\"/subscribe\">\n",
       "<span>Subscribe</span>\n",
       "</a>\n",
       "</li>\n",
       "<li class=\"but arrow-down temp login\" id=\"profile\">Login / Register\n",
       "</li>\n",
       "</ul>\n",
       "</nav>\n",
       "<ul class=\"bbox panel\" id=\"profile-panel\">\n",
       "<li><a href=\"https://www.residentadvisor.net/login\">Login</a></li>\n",
       "<li><a href=\"https://www.residentadvisor.net/register\">Register</a></li>\n",
       "</ul>\n",
       "<div class=\"bbox panel bbox generic clearfix\" id=\"basket-panel\">\n",
       "<div class=\"items\"></div><div class=\"basket-but but myra\"></div>\n",
       "</div>\n",
       "<div class=\"notificationPanel bbox clearfix events col3\" id=\"notificationPanel\"></div>\n",
       "<div class=\"null\" id=\"navContainer\">\n",
       "<div id=\"navbar\">\n",
       "<div id=\"logo\"><a class=\"icon\" href=\"/\">Resident Advisor</a></div>\n",
       "<div class=\"modal-full-screen\" id=\"search-bar\">\n",
       "<span class=\"modal-close\">×</span>\n",
       "<div class=\"modal-body\" id=\"search-bar-internal\">\n",
       "<span class=\"f24 mobile-only search-header\">Search</span>\n",
       "<div id=\"search-box-div\">\n",
       "<input id=\"search-box\" placeholder=\"Artists, Clubs, Promoters, Cities\" type=\"text\"/>\n",
       "</div>\n",
       "<div class=\"but large\" id=\"search-button\">\n",
       "<a id=\"search\" title=\"Search\">Submit</a>\n",
       "</div>\n",
       "<div class=\"grey pt16 search-helper\" style=\"display: none;\">Did you mean</div>\n",
       "</div>\n",
       "</div>\n",
       "<nav class=\"modal-full-screen\" id=\"nav\" role=\"navigation\">\n",
       "<div class=\"modal-close\">×</div>\n",
       "<ul class=\"modal-body open\" data-display=\"0\" id=\"links\">\n",
       "<li class=\"mobile-only tablet-off\">\n",
       "<div id=\"logo-modal-nav\">\n",
       "<a class=\"icon\" ga-event-action=\"RA-Logo\" ga-event-category=\"nav\" ga-on=\"click\" href=\"/\">Resident Advisor</a>\n",
       "</div>\n",
       "</li>\n",
       "<li id=\"mMagazine\">\n",
       "<span>\n",
       "Magazine</span>\n",
       "<ul>\n",
       "<li id=\"mNews\"><a ga-event-action=\"News\" ga-event-category=\"nav\" ga-on=\"click\" href=\"/news\">\n",
       "News</a></li>\n",
       "<li id=\"mReviews\"><a ga-event-action=\"Reviews\" ga-event-category=\"nav\" ga-on=\"click\" href=\"/reviews.aspx\">\n",
       "Reviews</a></li>\n",
       "<li id=\"mFeatures\"><a ga-event-action=\"Features\" ga-event-category=\"nav\" ga-on=\"click\" href=\"/features.aspx\">\n",
       "Features</a></li>\n",
       "<li id=\"mFilms\"><a ga-event-action=\"Videos\" ga-event-category=\"nav\" ga-on=\"click\" href=\"/videos\">\n",
       "Videos</a></li>\n",
       "</ul>\n",
       "</li>\n",
       "<li data-selected=\"1\" id=\"mListings\">\n",
       "<span>\n",
       "Listings</span>\n",
       "<ul>\n",
       "<li data-selected=\"1\" id=\"mEvents\"><a ga-event-action=\"Events\" ga-event-category=\"nav\" ga-on=\"click\" href=\"/events\">\n",
       "Events</a></li>\n",
       "<li id=\"mClubs\"><a ga-event-action=\"Clubs\" ga-event-category=\"nav\" ga-on=\"click\" href=\"/clubs.aspx\">\n",
       "Clubs</a></li>\n",
       "<li id=\"mFestivals\"><a ga-event-action=\"Festivals\" ga-event-category=\"nav\" ga-on=\"click\" href=\"/festivals.aspx\">\n",
       "Festivals</a></li>\n",
       "<li id=\"mStreamland\"><a ga-event-action=\"Streamland\" ga-event-category=\"nav\" ga-on=\"click\" href=\"/events/streamland\">\n",
       "Streamland</a></li>\n",
       "</ul>\n",
       "</li>\n",
       "<li id=\"mMusic\">\n",
       "<span>\n",
       "Music</span>\n",
       "<ul>\n",
       "<li id=\"mDjpages\"><a ga-event-action=\"Artists\" ga-event-category=\"nav\" ga-on=\"click\" href=\"/dj.aspx\">\n",
       "Artists</a></li>\n",
       "<li id=\"mMixOfTheDay\"><a ga-event-action=\"Mix of the day\" ga-event-category=\"nav\" ga-on=\"click\" href=\"/news/mix-of-the-day/2020/7\">\n",
       "Mix of the day</a></li>\n",
       "<li id=\"mCharts\"><a ga-event-action=\"DJ Charts\" ga-event-category=\"nav\" ga-on=\"click\" href=\"/dj-charts.aspx\">\n",
       "DJ Charts</a></li>\n",
       "<li id=\"mPodcast\"><a ga-event-action=\"Podcasts\" ga-event-category=\"nav\" ga-on=\"click\" href=\"/podcast.aspx\">\n",
       "Podcasts</a></li>\n",
       "</ul>\n",
       "</li>\n",
       "<li data-url=\"https://search.residentadvisor.net/\" id=\"mSearch\">\n",
       "<a ga-event-action=\"reveal-desktop\" ga-event-category=\"search\" ga-on=\"click\" href=\"#\">\n",
       "Search</a>\n",
       "</li>\n",
       "</ul>\n",
       "</nav>\n",
       "<div ga-event-action=\"burger\" ga-event-category=\"nav\" ga-on=\"click\" id=\"but-links\">\n",
       "<div class=\"icon\"></div>\n",
       "</div>\n",
       "<div ga-event-action=\"mobile-reveal\" ga-event-category=\"search\" ga-on=\"click\" id=\"but-search\">\n",
       "<div class=\"icon\"></div>\n",
       "</div>\n",
       "</div>\n",
       "<div class=\"add-space\" id=\"sectionHead\">\n",
       "<h1>Events</h1>\n",
       "</div>\n",
       "<link href=\"/bundles/autocomplete-css?v=hX3EIxBPUes4W-JFrW9vc2V9eyRDs1p9rgi0LcnlXug1\" rel=\"stylesheet\"/>\n",
       "<script src=\"/bundles/autocomplete?v=SCtA5z9vnBIQK6ZI-wtyD14u0Lv-S6kQhwTW5lgrMYQ1\"></script>\n",
       "<script src=\"/bundles/analytics-js?v=pUK2ZxBTfTo6P0-8Xh1_QmhiGk4YBwWiTKDOFLGXwbg1\"></script>\n",
       "</div>\n",
       "<section class=\"clearfix\" id=\"subnav\">\n",
       "<ul>\n",
       "<li class=\"on\" id=\"subnav-all\"><a href=\"/events\">All</a></li><li id=\"subnav-new\"><a href=\"/events/new\">New</a></li><li id=\"subnav-for-you\"><a href=\"/events/favourites\">For You</a></li><li id=\"subnav-promoters\"><a href=\"/promoters.aspx\">Promoters</a></li><li id=\"subnav-submit-an-event\"><a href=\"/submit-event.aspx\">Submit an event</a></li>\n",
       "</ul>\n",
       "</section>\n",
       "</header>\n",
       "<form action=\"./newyork?cc=us&amp;an=newyork\" id=\"Form1\" method=\"post\">\n",
       "<div class=\"aspNetHidden\">\n",
       "<input id=\"__VIEWSTATE\" name=\"__VIEWSTATE\" type=\"hidden\" value=\"qTbkNLOGiCbGb5sUTmDewJw6HWoArIpTn+FJxQSi4JMmMZKHst9AVFMkGxyQM6OsR008IwTei6QrrfH9yGBO6kX0YuU=\"/>\n",
       "</div>\n",
       "<div class=\"aspNetHidden\">\n",
       "<input id=\"__VIEWSTATEGENERATOR\" name=\"__VIEWSTATEGENERATOR\" type=\"hidden\" value=\"ADA4D364\"/>\n",
       "</div>\n",
       "<main>\n",
       "<script src=\"/bundles/sticky-js?v=v676-NN9nrtj1Xpc3-lLALpuQvn14WLF-0HBUTbxEIQ1\"></script>\n",
       "<script>\n",
       "    $(document).ready(function() {\n",
       "        $('.slide')\n",
       "        .scrollSnap({\n",
       "            page: 'eventshome'\n",
       "        });\n",
       "    })\n",
       "    </script>\n",
       "<ul class=\"content-list events-border\">\n",
       "<li class=\"alt nobreak\">\n",
       "<section class=\"content clearfix\">\n",
       "<h1 class=\"listing-heading heading\">Popular events in New York</h1>\n",
       "<div class=\"strip slide small\" data-type=\"events\" id=\"events-listing\">\n",
       "<ul class=\"list small clearfix popular\" style=\"padding: 0;\">\n",
       "<li class=\"\">\n",
       "<article class=\"highlight-top\">\n",
       "<p>Sat, 25 Jul 2020</p>\n",
       "<a ga-event-action=\"popular-events\" ga-event-category=\"events-page\" ga-on=\"click\" href=\"/events/1418967\"><img class=\"nohide\" src=\"/images/events/flyer/2020/7/us-0725-1418967-list.jpg\"/></a>\n",
       "<p class=\"counter nohide\">\n",
       "<span>6</span> attending\n",
       "</p>\n",
       "<a ga-event-action=\"popular-events\" ga-event-category=\"events-page\" ga-on=\"click\" href=\"/events/1418967\">\n",
       "<h1>\n",
       "KTPM presents / Tribal Disco\n",
       "</h1>\n",
       "</a>\n",
       "<p class=\"copy nohide\">\n",
       "Rebel Cafe &amp; Garden\n",
       "</p>\n",
       "</article>\n",
       "</li><li class=\"\">\n",
       "<article class=\"highlight-top\">\n",
       "<p>Sat, 25 Jul 2020</p>\n",
       "<a ga-event-action=\"popular-events\" ga-event-category=\"events-page\" ga-on=\"click\" href=\"/events/1418972\"><img class=\"nohide\" src=\"/images/events/flyer/2020/7/us-0725-1418972-list.jpg\"/></a>\n",
       "<p class=\"counter nohide\">\n",
       "<span>2</span> attending\n",
       "</p>\n",
       "<a ga-event-action=\"popular-events\" ga-event-category=\"events-page\" ga-on=\"click\" href=\"/events/1418972\">\n",
       "<h1>\n",
       "Rave Revue: Living Your Best Afterlife\n",
       "</h1>\n",
       "</a>\n",
       "<p class=\"copy nohide\">\n",
       "<a href=\"\\club.aspx?id=147885\">Secret Loft</a>\n",
       "</p>\n",
       "</article>\n",
       "</li><li class=\"\">\n",
       "<article class=\"highlight-top\">\n",
       "<p>Fri, 31 Jul 2020</p>\n",
       "<a ga-event-action=\"popular-events\" ga-event-category=\"events-page\" ga-on=\"click\" href=\"/events/1396438\"><img class=\"nohide\" src=\"/images/events/flyer/2020/7/us-0731-1396438-list.jpg\"/></a>\n",
       "<p class=\"counter nohide\">\n",
       "<span>54</span> attending\n",
       "</p>\n",
       "<a ga-event-action=\"popular-events\" ga-event-category=\"events-page\" ga-on=\"click\" href=\"/events/1396438\">\n",
       "<h1>\n",
       "Sasha &amp; John Digweed at The Brooklyn Mirage\n",
       "</h1>\n",
       "</a>\n",
       "<p class=\"copy nohide\">\n",
       "<a href=\"\\club.aspx?id=105938\">Brooklyn Mirage</a>\n",
       "</p>\n",
       "</article>\n",
       "</li><li class=\"\">\n",
       "<article class=\"highlight-top\">\n",
       "<p>Sat, 1 Aug 2020</p>\n",
       "<a ga-event-action=\"popular-events\" ga-event-category=\"events-page\" ga-on=\"click\" href=\"/events/1394854\"><img class=\"nohide\" src=\"/images/events/flyer/2020/8/us-0801-1394854-list.jpg\"/></a>\n",
       "<p class=\"counter nohide\">\n",
       "<span>71</span> attending\n",
       "</p>\n",
       "<a ga-event-action=\"popular-events\" ga-event-category=\"events-page\" ga-on=\"click\" href=\"/events/1394854\">\n",
       "<h1>\n",
       "Nora En Pure presents Purified\n",
       "</h1>\n",
       "</a>\n",
       "<p class=\"copy nohide\">\n",
       "<a href=\"\\club.aspx?id=105938\">Brooklyn Mirage</a>\n",
       "</p>\n",
       "</article>\n",
       "</li><li class=\"\">\n",
       "<article class=\"highlight-top\">\n",
       "<p>Fri, 14 Aug 2020</p>\n",
       "<a ga-event-action=\"popular-events\" ga-event-category=\"events-page\" ga-on=\"click\" href=\"/events/1390570\"><img class=\"nohide\" src=\"/images/events/flyer/2020/5/us-0522-1390570-list.jpg\"/></a>\n",
       "<p class=\"counter nohide\">\n",
       "<span>13</span> attending\n",
       "</p>\n",
       "<a ga-event-action=\"popular-events\" ga-event-category=\"events-page\" ga-on=\"click\" href=\"/events/1390570\">\n",
       "<h1>\n",
       "[RESCHEDULED] Rjd2\n",
       "</h1>\n",
       "</a>\n",
       "<p class=\"copy nohide\">\n",
       "<a href=\"\\club.aspx?id=139960\">Elsewhere</a>\n",
       "</p>\n",
       "</article>\n",
       "</li><li class=\"\">\n",
       "<article class=\"highlight-top\">\n",
       "<p>Sat, 15 Aug 2020</p>\n",
       "<a ga-event-action=\"popular-events\" ga-event-category=\"events-page\" ga-on=\"click\" href=\"/events/1393093\"><img class=\"nohide\" src=\"/images/events/flyer/dj/jellybeanbenitez-list.jpg\"/></a>\n",
       "<p class=\"counter nohide\">\n",
       "<span>7</span> attending\n",
       "</p>\n",
       "<a ga-event-action=\"popular-events\" ga-event-category=\"events-page\" ga-on=\"click\" href=\"/events/1393093\">\n",
       "<h1>\n",
       "Jellybean Rocks The House ~ The Boat Ride with Jellybean Benitez\n",
       "</h1>\n",
       "</a>\n",
       "<p class=\"copy nohide\">\n",
       "<a href=\"\\club.aspx?id=6673\">Circle Line Cruises</a>\n",
       "</p>\n",
       "</article>\n",
       "</li><li class=\"\">\n",
       "<article class=\"highlight-top\">\n",
       "<p>Thu, 20 Aug 2020</p>\n",
       "<a ga-event-action=\"popular-events\" ga-event-category=\"events-page\" ga-on=\"click\" href=\"/events/1387029\"><img class=\"nohide\" src=\"/images/events/flyer/2020/8/us-0820-1387029-list.jpg\"/></a>\n",
       "<p class=\"counter nohide\">\n",
       "<span>20</span> attending\n",
       "</p>\n",
       "<a ga-event-action=\"popular-events\" ga-event-category=\"events-page\" ga-on=\"click\" href=\"/events/1387029\">\n",
       "<h1>\n",
       "[RESCHEDULED] Amon Tobin presents: Two Fingers\n",
       "</h1>\n",
       "</a>\n",
       "<p class=\"copy nohide\">\n",
       "<a href=\"\\club.aspx?id=139960\">Elsewhere</a>\n",
       "</p>\n",
       "</article>\n",
       "</li><li class=\"\">\n",
       "<article class=\"highlight-top\">\n",
       "<p>Sat, 22 Aug 2020</p>\n",
       "<a ga-event-action=\"popular-events\" ga-event-category=\"events-page\" ga-on=\"click\" href=\"/events/1362947\"><img class=\"nohide\" src=\"/images/events/flyer/2020/4/us-0403-1362947-list.jpg\"/></a>\n",
       "<p class=\"counter nohide\">\n",
       "<span>24</span> attending\n",
       "</p>\n",
       "<a ga-event-action=\"popular-events\" ga-event-category=\"events-page\" ga-on=\"click\" href=\"/events/1362947\">\n",
       "<h1>\n",
       "[RESCHEDULED] Autograf, Zack Martino\n",
       "</h1>\n",
       "</a>\n",
       "<p class=\"copy nohide\">\n",
       "<a href=\"\\club.aspx?id=139960\">Elsewhere</a>\n",
       "</p>\n",
       "</article>\n",
       "</li> </ul>\n",
       "</div>\n",
       "<div class=\"link-more mobile-only tablet-off\">\n",
       "<a></a>\n",
       "</div>\n",
       "<script>\n",
       "                            googleAnalytics.sendEventDataOnLoad('events-page', 'popular-events-loaded');\n",
       "                       </script>\n",
       "</section>\n",
       "<section class=\"iOSOnly content\">\n",
       "<ul class=\"phones\">\n",
       "<li class=\"f12 pb4 grey\">Want RA listings on your mobile?</li>\n",
       "<li>\n",
       "<div class=\"but\"><a href=\"https://itunes.apple.com/app/apple-store/id981952703?mt=8\">Download the RA Guide</a></div>\n",
       "</li>\n",
       "</ul>\n",
       "</section>\n",
       "<div class=\"banner clearfix\">\n",
       "<div id=\"pnlECTOSlot1\" style=\"text-align: center;\">\n",
       "<div class=\"ad\" id=\"div-gpt-ad-1452773484957-0\"></div>\n",
       "</div>\n",
       "</div>\n",
       "</li>\n",
       "<li class=\"clearfix pt1\">\n",
       "<div class=\"page-items content\" id=\"previous-next\">\n",
       "<ul>\n",
       "<li class=\"but arrow-left left\" id=\"liPrevious\">\n",
       "<a ga-event-action=\"Previous \" ga-event-category=\"event-listings\" ga-on=\"click\" href=\"/events/us/newyork/week/2020-07-17\">Previous </a>\n",
       "</li><li class=\"but arrow-right right\" id=\"liNext\">\n",
       "<a ga-event-action=\"Next \" ga-event-category=\"event-listings\" ga-on=\"click\" href=\"/events/us/newyork/week/2020-07-31\">Next </a>\n",
       "</li>\n",
       "</ul>\n",
       "</div>\n",
       "<div class=\"content clearfix\">\n",
       "<div class=\"plus8\">\n",
       "<div>\n",
       "<script src=\"/bundles/area-country-date-filter-js?v=Q02f5CsIXWPDeOtgJVocYJrwjcQrf96m1qneHFerLLA1\"></script>\n",
       "<ul class=\"clearfix classic\" data-enableevent=\"True\" id=\"ulButtons\">\n",
       "<li class=\"but arrow-down right\" id=\"liCountry\">\n",
       "<input id=\"hdnCountryId\" name=\"ctl00$ctl00$cphContent$_contentmain$ucAreaCountryDateFilter$hdnCountryId\" type=\"hidden\" value=\"2\"/>\n",
       "<span>US</span><input id=\"country-name\" type=\"hidden\" value=\"United States of America\"/><ul class=\"links\" style=\"display: none;\"><li data-id=\"7\"><a href=\"/events\">Canada</a></li><li data-id=\"15\"><a href=\"/events\">France</a></li><li data-id=\"12\"><a href=\"/events\">Germany</a></li><li data-id=\"20\"><a href=\"/events\">Italy</a></li><li data-id=\"6\"><a href=\"/events\">Netherlands</a></li><li data-id=\"5\"><a href=\"/events\">Spain</a></li><li data-id=\"3\"><a href=\"/events\">United Kingdom</a></li><li class=\"selected\" data-id=\"2\"><a href=\"/events\">United States of America</a></li><li data-id=\"0\"><a href=\"/events\">------------</a></li><li data-id=\"99\"><a href=\"/events\">Albania</a></li><li data-id=\"125\"><a href=\"/events\">Algeria</a></li><li data-id=\"113\"><a href=\"/events\">Andorra</a></li><li data-id=\"127\"><a href=\"/events\">Angola</a></li><li data-id=\"140\"><a href=\"/events\">Antigua and Barbuda</a></li><li data-id=\"16\"><a href=\"/events\">Argentina</a></li><li data-id=\"106\"><a href=\"/events\">Armenia</a></li><li data-id=\"1\"><a href=\"/events\">Australia</a></li><li data-id=\"57\"><a href=\"/events\">Austria</a></li><li data-id=\"108\"><a href=\"/events\">Azerbaijan</a></li><li data-id=\"117\"><a href=\"/events\">Bahamas</a></li><li data-id=\"80\"><a href=\"/events\">Bahrain</a></li><li data-id=\"107\"><a href=\"/events\">Bangladesh</a></li><li data-id=\"73\"><a href=\"/events\">Barbados</a></li><li data-id=\"76\"><a href=\"/events\">Belarus</a></li><li data-id=\"29\"><a href=\"/events\">Belgium</a></li><li data-id=\"34\"><a href=\"/events\">Belize</a></li><li data-id=\"141\"><a href=\"/events\">Benin</a></li><li data-id=\"126\"><a href=\"/events\">Bermuda</a></li><li data-id=\"142\"><a href=\"/events\">Bhutan</a></li><li data-id=\"85\"><a href=\"/events\">Bolivia</a></li><li data-id=\"74\"><a href=\"/events\">Bosnia and Herzegovina</a></li><li data-id=\"143\"><a href=\"/events\">Botswana</a></li><li data-id=\"28\"><a href=\"/events\">Brazil</a></li><li data-id=\"47\"><a href=\"/events\">Bulgaria</a></li><li data-id=\"144\"><a href=\"/events\">Burkina Faso</a></li><li data-id=\"110\"><a href=\"/events\">Cambodia</a></li><li data-id=\"145\"><a href=\"/events\">Cameroon</a></li><li data-id=\"7\"><a href=\"/events\">Canada</a></li><li data-id=\"92\"><a href=\"/events\">Cayman Islands</a></li><li data-id=\"25\"><a href=\"/events\">Chile</a></li><li data-id=\"30\"><a href=\"/events\">China</a></li><li data-id=\"59\"><a href=\"/events\">Colombia</a></li><li data-id=\"10\"><a href=\"/events\">Costa Rica</a></li><li data-id=\"146\"><a href=\"/events\">Cote d'Ivoire</a></li><li data-id=\"46\"><a href=\"/events\">Croatia</a></li><li data-id=\"102\"><a href=\"/events\">Cuba</a></li><li data-id=\"129\"><a href=\"/events\">Curacao</a></li><li data-id=\"82\"><a href=\"/events\">Cyprus</a></li><li data-id=\"49\"><a href=\"/events\">Czech Republic</a></li><li data-id=\"147\"><a href=\"/events\">Democratic Republic of the Congo</a></li><li data-id=\"51\"><a href=\"/events\">Denmark</a></li><li data-id=\"66\"><a href=\"/events\">Dominican Republic</a></li><li data-id=\"72\"><a href=\"/events\">Ecuador</a></li><li data-id=\"48\"><a href=\"/events\">Egypt</a></li><li data-id=\"54\"><a href=\"/events\">El Salvador</a></li><li data-id=\"71\"><a href=\"/events\">Estonia</a></li><li data-id=\"160\"><a href=\"/events\">Ethiopia</a></li><li data-id=\"158\"><a href=\"/events\">Fiji</a></li><li data-id=\"41\"><a href=\"/events\">Finland</a></li><li data-id=\"15\"><a href=\"/events\">France</a></li><li data-id=\"148\"><a href=\"/events\">Gambia</a></li><li data-id=\"75\"><a href=\"/events\">Georgia</a></li><li data-id=\"12\"><a href=\"/events\">Germany</a></li><li data-id=\"149\"><a href=\"/events\">Ghana</a></li><li data-id=\"103\"><a href=\"/events\">Gibraltar</a></li><li data-id=\"13\"><a href=\"/events\">Greece</a></li><li data-id=\"116\"><a href=\"/events\">Guam</a></li><li data-id=\"87\"><a href=\"/events\">Guatemala</a></li><li data-id=\"63\"><a href=\"/events\">Honduras</a></li><li data-id=\"39\"><a href=\"/events\">Hungary</a></li><li data-id=\"86\"><a href=\"/events\">Iceland</a></li><li data-id=\"58\"><a href=\"/events\">India</a></li><li data-id=\"37\"><a href=\"/events\">Indonesia</a></li><li data-id=\"91\"><a href=\"/events\">Iran</a></li><li data-id=\"14\"><a href=\"/events\">Ireland</a></li><li data-id=\"8\"><a href=\"/events\">Israel</a></li><li data-id=\"20\"><a href=\"/events\">Italy</a></li><li data-id=\"97\"><a href=\"/events\">Jamaica</a></li><li data-id=\"9\"><a href=\"/events\">Japan</a></li><li data-id=\"77\"><a href=\"/events\">Jordan</a></li><li data-id=\"119\"><a href=\"/events\">Kazakhstan</a></li><li data-id=\"94\"><a href=\"/events\">Kenya</a></li><li data-id=\"131\"><a href=\"/events\">Kosovo</a></li><li data-id=\"101\"><a href=\"/events\">Kuwait</a></li><li data-id=\"150\"><a href=\"/events\">Laos</a></li><li data-id=\"45\"><a href=\"/events\">Latvia</a></li><li data-id=\"53\"><a href=\"/events\">Lebanon</a></li><li data-id=\"43\"><a href=\"/events\">Lithuania</a></li><li data-id=\"84\"><a href=\"/events\">Luxembourg</a></li><li data-id=\"69\"><a href=\"/events\">Macedonia</a></li><li data-id=\"151\"><a href=\"/events\">Madagascar</a></li><li data-id=\"89\"><a href=\"/events\">Malawi</a></li><li data-id=\"11\"><a href=\"/events\">Malaysia</a></li><li data-id=\"60\"><a href=\"/events\">Malta</a></li><li data-id=\"118\"><a href=\"/events\">Mauritius</a></li><li data-id=\"33\"><a href=\"/events\">Mexico</a></li><li data-id=\"83\"><a href=\"/events\">Moldova</a></li><li data-id=\"100\"><a href=\"/events\">Monaco</a></li><li data-id=\"93\"><a href=\"/events\">Mongolia</a></li><li data-id=\"78\"><a href=\"/events\">Montenegro</a></li><li data-id=\"65\"><a href=\"/events\">Morocco</a></li><li data-id=\"123\"><a href=\"/events\">Mozambique</a></li><li data-id=\"130\"><a href=\"/events\">Myanmar</a></li><li data-id=\"112\"><a href=\"/events\">Nepal</a></li><li data-id=\"6\"><a href=\"/events\">Netherlands</a></li><li data-id=\"17\"><a href=\"/events\">New Zealand</a></li><li data-id=\"104\"><a href=\"/events\">Nicaragua</a></li><li data-id=\"120\"><a href=\"/events\">Nigeria</a></li><li data-id=\"23\"><a href=\"/events\">Norway</a></li><li data-id=\"95\"><a href=\"/events\">Oman</a></li><li data-id=\"62\"><a href=\"/events\">Pakistan</a></li><li data-id=\"133\"><a href=\"/events\">Palestine</a></li><li data-id=\"44\"><a href=\"/events\">Panama</a></li><li data-id=\"67\"><a href=\"/events\">Paraguay</a></li><li data-id=\"40\"><a href=\"/events\">Peru</a></li><li data-id=\"64\"><a href=\"/events\">Philippines</a></li><li data-id=\"32\"><a href=\"/events\">Poland</a></li><li data-id=\"21\"><a href=\"/events\">Portugal</a></li><li data-id=\"68\"><a href=\"/events\">Puerto Rico</a></li><li data-id=\"88\"><a href=\"/events\">Qatar</a></li><li data-id=\"18\"><a href=\"/events\">Romania</a></li><li data-id=\"42\"><a href=\"/events\">Russia</a></li><li data-id=\"134\"><a href=\"/events\">Rwanda</a></li><li data-id=\"155\"><a href=\"/events\">Saint Kitts and Nevis</a></li><li data-id=\"154\"><a href=\"/events\">Saint Lucia</a></li><li data-id=\"105\"><a href=\"/events\">Saudi Arabia</a></li><li data-id=\"135\"><a href=\"/events\">Senegal</a></li><li data-id=\"38\"><a href=\"/events\">Serbia</a></li><li data-id=\"98\"><a href=\"/events\">Seychelles</a></li><li data-id=\"19\"><a href=\"/events\">Singapore</a></li><li data-id=\"50\"><a href=\"/events\">Slovakia</a></li><li data-id=\"56\"><a href=\"/events\">Slovenia</a></li><li data-id=\"159\"><a href=\"/events\">Somalia</a></li><li data-id=\"52\"><a href=\"/events\">South Africa</a></li><li data-id=\"36\"><a href=\"/events\">South Korea</a></li><li data-id=\"137\"><a href=\"/events\">South Sudan</a></li><li data-id=\"5\"><a href=\"/events\">Spain</a></li><li data-id=\"114\"><a href=\"/events\">Sri Lanka</a></li><li data-id=\"161\"><a href=\"/events\">Streamland</a></li><li data-id=\"136\"><a href=\"/events\">Sudan</a></li><li data-id=\"24\"><a href=\"/events\">Sweden</a></li><li data-id=\"27\"><a href=\"/events\">Switzerland</a></li><li data-id=\"22\"><a href=\"/events\">Taiwan</a></li><li data-id=\"157\"><a href=\"/events\">Tajikistan</a></li><li data-id=\"109\"><a href=\"/events\">Tanzania</a></li><li data-id=\"31\"><a href=\"/events\">Thailand</a></li><li data-id=\"156\"><a href=\"/events\">Trinidad and Tobago</a></li><li data-id=\"81\"><a href=\"/events\">Tunisia</a></li><li data-id=\"35\"><a href=\"/events\">Turkey</a></li><li data-id=\"124\"><a href=\"/events\">Uganda</a></li><li data-id=\"61\"><a href=\"/events\">Ukraine</a></li><li data-id=\"55\"><a href=\"/events\">United Arab Emirates</a></li><li data-id=\"3\"><a href=\"/events\">United Kingdom</a></li><li class=\"selected\" data-id=\"2\"><a href=\"/events\">United States of America</a></li><li data-id=\"79\"><a href=\"/events\">Uruguay</a></li><li data-id=\"96\"><a href=\"/events\">Uzbekistan</a></li><li data-id=\"70\"><a href=\"/events\">Venezuela</a></li><li data-id=\"90\"><a href=\"/events\">Vietnam</a></li><li data-id=\"128\"><a href=\"/events\">Zimbabwe</a></li></ul>\n",
       "</li>\n",
       "<li class=\"but arrow-down right\" id=\"liArea\">\n",
       "<input id=\"btnArea\" name=\"ctl00$ctl00$cphContent$_contentmain$ucAreaCountryDateFilter$btnArea\" style=\"display:none;\" type=\"submit\" value=\"\"/>\n",
       "<input id=\"hdnAreaId\" name=\"ctl00$ctl00$cphContent$_contentmain$ucAreaCountryDateFilter$hdnAreaId\" type=\"hidden\" value=\"8\"/>\n",
       "<span>New York</span><ul class=\"links\" style=\"display: none;\"><li class=\"parent\" data-id=\"108\"><a href=\"/events\">Alabama</a></li><li class=\"parent\" data-id=\"109\"><a href=\"/events\">Alaska</a></li><li class=\"parent\" data-id=\"102\"><a href=\"/events\">Arizona</a></li><li class=\"parent\" data-id=\"110\"><a href=\"/events\">Arkansas</a></li><li class=\"parent\" data-id=\"308\"><a href=\"/events\">California</a></li><li data-id=\"23\"><a href=\"/events\">   Los Angeles</a></li><li data-id=\"310\"><a href=\"/events\">   Sacramento</a></li><li data-id=\"309\"><a href=\"/events\">   San Diego</a></li><li data-id=\"218\"><a href=\"/events\">   San Francisco</a></li><li class=\"parent\" data-id=\"82\"><a href=\"/events\">Colorado</a></li><li class=\"parent\" data-id=\"111\"><a href=\"/events\">Connecticut</a></li><li class=\"parent\" data-id=\"112\"><a href=\"/events\">Delaware</a></li><li class=\"parent\" data-id=\"317\"><a href=\"/events\">Florida</a></li><li data-id=\"314\"><a href=\"/events\">   Jacksonville</a></li><li data-id=\"38\"><a href=\"/events\">   Miami</a></li><li data-id=\"315\"><a href=\"/events\">   Orlando</a></li><li data-id=\"316\"><a href=\"/events\">   Tampa Bay</a></li><li class=\"parent\" data-id=\"64\"><a href=\"/events\">Georgia</a></li><li class=\"parent\" data-id=\"133\"><a href=\"/events\">Hawaii</a></li><li class=\"parent\" data-id=\"113\"><a href=\"/events\">Idaho</a></li><li class=\"parent\" data-id=\"359\"><a href=\"/events\">Illinois</a></li><li data-id=\"17\"><a href=\"/events\">   Chicago</a></li><li class=\"parent\" data-id=\"85\"><a href=\"/events\">Indiana</a></li><li class=\"parent\" data-id=\"114\"><a href=\"/events\">Iowa</a></li><li class=\"parent\" data-id=\"90\"><a href=\"/events\">Kansas</a></li><li class=\"parent\" data-id=\"115\"><a href=\"/events\">Kentucky</a></li><li class=\"parent\" data-id=\"65\"><a href=\"/events\">Louisiana</a></li><li class=\"parent\" data-id=\"116\"><a href=\"/events\">Maine</a></li><li class=\"parent\" data-id=\"117\"><a href=\"/events\">Maryland</a></li><li class=\"parent\" data-id=\"79\"><a href=\"/events\">Massachusetts</a></li><li class=\"parent\" data-id=\"360\"><a href=\"/events\">Michigan</a></li><li data-id=\"19\"><a href=\"/events\">   Detroit</a></li><li class=\"parent\" data-id=\"81\"><a href=\"/events\">Minnesota</a></li><li class=\"parent\" data-id=\"103\"><a href=\"/events\">Mississippi</a></li><li class=\"parent\" data-id=\"118\"><a href=\"/events\">Missouri</a></li><li class=\"parent\" data-id=\"119\"><a href=\"/events\">Montana</a></li><li class=\"parent\" data-id=\"120\"><a href=\"/events\">Nebraska</a></li><li class=\"parent\" data-id=\"47\"><a href=\"/events\">Nevada</a></li><li class=\"parent\" data-id=\"121\"><a href=\"/events\">New Hampshire</a></li><li class=\"parent\" data-id=\"48\"><a href=\"/events\">New Jersey</a></li><li class=\"parent\" data-id=\"122\"><a href=\"/events\">New Mexico</a></li><li class=\"parent selected\" data-id=\"8\"><a href=\"/events\">New York</a></li><li data-id=\"443\"><a href=\"/events\">   Buffalo/Rochester</a></li><li class=\"parent\" data-id=\"123\"><a href=\"/events\">North Carolina</a></li><li class=\"parent\" data-id=\"124\"><a href=\"/events\">North Dakota</a></li><li class=\"parent\" data-id=\"84\"><a href=\"/events\">Ohio</a></li><li class=\"parent\" data-id=\"104\"><a href=\"/events\">Oklahoma</a></li><li class=\"parent\" data-id=\"410\"><a href=\"/events\">Oregon</a></li><li data-id=\"125\"><a href=\"/events\">   Portland</a></li><li class=\"parent\" data-id=\"80\"><a href=\"/events\">Pennsylvania</a></li><li class=\"parent\" data-id=\"127\"><a href=\"/events\">Rhode Island</a></li><li class=\"parent\" data-id=\"105\"><a href=\"/events\">South Carolina</a></li><li class=\"parent\" data-id=\"128\"><a href=\"/events\">South Dakota</a></li><li class=\"parent\" data-id=\"72\"><a href=\"/events\">Tennessee</a></li><li class=\"parent\" data-id=\"318\"><a href=\"/events\">Texas</a></li><li data-id=\"321\"><a href=\"/events\">   Austin</a></li><li data-id=\"319\"><a href=\"/events\">   Dallas/Fort Worth</a></li><li data-id=\"322\"><a href=\"/events\">   El Paso</a></li><li data-id=\"63\"><a href=\"/events\">   Houston</a></li><li data-id=\"320\"><a href=\"/events\">   San Antonio</a></li><li class=\"parent\" data-id=\"106\"><a href=\"/events\">Utah</a></li><li class=\"parent\" data-id=\"129\"><a href=\"/events\">Vermont</a></li><li class=\"parent\" data-id=\"130\"><a href=\"/events\">Virginia</a></li><li class=\"parent\" data-id=\"22\"><a href=\"/events\">Washington DC</a></li><li class=\"parent\" data-id=\"411\"><a href=\"/events\">Washington State</a></li><li data-id=\"46\"><a href=\"/events\">   Seattle</a></li><li class=\"parent\" data-id=\"131\"><a href=\"/events\">West Virginia</a></li><li class=\"parent\" data-id=\"107\"><a href=\"/events\">Wisconsin</a></li><li class=\"parent\" data-id=\"132\"><a href=\"/events\">Wyoming</a></li></ul>\n",
       "</li>\n",
       "<li class=\"but arrow-down right\" id=\"liDate\">\n",
       "<input id=\"btnDateRange\" name=\"ctl00$ctl00$cphContent$_contentmain$ucAreaCountryDateFilter$btnDateRange\" style=\"display:none;\" type=\"submit\" value=\"\"/>\n",
       "<input id=\"hdnDateRange\" name=\"ctl00$ctl00$cphContent$_contentmain$ucAreaCountryDateFilter$hdnDateRange\" type=\"hidden\" value=\"2\"/>\n",
       "<span data-id=\"2\">By week</span><ul class=\"links\" style=\"display: none;\"><li data-id=\"1\"><a href=\"/events/us/newyork/default/0-0-0\">By day</a></li><li class=\"selected\" data-id=\"2\"><a href=\"/events/us/newyork/default/0-0-0\">By week</a></li><li data-id=\"3\"><a href=\"/events/us/newyork/default/0-0-0\">By month</a></li></ul>\n",
       "</li>\n",
       "</ul>\n",
       "</div>\n",
       "<div class=\"fl col4\" id=\"event-listing\">\n",
       "<ul class=\"list\" id=\"items\">\n",
       "<li><p class=\"eventDate date\"><a href=\"/events.aspx?ai=8&amp;v=day&amp;mn=7&amp;yr=2020&amp;dy=24\"><span>Fri, 24 Jul 2020 /</span></a></p></li><li class=\"\"><article class=\"event-item clearfix\" itemscope=\"\" itemtype=\"http://data-vocabulary.org/Event\"><span style=\"display:none;\"><time datetime=\"2020-07-24T00:00\" itemprop=\"startDate\">2020-07-24T00:00</time></span><a href=\"/events/1408593\"><img height=\"76\" src=\"/images/events/flyer/2020/7/us-0717-1408593-list.jpg\" width=\"152\"/></a><div class=\"bbox\"><h1 class=\"event-title\" itemprop=\"summary\"><a href=\"/events/1408593\" itemprop=\"url\" title=\"Event details of NYC Hip Hop vs. Reggae® Summer Midnight Yacht Party Cabana\">NYC Hip Hop vs. Reggae® Summer Midnight Yacht Party Cabana</a> <span>at <a href=\"/club.aspx?id=104916\">Skyport Marina</a></span></h1><div class=\"grey event-lineup\">TOP NYC DJS</div><p class=\"attending\"><span>1</span> Attending</p></div></article></li><li class=\"\"><article class=\"event-item clearfix\" itemscope=\"\" itemtype=\"http://data-vocabulary.org/Event\"><span style=\"display:none;\"><time datetime=\"2020-07-24T00:00\" itemprop=\"startDate\">2020-07-24T00:00</time></span><a href=\"/events/1408316\"><img height=\"76\" src=\"/images/events/flyer/2020/7/us-0724-1408316-list.jpg\" width=\"152\"/></a><div class=\"bbox\"><h1 class=\"event-title\" itemprop=\"summary\"><a href=\"/events/1408316\" itemprop=\"url\" title=\"Event details of Can't Stop The Feeling Midnight Yacht Cruise\">Can't Stop The Feeling Midnight Yacht Cruise</a> <span>at <a href=\"/club.aspx?id=31804\">Harbor Lights Yacht</a></span></h1><div class=\"grey event-lineup\">NYCs TOP DJs</div><p class=\"attending\"><span>1</span> Attending</p></div></article></li><li><p class=\"eventDate date\"><a href=\"/events.aspx?ai=8&amp;v=day&amp;mn=7&amp;yr=2020&amp;dy=25\"><span>Sat, 25 Jul 2020 /</span></a></p></li><li class=\"\"><article class=\"event-item clearfix tickets-bkg-logo\" itemscope=\"\" itemtype=\"http://data-vocabulary.org/Event\"><a href=\"/events/1411995#tickets\"><img class=\"nohide\" src=\"https://residentadvisor.net/images/ra-tix.png\" style=\"height: 23px; width: 40px; right: 0px; position: absolute; top: 1px;\"/></a><span style=\"display:none;\"><time datetime=\"2020-07-25T00:00\" itemprop=\"startDate\">2020-07-25T00:00</time></span><a href=\"/events/1411995\"><img height=\"76\" src=\"/images/events/flyer/2020/7/us-0725-1411995-list.jpg\" width=\"152\"/></a><div class=\"bbox\"><h1 class=\"event-title\" itemprop=\"summary\"><a href=\"/events/1411995\" itemprop=\"url\" title=\"Event details of The Grand Premier - Jewel Yacht Party\">The Grand Premier - Jewel Yacht Party</a> <span>at <a href=\"/club.aspx?id=49557\">Jewel Yacht</a></span></h1><div class=\"grey event-lineup\">Sam Allan</div><p class=\"attending\"><span>1</span> Attending</p></div></article></li><li class=\"\"><article class=\"event-item clearfix\" itemscope=\"\" itemtype=\"http://data-vocabulary.org/Event\"><span style=\"display:none;\"><time datetime=\"2020-07-25T00:00\" itemprop=\"startDate\">2020-07-25T00:00</time></span><a href=\"/events/1418967\"><img height=\"76\" src=\"/images/events/flyer/2020/7/us-0725-1418967-list.jpg\" width=\"152\"/></a><div class=\"bbox\"><h1 class=\"event-title\" itemprop=\"summary\"><a href=\"/events/1418967\" itemprop=\"url\" title=\"Event details of KTPM presents / Tribal Disco\">KTPM presents / Tribal Disco</a> <span>at <span class=\"grey\" style=\"display:inline;\">Rebel Cafe &amp; Garden</span></span></h1><div class=\"grey event-lineup\">Harji, Joey Greiner, Rich Greene, Special Guests</div><p class=\"attending\"><span>6</span> Attending</p></div></article></li><li class=\"\"><article class=\"event-item clearfix\" itemscope=\"\" itemtype=\"http://data-vocabulary.org/Event\"><span style=\"display:none;\"><time datetime=\"2020-07-25T00:00\" itemprop=\"startDate\">2020-07-25T00:00</time></span><a href=\"/events/1418972\"><img height=\"76\" src=\"/images/events/flyer/2020/7/us-0725-1418972-list.jpg\" width=\"152\"/></a><div class=\"bbox\"><h1 class=\"event-title\" itemprop=\"summary\"><a href=\"/events/1418972\" itemprop=\"url\" title=\"Event details of Rave Revue: Living Your Best Afterlife\">Rave Revue: Living Your Best Afterlife</a> <span>at <a href=\"/club.aspx?id=147885\">Secret Loft</a></span></h1><div class=\"grey event-lineup\">Dr. Wires</div><p class=\"attending\"><span>2</span> Attending</p></div></article></li><li class=\"\"><article class=\"event-item clearfix tickets-bkg-logo\" itemscope=\"\" itemtype=\"http://data-vocabulary.org/Event\"><a href=\"/events/1397846#tickets\"><img class=\"nohide\" src=\"https://residentadvisor.net/images/ra-tix.png\" style=\"height: 23px; width: 40px; right: 0px; position: absolute; top: 1px;\"/></a><span style=\"display:none;\"><time datetime=\"2020-07-25T00:00\" itemprop=\"startDate\">2020-07-25T00:00</time></span><a href=\"/events/1397846\"><img height=\"76\" src=\"/images/events/flyer/2020/3/us-0328-1397846-list.jpg\" width=\"152\"/></a><div class=\"bbox\"><h1 class=\"event-title\" itemprop=\"summary\"><a href=\"/events/1397846\" itemprop=\"url\" title=\"Event details of [CANCELLED] Horse Meat Disco - New York Residency\">[CANCELLED] Horse Meat Disco - New York Residency</a> <span>at <a href=\"/club.aspx?id=139960\">Elsewhere</a></span></h1><div class=\"grey event-lineup\">The Hall, Horse Meat Disco, Zone One, Special Guests</div><p class=\"attending\"><span>218</span> Attending</p></div></article></li><li><div class=\"but myra mt16\" style=\"width: 152px;\"><a href=\"/submit-event.aspx?ai=8\">Submit event</a></div></li><li><p class=\"eventDate date\"><a href=\"/events.aspx?ai=8&amp;v=day&amp;mn=7&amp;yr=2020&amp;dy=28\"><span>Tue, 28 Jul 2020 /</span></a></p></li><li class=\"\"><article class=\"event-item clearfix\" itemscope=\"\" itemtype=\"http://data-vocabulary.org/Event\"><span style=\"display:none;\"><time datetime=\"2020-07-28T00:00\" itemprop=\"startDate\">2020-07-28T00:00</time></span><a href=\"/events/1417952\"><img height=\"76\" src=\"/images/events/flyer/2020/7/us-0728-1417952-list.jpg\" width=\"152\"/></a><div class=\"bbox\"><h1 class=\"event-title\" itemprop=\"summary\"><a href=\"/events/1417952\" itemprop=\"url\" title=\"Event details of Outdoor Films: The Grateful Dead Movie\">Outdoor Films: The Grateful Dead Movie</a> <span>at <a href=\"/club.aspx?id=105873\">Nowadays</a></span></h1><div class=\"grey event-lineup\">Grateful Dead</div><p class=\"attending\"><span>1</span> Attending</p></div></article></li><li class=\"\"><article class=\"event-item clearfix\" itemscope=\"\" itemtype=\"http://data-vocabulary.org/Event\"><span style=\"display:none;\"><time datetime=\"2020-07-28T00:00\" itemprop=\"startDate\">2020-07-28T00:00</time></span><a href=\"/events/1419057\"><img height=\"76\" src=\"/images/events/flyer/dj/djspinna-list.jpg\" width=\"152\"/></a><div class=\"bbox\"><h1 class=\"event-title\" itemprop=\"summary\"><a href=\"/events/1419057\" itemprop=\"url\" title=\"Event details of DJ Spinna &amp; Friends Tribute &amp; Benefit for Nyc's Keith Overton aka Kayo\">DJ Spinna &amp; Friends Tribute &amp; Benefit for Nyc's Keith Overton aka Kayo</a> <span>at <a href=\"/club.aspx?id=97606\">Good Room</a></span></h1><div class=\"grey event-lineup\">DJ Spinna, Tyrone Francis, Kim LIghtfoot, Donna Edwards, Carlos Sanchez, Sal Paradise, MuscleCars, Shawn Dub</div><p class=\"attending\"><span>1</span> Attending</p></div></article></li><li><p class=\"eventDate date\"><a href=\"/events.aspx?ai=8&amp;v=day&amp;mn=7&amp;yr=2020&amp;dy=29\"><span>Wed, 29 Jul 2020 /</span></a></p></li><li class=\"\"><article class=\"event-item clearfix\" itemscope=\"\" itemtype=\"http://data-vocabulary.org/Event\"><span style=\"display:none;\"><time datetime=\"2020-07-29T00:00\" itemprop=\"startDate\">2020-07-29T00:00</time></span><a href=\"/events/1417953\"><img height=\"76\" src=\"/images/events/flyer/2020/7/us-0729-1417953-list.jpg\" width=\"152\"/></a><div class=\"bbox\"><h1 class=\"event-title\" itemprop=\"summary\"><a href=\"/events/1417953\" itemprop=\"url\" title=\"Event details of Outdoor Films: The Grateful Dead Movie\">Outdoor Films: The Grateful Dead Movie</a> <span>at <a href=\"/club.aspx?id=105873\">Nowadays</a></span></h1><div class=\"grey event-lineup\">Grateful Dead</div></div></article></li>\n",
       "</ul>\n",
       "</div>\n",
       "<div class=\"fl col2\" style=\"padding-top: 88px;\">\n",
       "<div class=\"pr8 sticky\">\n",
       "<section id=\"calendar\">\n",
       "<div class=\"h-align\">\n",
       "<h1 class=\"heading\">Calendar</h1>\n",
       "</div>\n",
       "<div id=\"calendar-inner\">\n",
       "<select id=\"ddlCalendarMonth\" name=\"ctl00$ctl00$cphContent$_contentmain$ucCalendar$ddlCalendarMonth\" style=\"width:104px;\">\n",
       "<option value=\"12\">December</option>\n",
       "<option value=\"11\">November</option>\n",
       "<option value=\"10\">October</option>\n",
       "<option value=\"9\">September</option>\n",
       "<option value=\"8\">August</option>\n",
       "<option selected=\"selected\" value=\"7\">July</option>\n",
       "<option value=\"6\">June</option>\n",
       "<option value=\"5\">May</option>\n",
       "<option value=\"4\">April</option>\n",
       "<option value=\"3\">March</option>\n",
       "<option value=\"2\">February</option>\n",
       "<option value=\"1\">January</option>\n",
       "</select>\n",
       "<select id=\"ddlCalendarYear\" name=\"ctl00$ctl00$cphContent$_contentmain$ucCalendar$ddlCalendarYear\">\n",
       "<option value=\"2021\">2021</option>\n",
       "<option selected=\"selected\" value=\"2020\">2020</option>\n",
       "<option value=\"2019\">2019</option>\n",
       "<option value=\"2018\">2018</option>\n",
       "<option value=\"2017\">2017</option>\n",
       "<option value=\"2016\">2016</option>\n",
       "<option value=\"2015\">2015</option>\n",
       "<option value=\"2014\">2014</option>\n",
       "<option value=\"2013\">2013</option>\n",
       "<option value=\"2012\">2012</option>\n",
       "<option value=\"2011\">2011</option>\n",
       "<option value=\"2010\">2010</option>\n",
       "<option value=\"2009\">2009</option>\n",
       "<option value=\"2008\">2008</option>\n",
       "<option value=\"2007\">2007</option>\n",
       "<option value=\"2006\">2006</option>\n",
       "<option value=\"2005\">2005</option>\n",
       "<option value=\"2004\">2004</option>\n",
       "<option value=\"2003\">2003</option>\n",
       "<option value=\"2002\">2002</option>\n",
       "<option value=\"2001\">2001</option>\n",
       "<option value=\"2000\">2000</option>\n",
       "<option value=\"1999\">1999</option>\n",
       "<option value=\"1998\">1998</option>\n",
       "</select>\n",
       "<select id=\"ddlCalendarType\" name=\"ctl00$ctl00$cphContent$_contentmain$ucCalendar$ddlCalendarType\" style=\"width:104px;\">\n",
       "<option value=\"day\">By day</option>\n",
       "<option selected=\"selected\" value=\"week\">By week</option>\n",
       "<option value=\"month\">By month</option>\n",
       "</select>\n",
       "<input id=\"hfCalendarDayOfWeek\" name=\"ctl00$ctl00$cphContent$_contentmain$ucCalendar$hfCalendarDayOfWeek\" type=\"hidden\" value=\"24\"/>\n",
       "<table><tr><th>Sun</th><th>Mon</th><th>Tue</th><th>Wed</th><th>Thu</th><th>Fri</th><th>Sat</th></tr><tr><td><a class=\"day-off\" href=\"/events/us/newyork/week/2020-06-28\">28</a></td><td><a class=\"day-off\" href=\"/events/us/newyork/week/2020-06-29\">29</a></td><td><a class=\"day-off\" href=\"/events/us/newyork/week/2020-06-30\">30</a></td><td><a href=\"/events/us/newyork/week/2020-07-01\">1</a></td><td><a href=\"/events/us/newyork/week/2020-07-02\">2</a></td><td><a href=\"/events/us/newyork/week/2020-07-03\">3</a></td><td><a href=\"/events/us/newyork/week/2020-07-04\">4</a></td></tr><tr><td><a href=\"/events/us/newyork/week/2020-07-05\">5</a></td><td><a href=\"/events/us/newyork/week/2020-07-06\">6</a></td><td><a href=\"/events/us/newyork/week/2020-07-07\">7</a></td><td><a href=\"/events/us/newyork/week/2020-07-08\">8</a></td><td><a href=\"/events/us/newyork/week/2020-07-09\">9</a></td><td><a href=\"/events/us/newyork/week/2020-07-10\">10</a></td><td><a href=\"/events/us/newyork/week/2020-07-11\">11</a></td></tr><tr><td><a href=\"/events/us/newyork/week/2020-07-12\">12</a></td><td><a href=\"/events/us/newyork/week/2020-07-13\">13</a></td><td><a href=\"/events/us/newyork/week/2020-07-14\">14</a></td><td><a href=\"/events/us/newyork/week/2020-07-15\">15</a></td><td><a href=\"/events/us/newyork/week/2020-07-16\">16</a></td><td><a href=\"/events/us/newyork/week/2020-07-17\">17</a></td><td><a href=\"/events/us/newyork/week/2020-07-18\">18</a></td></tr><tr><td><a href=\"/events/us/newyork/week/2020-07-19\">19</a></td><td><a href=\"/events/us/newyork/week/2020-07-20\">20</a></td><td><a href=\"/events/us/newyork/week/2020-07-21\">21</a></td><td><a href=\"/events/us/newyork/week/2020-07-22\">22</a></td><td><a href=\"/events/us/newyork/week/2020-07-23\">23</a></td><td><span class=\"day-current\">24</span></td><td><a href=\"/events/us/newyork/week/2020-07-25\">25</a></td></tr><tr><td><a href=\"/events/us/newyork/week/2020-07-26\">26</a></td><td><a href=\"/events/us/newyork/week/2020-07-27\">27</a></td><td><a href=\"/events/us/newyork/week/2020-07-28\">28</a></td><td><a href=\"/events/us/newyork/week/2020-07-29\">29</a></td><td><a href=\"/events/us/newyork/week/2020-07-30\">30</a></td><td><a href=\"/events/us/newyork/week/2020-07-31\">31</a></td><td><a class=\"day-off\" href=\"/events/us/newyork/week/2020-08-01\">1</a></td></tr></table>\n",
       "</div>\n",
       "<script type=\"text/javascript\">\n",
       "\t\t$(\"#ddlCalendarMonth, #ddlCalendarYear, #ddlCalendarType\").change(function () {\n",
       "            var aSearch = location.search.indexOf(\"&\") > 0\n",
       "                ? location.search.split('&')\n",
       "                : \"\";\n",
       "\n",
       "\t\t\tvar sQueryString;\n",
       "\n",
       "            var month = $('#ddlCalendarMonth').val().length === 2\n",
       "                ? $('#ddlCalendarMonth').val()\n",
       "                : \"0\" + $('#ddlCalendarMonth').val();\n",
       "\n",
       "            var day = $('#hfCalendarDayOfWeek').val().length === 2\n",
       "                ? $('#hfCalendarDayOfWeek').val()\n",
       "                : \"0\" + $('#hfCalendarDayOfWeek').val();\n",
       "\n",
       "            var area = $('#liArea span').text().toLowerCase() === 'all'\n",
       "                ? \"\"\n",
       "                : $('#liArea span').text();\n",
       "\n",
       "            var country = area === ''\n",
       "                ? $('#country-name').val()\n",
       "                : $('#liCountry span').text()\n",
       "\n",
       "\t\t\tsQueryString = \"/events/\"\n",
       "                + country.replace(/[^A-Z0-9]/ig, '').toLowerCase() + \"/\"\n",
       "                + area.replace(/[^A-Z0-9À-ž]/ig, '').toLowerCase().normalize(\"NFD\").replace(/[\\u0300-\\u036f]/g, \"\") + \"/\"\n",
       "                + $('#ddlCalendarType').val() + \"/\"\n",
       "\t\t\t\t+ $('#ddlCalendarYear').val() + \"-\"\n",
       "                + month + \"-\"\n",
       "\t\t\t\t+ day;\n",
       "\n",
       "\t\t\tlocation.href = sQueryString;\n",
       "\t\t});\n",
       "\t</script>\n",
       "</section>\n",
       "<div class=\"banner\">\n",
       "<div id=\"pnlMPU\">\n",
       "<div class=\"ad\" id=\"div-gpt-ad-1452773484957-7\" style=\"width: 300px; min-height: 250px; padding-bottom: 10px;\"></div>\n",
       "</div>\n",
       "</div>\n",
       "</div>\n",
       "</div>\n",
       "<div class=\"fl col2 h-align-toplist\">\n",
       "<div class=\"mr8\">\n",
       "<section class=\"top-list generic events\" id=\"toplist\">\n",
       "<h1 class=\"heading\">Top New York clubs</h1>\n",
       "<ul>\n",
       "<li><a ga-event-action=\"Brooklyn Mirage\" ga-event-category=\"top-clubs\" ga-on=\"click\" href=\"/club.aspx?id=105938\">Brooklyn Mirage</a> /</li><li><a ga-event-action=\"Good Room\" ga-event-category=\"top-clubs\" ga-on=\"click\" href=\"/club.aspx?id=97606\">Good Room</a> /</li><li><a ga-event-action=\"Bossa Nova Civic Club\" ga-event-category=\"top-clubs\" ga-on=\"click\" href=\"/club.aspx?id=71292\">Bossa Nova Civic Club</a> /</li><li><a ga-event-action=\"Elsewhere\" ga-event-category=\"top-clubs\" ga-on=\"click\" href=\"/club.aspx?id=139960\">Elsewhere</a> /</li><li><a ga-event-action=\"Nowadays\" ga-event-category=\"top-clubs\" ga-on=\"click\" href=\"/club.aspx?id=105873\">Nowadays</a> /</li><li><a ga-event-action=\"House Of Yes\" ga-event-category=\"top-clubs\" ga-on=\"click\" href=\"/club.aspx?id=21488\">House Of Yes</a> /</li><li><a ga-event-action=\"MoMA PS1\" ga-event-category=\"top-clubs\" ga-on=\"click\" href=\"/club.aspx?id=2495\">MoMA PS1</a> /</li><li><a ga-event-action=\"TBA Brooklyn\" ga-event-category=\"top-clubs\" ga-on=\"click\" href=\"/club.aspx?id=75374\">TBA Brooklyn</a> /</li><li><a ga-event-action=\"Le Bain\" ga-event-category=\"top-clubs\" ga-on=\"click\" href=\"/club.aspx?id=36873\">Le Bain</a> /</li><li><a ga-event-action=\"Avant Gardner\" ga-event-category=\"top-clubs\" ga-on=\"click\" href=\"/club.aspx?id=141127\">Avant Gardner</a> /</li><li><a ga-event-action=\"BASEMENT\" ga-event-category=\"top-clubs\" ga-on=\"click\" href=\"/club.aspx?id=165976\">BASEMENT</a> /</li><li><a ga-event-action=\"Schimanski\" ga-event-category=\"top-clubs\" ga-on=\"click\" href=\"/club.aspx?id=126308\">Schimanski</a> /</li>\n",
       "</ul>\n",
       "<div class=\"but\"><a ga-event-action=\"see-more\" ga-event-category=\"top-clubs\" ga-on=\"click\" href=\"/clubs.aspx?ai=8\">More New York clubs</a></div>\n",
       "</section><section class=\"top-list generic events\" id=\"toplist\">\n",
       "<h1 class=\"heading\">Top 20 regions</h1>\n",
       "<ul>\n",
       "<li><a ga-event-action=\"London\" ga-event-category=\"top-regions\" ga-on=\"click\" href=\"/guide/uk/london\">London, UK</a> /</li><li><a ga-event-action=\"Ibiza\" ga-event-category=\"top-regions\" ga-on=\"click\" href=\"/guide/es/ibiza\">Ibiza, ES</a> /</li><li><a ga-event-action=\"Berlin\" ga-event-category=\"top-regions\" ga-on=\"click\" href=\"/guide/de/berlin\">Berlin, DE</a> /</li><li><a ga-event-action=\"All\" ga-event-category=\"top-regions\" ga-on=\"click\" href=\"/guide/streamland\">Streamland</a> /</li><li><a ga-event-action=\"Amsterdam\" ga-event-category=\"top-regions\" ga-on=\"click\" href=\"/guide/nl/amsterdam\">Amsterdam, NL</a> /</li><li><a ga-event-action=\"Paris\" ga-event-category=\"top-regions\" ga-on=\"click\" href=\"/guide/fr/paris\">Paris, FR</a> /</li><li><a ga-event-action=\"Barcelona\" ga-event-category=\"top-regions\" ga-on=\"click\" href=\"/guide/es/barcelona\">Barcelona, ES</a> /</li><li><a ga-event-action=\"Tokyo\" ga-event-category=\"top-regions\" ga-on=\"click\" href=\"/guide/jp/tokyo\">Tokyo, JP</a> /</li><li><a ga-event-action=\"New York\" ga-event-category=\"top-regions\" ga-on=\"click\" href=\"/guide/us/newyork\">New York, US</a> /</li><li><a ga-event-action=\"South + East\" ga-event-category=\"top-regions\" ga-on=\"click\" href=\"/guide/uk/southeast\">South + East, UK</a> /</li><li><a ga-event-action=\"Prague\" ga-event-category=\"top-regions\" ga-on=\"click\" href=\"/guide/cz/prague\">Prague, CZ</a> /</li><li><a ga-event-action=\"Manchester\" ga-event-category=\"top-regions\" ga-on=\"click\" href=\"/guide/uk/manchester\">Manchester, UK</a> /</li><li><a ga-event-action=\"Glasgow\" ga-event-category=\"top-regions\" ga-on=\"click\" href=\"/guide/uk/glasgow\">Glasgow, UK</a> /</li><li><a ga-event-action=\"All\" ga-event-category=\"top-regions\" ga-on=\"click\" href=\"/guide/croatia\">Croatia</a> /</li><li><a ga-event-action=\"Midlands\" ga-event-category=\"top-regions\" ga-on=\"click\" href=\"/guide/uk/midlands\">Midlands, UK</a> /</li><li><a ga-event-action=\"Other regions\" ga-event-category=\"top-regions\" ga-on=\"click\" href=\"/guide/nl/otherregions\">Other regions, NL</a> /</li><li><a ga-event-action=\"North\" ga-event-category=\"top-regions\" ga-on=\"click\" href=\"/guide/uk/north\">North, UK</a> /</li><li><a ga-event-action=\"South\" ga-event-category=\"top-regions\" ga-on=\"click\" href=\"/guide/es/south\">South, ES</a> /</li><li><a ga-event-action=\"All\" ga-event-category=\"top-regions\" ga-on=\"click\" href=\"/guide/belgium\">Belgium</a> /</li><li><a ga-event-action=\"All\" ga-event-category=\"top-regions\" ga-on=\"click\" href=\"/guide/greece\">Greece</a> /</li>\n",
       "</ul>\n",
       "<div class=\"but\"><a ga-event-action=\"see-more\" ga-event-category=\"top-regions\" ga-on=\"click\" href=\"/events.aspx?show=all\">More regions</a></div>\n",
       "</section><div id=\"pnlSkyscraper\">\n",
       "<div class=\"ad mobile-off\" id=\"div-gpt-ad-1452773484957-12\" style=\"width: 160px; height: 600px;\"></div>\n",
       "</div>\n",
       "</div>\n",
       "</div>\n",
       "</div>\n",
       "</div>\n",
       "<div class=\"page-items content sub clearfix\">\n",
       "<ul>\n",
       "<li class=\"but arrow-left left\" id=\"liPrevious2\">\n",
       "<a ga-event-action=\"Previous \" ga-event-category=\"event-listings\" ga-on=\"click\" href=\"/events/us/newyork/week/2020-07-17\">Previous </a>\n",
       "</li><li class=\"but arrow-right right\" id=\"liNext2\">\n",
       "<a ga-event-action=\"Next \" ga-event-category=\"event-listings\" ga-on=\"click\" href=\"/events/us/newyork/week/2020-07-31\">Next </a>\n",
       "</li>\n",
       "</ul>\n",
       "</div>\n",
       "<div class=\"banner clearfix\">\n",
       "<div id=\"pnlECTOSlot2\" style=\"text-align: center;\">\n",
       "<div class=\"ad\" id=\"div-gpt-ad-1452773484957-1\"></div>\n",
       "</div>\n",
       "</div>\n",
       "<br/>\n",
       "<span>01 /</span>\n",
       "</li>\n",
       "<li class=\"alt\">\n",
       "<section class=\"content\" id=\"popular-news\">\n",
       "<h1 class=\"heading listing-heading\">Most popular news</h1>\n",
       "<div class=\"but heading-more mobile-off\">\n",
       "<a ga-event-action=\"see-more\" ga-event-category=\"news\" ga-on=\"click\" href=\"/news\">More news</a>\n",
       "</div>\n",
       "<div class=\"strip small slide\" data-type=\"news\" id=\"news-listing\">\n",
       "<ul class=\"list\">\n",
       "<li class=\"min-height-medium\">\n",
       "<article class=\"highlight-top\">\n",
       "<p class=\"date\">Mon, 20 Jul 2020</p>\n",
       "<a href=\"/news/73084\">\n",
       "<img class=\"thumb\" src=\"/images/news/2020/the-black-madonna-name.png\"/>\n",
       "</a>\n",
       "<p class=\"comments light\">\n",
       "<a href=\"/news/73084/?comments=1\">Post a comment</a>\n",
       "</p><a href=\"/news/73084\">\n",
       "<h1>Marea Stamper changes name from The Black Madonna</h1>\n",
       "</a>\n",
       "<p class=\"copy\">A petition launched by Detroit artist Monty Luke called her original name \"offensive\" and \"cultural appropriation.\"</p>\n",
       "</article>\n",
       "</li><li class=\"min-height-medium\">\n",
       "<article class=\"highlight-top\">\n",
       "<p class=\"date\">Tue, 21 Jul 2020</p>\n",
       "<a href=\"/news/73091\">\n",
       "<img class=\"thumb\" src=\"/images/news/2020/dave-lee-changes-name-fka-joey-negro.jpg\"/>\n",
       "</a>\n",
       "<p class=\"comments light\">\n",
       "<a href=\"/news/73091/?comments=1\">Post a comment</a>\n",
       "</p><a href=\"/news/73091\">\n",
       "<h1>Dave Lee drops Joey Negro stage name</h1>\n",
       "</a>\n",
       "<p class=\"copy\">The English producer will no longer use his most famous alias, he announced in a Facebook post today.</p>\n",
       "</article>\n",
       "</li><li class=\"min-height-medium\">\n",
       "<article class=\"highlight-top\">\n",
       "<p class=\"date\">Wed, 22 Jul 2020</p>\n",
       "<a href=\"/news/73106\">\n",
       "<img class=\"thumb\" src=\"/images/news/2020/patrick-holland-fka-project-pablo-alias-change-cultural-appropriation.jpg\"/>\n",
       "</a>\n",
       "<p class=\"comments light\">\n",
       "<a href=\"/news/73106/?comments=1\">Post a comment</a>\n",
       "</p><a href=\"/news/73106\">\n",
       "<h1>Patrick Holland addresses real reason for retiring his Project Pablo alias</h1>\n",
       "</a>\n",
       "<p class=\"copy\">\"Excluding the inherent problematic nature of my artist name from my [January] statement was an oppressive action towards the people who took the time and effort to hold me accountable.\"</p>\n",
       "</article>\n",
       "</li><li class=\"min-height-medium\">\n",
       "<article class=\"highlight-top\">\n",
       "<p class=\"date\">Mon, 20 Jul 2020</p>\n",
       "<a href=\"/news/73085\">\n",
       "<img class=\"thumb\" src=\"/images/news/2020/bath-rave-bbc-news.jpg\"/>\n",
       "</a>\n",
       "<p class=\"comments light\">\n",
       "<a href=\"/news/73085/?comments=1\">Post a comment</a>\n",
       "</p><a href=\"/news/73085\">\n",
       "<h1>3,000 people flout COVID-19 guidelines to attend illegal rave near Bath</h1>\n",
       "</a>\n",
       "<p class=\"copy\">The event ran from Saturday night through Sunday lunchtime at former RAF airfield Charmy Down.</p>\n",
       "</article>\n",
       "</li><li class=\"min-height-medium\">\n",
       "<article class=\"highlight-top\">\n",
       "<p class=\"date\">Sat, 18 Jul 2020</p>\n",
       "<a href=\"/news/73082\">\n",
       "<img class=\"thumb\" src=\"/images/news/2020/love-international-motd.jpg\"/>\n",
       "</a>\n",
       "<p class=\"comments light\">\n",
       "<a href=\"/news/73082/?comments=1\">Post a comment</a>\n",
       "</p><a href=\"/news/73082\">\n",
       "<h1>Mix Of The Day: Love International 2019 Recordings</h1>\n",
       "</a>\n",
       "<p class=\"copy\">Listen to sets from Powder, Craig Richards &amp; Nicolas Lutz, Mozhgan and more.</p>\n",
       "</article>\n",
       "</li><li class=\"min-height-medium\">\n",
       "<article class=\"highlight-top\">\n",
       "<p class=\"date\">Sun, 19 Jul 2020</p>\n",
       "<a href=\"/news/73083\">\n",
       "<img class=\"thumb\" src=\"/images/news/2020/shanti-celeste.jpg\"/>\n",
       "</a>\n",
       "<p class=\"comments light\">\n",
       "<a href=\"/news/73083/?comments=1\">Post a comment</a>\n",
       "</p><a href=\"/news/73083\">\n",
       "<h1>Shanti Celeste tapped for The Sound Of Love International 003 compilation</h1>\n",
       "</a>\n",
       "<p class=\"copy\">The London DJ has included Mark Seven, Pauline Anna Strom, Persian and a track she made with Saoirse on the 12-track set.</p>\n",
       "</article>\n",
       "</li><li class=\"min-height-medium\">\n",
       "<article class=\"highlight-top\">\n",
       "<p class=\"date\">Sun, 19 Jul 2020</p>\n",
       "<a href=\"/news/73081\">\n",
       "<img class=\"thumb\" src=\"/images/news/2020/sarra-wild-mix-of-the-day.jpg\"/>\n",
       "</a>\n",
       "<p class=\"comments light\">\n",
       "<a href=\"/news/73081/?comments=1\">Post a comment</a>\n",
       "</p><a href=\"/news/73081\">\n",
       "<h1>Mix Of The Day: Sarra Wild</h1>\n",
       "</a>\n",
       "<p class=\"copy\">A wild and inspiring ride through drum &amp; bass, techno and more originally broadcast on Radio Alhara.</p>\n",
       "</article>\n",
       "</li><li class=\"min-height-medium\">\n",
       "<article class=\"highlight-top\">\n",
       "<p class=\"date\">Thu, 23 Jul 2020</p>\n",
       "<a href=\"/news/73109\">\n",
       "<img class=\"thumb\" src=\"/images/news/2020/bc-friday.jpg\"/>\n",
       "</a>\n",
       "<p class=\"comments light\">\n",
       "<a href=\"/news/73109/?comments=1\">Post a comment</a>\n",
       "</p><a href=\"/news/73109\">\n",
       "<h1>Bandcamp Fridays to continue for the rest of 2020</h1>\n",
       "</a>\n",
       "<p class=\"copy\">The platform will continue to waive its fees on the first Friday of each month.</p>\n",
       "</article>\n",
       "</li><li class=\"min-height-medium\">\n",
       "<article class=\"highlight-top\">\n",
       "<p class=\"date\">Fri, 17 Jul 2020</p>\n",
       "<a href=\"/news/73080\">\n",
       "<img class=\"thumb\" src=\"/images/news/2020/senyawa-stephen-o-malley.jpg\"/>\n",
       "</a>\n",
       "<p class=\"comments light\">\n",
       "<a href=\"/news/73080/?comments=1\">Post a comment</a>\n",
       "</p><a href=\"/news/73080\">\n",
       "<h1>Senyawa and Stephen O'Malley collaborate on new LP, Bima Sakti</h1>\n",
       "</a>\n",
       "<p class=\"copy\">It's out now on iDEAL Recordings.</p>\n",
       "</article>\n",
       "</li><li class=\"min-height-medium\">\n",
       "<article class=\"highlight-top\">\n",
       "<p class=\"date\">Wed, 22 Jul 2020</p>\n",
       "<a href=\"/news/73100\">\n",
       "<img class=\"thumb\" src=\"/images/news/2020/kg-mix-of-the-day.jpg\"/>\n",
       "</a>\n",
       "<p class=\"comments light\">\n",
       "<a href=\"/news/73100/?comments=1\">Post a comment</a>\n",
       "</p><a href=\"/news/73100\">\n",
       "<h1>Mix Of The Day: KG</h1>\n",
       "</a>\n",
       "<p class=\"copy\">A heavy and punishing mix featuring pitched-down gqom and tribal beats.</p>\n",
       "</article>\n",
       "</li><li class=\"min-height-medium\">\n",
       "<article class=\"highlight-top\">\n",
       "<p class=\"date\">Tue, 21 Jul 2020</p>\n",
       "<a href=\"/news/73087\">\n",
       "<img class=\"thumb\" src=\"/images/news/2020/rizu-x-mix-of-the-day.jpg\"/>\n",
       "</a>\n",
       "<p class=\"comments light\">\n",
       "<a href=\"/news/73087/?comments=1\">Post a comment</a>\n",
       "</p><a href=\"/news/73087\">\n",
       "<h1>Mix Of The Day: Rizu X</h1>\n",
       "</a>\n",
       "<p class=\"copy\">Dystopian sounds with a hopeful message.</p>\n",
       "</article>\n",
       "</li><li class=\"min-height-medium\">\n",
       "<article class=\"highlight-top\">\n",
       "<p class=\"date\">Tue, 21 Jul 2020</p>\n",
       "<a href=\"/news/73098\">\n",
       "<img class=\"thumb\" src=\"/images/news/2020/ghost-ship-fire-settlement.jpg\"/>\n",
       "</a>\n",
       "<p class=\"comments light\">\n",
       "<a href=\"/news/73098/?comments=1\">Post a comment</a>\n",
       "</p><a href=\"/news/73098\">\n",
       "<h1>Families affected by Ghost Ship fire receive $32.7 million in settlement from the City Of Oakland</h1>\n",
       "</a>\n",
       "<p class=\"copy\">The city settled 32 out of 36 lawsuits brought on behalf of those who died in the fire.</p>\n",
       "</article>\n",
       "</li><li class=\"min-height-medium\">\n",
       "<article class=\"highlight-top\">\n",
       "<p class=\"date\">Tue, 21 Jul 2020</p>\n",
       "<a href=\"/news/73094\">\n",
       "<img class=\"thumb\" src=\"/images/news/2020/mad-mike-stacey-hale-dj-jungle-313-detroit-symposiuum.jpg\"/>\n",
       "</a>\n",
       "<p class=\"comments light\">\n",
       "<a href=\"/news/73094/?comments=1\">Post a comment</a>\n",
       "</p><a href=\"/news/73094\">\n",
       "<h1>Listen to a Black History Month symposium about Detroit techno with Mike Banks</h1>\n",
       "</a>\n",
       "<p class=\"copy\">Banks spoke alongside Stacey \"Hotwaxx\" Hale and Ron Johnson about the origins and evolution of Detroit techno.</p>\n",
       "</article>\n",
       "</li><li class=\"min-height-medium\">\n",
       "<article class=\"highlight-top\">\n",
       "<p class=\"date\">Thu, 23 Jul 2020</p>\n",
       "<a href=\"/news/73119\">\n",
       "<img class=\"thumb\" src=\"/images/news/2020/cz-wang-crack-mix-of-the-day.jpg\"/>\n",
       "</a>\n",
       "<p class=\"comments light\">\n",
       "<a href=\"/news/73119/?comments=1\">Post a comment</a>\n",
       "</p><a href=\"/news/73119\">\n",
       "<h1>Mix Of The Day: CZ Wang</h1>\n",
       "</a>\n",
       "<p class=\"copy\">Dream pop, jazz and downtempo from the Mood Hut affiliate.</p>\n",
       "</article>\n",
       "</li><li class=\"min-height-medium\">\n",
       "<article class=\"highlight-top\">\n",
       "<p class=\"date\">Thu, 23 Jul 2020</p>\n",
       "<a href=\"/news/73110\">\n",
       "<img class=\"thumb\" src=\"/images/news/2020/letusdance-campaign-uk-government-arts-relief.png\"/>\n",
       "</a>\n",
       "<p class=\"comments light\">\n",
       "<a href=\"/news/73110/?comments=1\">Post a comment</a>\n",
       "</p><a href=\"/news/73110\">\n",
       "<h1>UK nightlife community urges government to include clubs in £1.57 billion pandemic relief package for the arts</h1>\n",
       "</a>\n",
       "<p class=\"copy\">The #LetUsDance campaign calls for clarity where nightlife has not been explicitly included.</p>\n",
       "</article>\n",
       "</li><li class=\"min-height-medium\">\n",
       "<article class=\"highlight-top\">\n",
       "<p class=\"date\">Thu, 23 Jul 2020</p>\n",
       "<a href=\"/news/73102\">\n",
       "<img class=\"thumb\" src=\"/images/news/2020/the-prodigy-worlds-on-fire.jpg\"/>\n",
       "</a>\n",
       "<p class=\"comments light\">\n",
       "<a href=\"/news/73102/?comments=1\">Post a comment</a>\n",
       "</p><a href=\"/news/73102\">\n",
       "<h1>The Prodigy mark tenth anniversary of World's On Fire live album with original concert stream</h1>\n",
       "</a>\n",
       "<p class=\"copy\">The full 2010 show, recorded in Buckinghamshire, England, will be broadcast on YouTube on July 24th.</p>\n",
       "</article>\n",
       "</li><li class=\"min-height-medium\">\n",
       "<article class=\"highlight-top\">\n",
       "<p class=\"date\">Tue, 21 Jul 2020</p>\n",
       "<a href=\"/news/73095\">\n",
       "<img class=\"thumb\" src=\"/images/news/2020/communitybread.jpg\"/>\n",
       "</a>\n",
       "<p class=\"comments light\">\n",
       "<a href=\"/news/73095/?comments=1\">Post a comment</a>\n",
       "</p><a href=\"/news/73095\">\n",
       "<h1>New queer-owned livestream, Community Bread, launches this weekend</h1>\n",
       "</a>\n",
       "<p class=\"copy\">Jasmine Infiniti, Mike Servito, Xiorro and more will play the platform's inaugural event.</p>\n",
       "</article>\n",
       "</li><li class=\"min-height-medium\">\n",
       "<article class=\"highlight-top\">\n",
       "<p class=\"date\">Wed, 22 Jul 2020</p>\n",
       "<a href=\"/news/73107\">\n",
       "<img class=\"thumb\" src=\"/images/news/2020/gorilla-manchester-club-saved-from-closure.jpg\"/>\n",
       "</a>\n",
       "<p class=\"comments light\">\n",
       "<a href=\"/news/73107/?comments=1\">Post a comment</a>\n",
       "</p><a href=\"/news/73107\">\n",
       "<h1>Manchester's Gorilla and The Deaf Institute saved from permanent closure</h1>\n",
       "</a>\n",
       "<p class=\"copy\">Tokyo Industries has bought the two music venues after previous owners Mission Mars announced a pandemic-caused shuttering.</p>\n",
       "</article>\n",
       "</li><li class=\"min-height-medium\">\n",
       "<article class=\"highlight-top\">\n",
       "<p class=\"date\">Thu, 23 Jul 2020</p>\n",
       "<a href=\"/news/73116\">\n",
       "<img class=\"thumb\" src=\"/images/news/2020/maria-minerva-jupiter-jax-silk.jpg\"/>\n",
       "</a>\n",
       "<p class=\"comments light\">\n",
       "<a href=\"/news/73116/?comments=1\">Post a comment</a>\n",
       "</p><a href=\"/news/73116\">\n",
       "<h1>100% Silk announces new albums from Maria Minerva, Jupiter Jax</h1>\n",
       "</a>\n",
       "<p class=\"copy\">The Los Angeles label also has tapes from The Cyclist and Pleasure Model on the way.</p>\n",
       "</article>\n",
       "</li><li class=\"min-height-medium\">\n",
       "<article class=\"highlight-top\">\n",
       "<p class=\"date\">Wed, 22 Jul 2020</p>\n",
       "<a href=\"/news/73113\">\n",
       "<img class=\"thumb\" src=\"/images/news/2020/vatican-shadow-fernow.jpg\"/>\n",
       "</a>\n",
       "<p class=\"comments light\">\n",
       "<a href=\"/news/73113/?comments=1\">Post a comment</a>\n",
       "</p><a href=\"/news/73113\">\n",
       "<h1>Vatican Shadow reveals new album, Persian Pillars Of The Gasoline Era</h1>\n",
       "</a>\n",
       "<p class=\"copy\">The new album from noise and techno artist Dominick Fernow is out on 20 Buck Spin in September.</p>\n",
       "</article>\n",
       "</li> </ul>\n",
       "</div>\n",
       "<div class=\"link-more mobile-only tablet-off\">\n",
       "<a ga-event-action=\"see-more\" ga-event-category=\"news\" ga-on=\"click\" href=\"/news\">More news</a>\n",
       "</div>\n",
       "</section>\n",
       "<span>02 /</span>\n",
       "</li>\n",
       "</ul>\n",
       "</main>\n",
       "</form>\n",
       "<footer class=\"clearfix\"><ul class=\"content-list\">\n",
       "<li>\n",
       "<div class=\"content clearfix\">\n",
       "<div class=\"clearfix plus8\">\n",
       "<div class=\"fl col2-3\">\n",
       "<ul class=\"pb32\">\n",
       "<li id=\"logo-footer\"><a href=\"/\">RA</a></li>\n",
       "<li class=\"f12 grey pt16\">Copyright © 2020 Resident Advisor Ltd.</li>\n",
       "<li class=\"f12 grey\">All rights reserved.</li>\n",
       "<li class=\"f12 grey\"><a href=\"/privacy\">Privacy</a> &amp; <a href=\"/terms\">Terms</a></li>\n",
       "<li class=\"f12 grey\"><a href=\"/cookiepolicy\">Cookie Policy</a></li>\n",
       "</ul>\n",
       "</div>\n",
       "<div class=\"fl col4-5 pt60\">\n",
       "<div class=\"fl col1 footer-category\">\n",
       "<ul>\n",
       "<li class=\"f12 grey\">Resident Advisor /</li> <li><a ga-event-action=\"about\" ga-event-category=\"homefooter\" ga-on=\"click\" href=\"/about\">About</a></li>\n",
       "<li><a ga-event-action=\"advertise\" ga-event-category=\"homefooter\" ga-on=\"click\" href=\"/about/advertising\">Advertise</a></li>\n",
       "<li><a ga-event-action=\"jobs\" ga-event-category=\"homefooter\" ga-on=\"click\" href=\"https://www.doorsopen.co/company/12/resident-advisor/#utm_source=RA&amp;utm_medium=footer-link\">Jobs</a></li>\n",
       "<li><a ga-event-action=\"raevents\" ga-event-category=\"homefooter\" ga-on=\"click\" href=\"/features/3214\">24/7</a></li>\n",
       "<li><a ga-event-action=\"store\" ga-event-category=\"homefooter\" ga-on=\"click\" href=\"https://store.ra.co\">RA Store</a></li>\n",
       "<li><br/></li> </ul>\n",
       "</div>\n",
       "<div class=\"fl col1 footer-category\">\n",
       "<ul>\n",
       "<li class=\"f12 grey\">RA Tickets /</li>\n",
       "<li><a ga-event-action=\"mytickets\" ga-event-category=\"homefooter\" ga-on=\"click\" href=\"/shop/history\">My Tickets</a></li>\n",
       "<li><a ga-event-action=\"ticketfaq\" ga-event-category=\"homefooter\" ga-on=\"click\" href=\"/shop/faq\">Ticketing FAQ</a></li>\n",
       "<li><a ga-event-action=\"resale\" ga-event-category=\"homefooter\" ga-on=\"click\" href=\"/tickets/resale\">Resale</a></li>\n",
       "<li><a ga-event-action=\"selltickets\" ga-event-category=\"homefooter\" ga-on=\"click\" href=\"/tickets\">Sell tickets on RA</a></li>\n",
       "<li><div class=\"myra but\" style=\"width: 152px; margin-top: 50px;\"><a class=\"submit-event\" ga-event-action=\"submitevent\" ga-event-category=\"homefooter\" ga-on=\"click\" href=\"/submit-event.aspx\">Submit event</a></div></li>\n",
       "<li><br/></li>\n",
       "</ul>\n",
       "</div>\n",
       "<div class=\"fl col1 footer-category\">\n",
       "<ul>\n",
       "<li class=\"f12 grey\">Apps /</li> <li><a ga-event-action=\"raguide\" ga-event-category=\"homefooter\" ga-on=\"click\" href=\"/ra-guide\">RA Guide</a></li>\n",
       "<li><a ga-event-action=\"ticketscanner\" ga-event-category=\"homefooter\" ga-on=\"click\" href=\"/tickets/scanner\">RA Ticket Scanner</a></li> </ul>\n",
       "</div>\n",
       "<div class=\"fl col1 footer-category\">\n",
       "<ul>\n",
       "<li class=\"f12 grey\">Elsewhere /</li>\n",
       "<li><a ga-event-action=\"rayoutube\" ga-event-category=\"homefooter\" ga-on=\"click\" href=\"http://www.youtube.com/user/residentadvisor?sub_confirmation=1\">Watch on YouTube</a></li>\n",
       "<li><a ga-event-action=\"rafacebook\" ga-event-category=\"homefooter\" ga-on=\"click\" href=\"http://www.facebook.com/residentadvisor\">Follow on Facebook</a></li>\n",
       "<li><a ga-event-action=\"raapplemusic\" ga-event-category=\"homefooter\" ga-on=\"click\" href=\"https://itunes.apple.com/gb/curator/resident-advisor/id996091687\">Listen on Apple Music</a></li>\n",
       "<li><a ga-event-action=\"raspotify\" ga-event-category=\"homefooter\" ga-on=\"click\" href=\"https://open.spotify.com/user/residentadvisor\">Stream on Spotify</a></li>\n",
       "</ul>\n",
       "</div>\n",
       "</div>\n",
       "</div>\n",
       "</div>\n",
       "</li>\n",
       "<li class=\"nobreak\">\n",
       "<div class=\"content clearfix\">\n",
       "<div class=\"clearfix plus8\">\n",
       "<div class=\"fl col3\">\n",
       "<a href=\"https://jp.residentadvisor.net/\"></a><a href=\"https://jp.residentadvisor.net/\">RA is also available in Japanese. 日本版</a>\n",
       "</div>\n",
       "<ul class=\"col1p5\" id=\"social\">\n",
       "<li class=\"ytb\"><a ga-event-action=\"rayoutube\" ga-event-category=\"homefooter\" ga-on=\"click\" href=\"http://www.youtube.com/residentadvisor\">RA on YouTube</a></li>\n",
       "<li class=\"fcb\"><a ga-event-action=\"rafacebook\" ga-event-category=\"homefooter\" ga-on=\"click\" href=\"http://www.facebook.com/residentadvisor\">RA on Facebook</a></li>\n",
       "<li class=\"twt\"><a ga-event-action=\"ratwitter\" ga-event-category=\"homefooter\" ga-on=\"click\" href=\"http://www.twitter.com/residentadvisor\">RA on Twitter</a></li>\n",
       "<li class=\"ins\"><a ga-event-action=\"rainstagram\" ga-event-category=\"homefooter\" ga-on=\"click\" href=\"http://instagram.com/resident_advisor\">RA on Instagram</a></li>\n",
       "<li class=\"snd\"><a ga-event-action=\"rasoundcloud\" ga-event-category=\"homefooter\" ga-on=\"click\" href=\"http://www.soundcloud.com/resident-advisor\">RA on Soundcloud</a></li>\n",
       "</ul>\n",
       "</div>\n",
       "</div>\n",
       "</li>\n",
       "</ul></footer>\n",
       "<script type=\"text/javascript\">\n",
       "        (function(i, s, o, g, r, a, m) {\n",
       "                                        i['GoogleAnalyticsObject'] = r;\n",
       "                                        i[r] = i[r] || function() {\n",
       "                                            (i[r].q = i[r].q || []).push(arguments)\n",
       "                                        }, i[r].l = 1 * new Date();\n",
       "                                        a = s.createElement(o), m = s.getElementsByTagName(o)[0];\n",
       "                                        a.async = 1;\n",
       "                                        a.src = g;\n",
       "                                        m.parentNode.insertBefore(a, m)\n",
       "                                    })(window, document, 'script', '//www.google-analytics.com/analytics.js', 'ga');\n",
       "                                    ga('create', 'UA-313318-1', 'residentadvisor.net'\n",
       "                                    );\n",
       "                                    ga('require', 'displayfeatures');\n",
       "                                    ga('send', 'pageview');\n",
       "                                    ga('require', 'eventTracker');\n",
       "\n",
       "        if (window.location.href.indexOf('.residentadvisor.net') >= 0 && window.location.pathname.indexOf('submit-event') === 0) {\n",
       "\t        (function(r, a, v, e, l, i, n) {\n",
       "\t            r[l] = r[l] || function() { (r[l].q = r[l].q || []).push(arguments) };\n",
       "\t            i = a.createElement(v);\n",
       "\t            i.async = i.defer = 1;\n",
       "\t            i.src = e;\n",
       "\t            a.body.appendChild(i)\n",
       "\t        })(window, document, 'script', 'https://cdn.ravelin.net/js/rvn-beta.min.js', 'ravelin');\n",
       "\t        ravelin('setApiKey', 'pk_live_Z6F2v32uJEQnwn46SLF7xdojmnOPLfAI');\n",
       "            ravelin('setCustomerId', '0');\n",
       "            ravelin('setCookieDomain', '.residentadvisor.net');\n",
       "\t    }\n",
       "\t</script>\n",
       "<script>\n",
       "        cssVars({})\n",
       "    </script>\n",
       "</body>\n",
       "</html>"
      ]
     },
     "execution_count": 6,
     "metadata": {},
     "output_type": "execute_result"
    }
   ],
   "source": [
    "response = requests.get(url,'lxml')\n",
    "soup = bs4.BeautifulSoup(response.content,'lxml')\n",
    "soup"
   ]
  },
  {
   "cell_type": "code",
   "execution_count": 7,
   "metadata": {
    "ExecuteTime": {
     "end_time": "2020-07-24T17:03:42.874248Z",
     "start_time": "2020-07-24T17:03:42.870604Z"
    }
   },
   "outputs": [
    {
     "data": {
      "text/plain": [
       "<function id(obj, /)>"
      ]
     },
     "execution_count": 7,
     "metadata": {},
     "output_type": "execute_result"
    }
   ],
   "source": [
    "id"
   ]
  },
  {
   "cell_type": "code",
   "execution_count": 11,
   "metadata": {
    "ExecuteTime": {
     "end_time": "2020-07-24T17:04:31.322544Z",
     "start_time": "2020-07-24T17:04:31.304755Z"
    }
   },
   "outputs": [
    {
     "data": {
      "text/plain": [
       "1"
      ]
     },
     "execution_count": 11,
     "metadata": {},
     "output_type": "execute_result"
    }
   ],
   "source": [
    "tags = soup.find_all(id='events-listing')\n",
    "len(tags)"
   ]
  },
  {
   "cell_type": "code",
   "execution_count": 14,
   "metadata": {
    "ExecuteTime": {
     "end_time": "2020-07-24T17:04:57.971455Z",
     "start_time": "2020-07-24T17:04:57.949136Z"
    }
   },
   "outputs": [
    {
     "data": {
      "text/plain": [
       "<div class=\"strip slide small\" data-type=\"events\" id=\"events-listing\">\n",
       "<ul class=\"list small clearfix popular\" style=\"padding: 0;\">\n",
       "<li class=\"\">\n",
       "<article class=\"highlight-top\">\n",
       "<p>Sat, 25 Jul 2020</p>\n",
       "<a ga-event-action=\"popular-events\" ga-event-category=\"events-page\" ga-on=\"click\" href=\"/events/1418967\"><img class=\"nohide\" src=\"/images/events/flyer/2020/7/us-0725-1418967-list.jpg\"/></a>\n",
       "<p class=\"counter nohide\">\n",
       "<span>6</span> attending\n",
       "</p>\n",
       "<a ga-event-action=\"popular-events\" ga-event-category=\"events-page\" ga-on=\"click\" href=\"/events/1418967\">\n",
       "<h1>\n",
       "KTPM presents / Tribal Disco\n",
       "</h1>\n",
       "</a>\n",
       "<p class=\"copy nohide\">\n",
       "Rebel Cafe &amp; Garden\n",
       "</p>\n",
       "</article>\n",
       "</li><li class=\"\">\n",
       "<article class=\"highlight-top\">\n",
       "<p>Sat, 25 Jul 2020</p>\n",
       "<a ga-event-action=\"popular-events\" ga-event-category=\"events-page\" ga-on=\"click\" href=\"/events/1418972\"><img class=\"nohide\" src=\"/images/events/flyer/2020/7/us-0725-1418972-list.jpg\"/></a>\n",
       "<p class=\"counter nohide\">\n",
       "<span>2</span> attending\n",
       "</p>\n",
       "<a ga-event-action=\"popular-events\" ga-event-category=\"events-page\" ga-on=\"click\" href=\"/events/1418972\">\n",
       "<h1>\n",
       "Rave Revue: Living Your Best Afterlife\n",
       "</h1>\n",
       "</a>\n",
       "<p class=\"copy nohide\">\n",
       "<a href=\"\\club.aspx?id=147885\">Secret Loft</a>\n",
       "</p>\n",
       "</article>\n",
       "</li><li class=\"\">\n",
       "<article class=\"highlight-top\">\n",
       "<p>Fri, 31 Jul 2020</p>\n",
       "<a ga-event-action=\"popular-events\" ga-event-category=\"events-page\" ga-on=\"click\" href=\"/events/1396438\"><img class=\"nohide\" src=\"/images/events/flyer/2020/7/us-0731-1396438-list.jpg\"/></a>\n",
       "<p class=\"counter nohide\">\n",
       "<span>54</span> attending\n",
       "</p>\n",
       "<a ga-event-action=\"popular-events\" ga-event-category=\"events-page\" ga-on=\"click\" href=\"/events/1396438\">\n",
       "<h1>\n",
       "Sasha &amp; John Digweed at The Brooklyn Mirage\n",
       "</h1>\n",
       "</a>\n",
       "<p class=\"copy nohide\">\n",
       "<a href=\"\\club.aspx?id=105938\">Brooklyn Mirage</a>\n",
       "</p>\n",
       "</article>\n",
       "</li><li class=\"\">\n",
       "<article class=\"highlight-top\">\n",
       "<p>Sat, 1 Aug 2020</p>\n",
       "<a ga-event-action=\"popular-events\" ga-event-category=\"events-page\" ga-on=\"click\" href=\"/events/1394854\"><img class=\"nohide\" src=\"/images/events/flyer/2020/8/us-0801-1394854-list.jpg\"/></a>\n",
       "<p class=\"counter nohide\">\n",
       "<span>71</span> attending\n",
       "</p>\n",
       "<a ga-event-action=\"popular-events\" ga-event-category=\"events-page\" ga-on=\"click\" href=\"/events/1394854\">\n",
       "<h1>\n",
       "Nora En Pure presents Purified\n",
       "</h1>\n",
       "</a>\n",
       "<p class=\"copy nohide\">\n",
       "<a href=\"\\club.aspx?id=105938\">Brooklyn Mirage</a>\n",
       "</p>\n",
       "</article>\n",
       "</li><li class=\"\">\n",
       "<article class=\"highlight-top\">\n",
       "<p>Fri, 14 Aug 2020</p>\n",
       "<a ga-event-action=\"popular-events\" ga-event-category=\"events-page\" ga-on=\"click\" href=\"/events/1390570\"><img class=\"nohide\" src=\"/images/events/flyer/2020/5/us-0522-1390570-list.jpg\"/></a>\n",
       "<p class=\"counter nohide\">\n",
       "<span>13</span> attending\n",
       "</p>\n",
       "<a ga-event-action=\"popular-events\" ga-event-category=\"events-page\" ga-on=\"click\" href=\"/events/1390570\">\n",
       "<h1>\n",
       "[RESCHEDULED] Rjd2\n",
       "</h1>\n",
       "</a>\n",
       "<p class=\"copy nohide\">\n",
       "<a href=\"\\club.aspx?id=139960\">Elsewhere</a>\n",
       "</p>\n",
       "</article>\n",
       "</li><li class=\"\">\n",
       "<article class=\"highlight-top\">\n",
       "<p>Sat, 15 Aug 2020</p>\n",
       "<a ga-event-action=\"popular-events\" ga-event-category=\"events-page\" ga-on=\"click\" href=\"/events/1393093\"><img class=\"nohide\" src=\"/images/events/flyer/dj/jellybeanbenitez-list.jpg\"/></a>\n",
       "<p class=\"counter nohide\">\n",
       "<span>7</span> attending\n",
       "</p>\n",
       "<a ga-event-action=\"popular-events\" ga-event-category=\"events-page\" ga-on=\"click\" href=\"/events/1393093\">\n",
       "<h1>\n",
       "Jellybean Rocks The House ~ The Boat Ride with Jellybean Benitez\n",
       "</h1>\n",
       "</a>\n",
       "<p class=\"copy nohide\">\n",
       "<a href=\"\\club.aspx?id=6673\">Circle Line Cruises</a>\n",
       "</p>\n",
       "</article>\n",
       "</li><li class=\"\">\n",
       "<article class=\"highlight-top\">\n",
       "<p>Thu, 20 Aug 2020</p>\n",
       "<a ga-event-action=\"popular-events\" ga-event-category=\"events-page\" ga-on=\"click\" href=\"/events/1387029\"><img class=\"nohide\" src=\"/images/events/flyer/2020/8/us-0820-1387029-list.jpg\"/></a>\n",
       "<p class=\"counter nohide\">\n",
       "<span>20</span> attending\n",
       "</p>\n",
       "<a ga-event-action=\"popular-events\" ga-event-category=\"events-page\" ga-on=\"click\" href=\"/events/1387029\">\n",
       "<h1>\n",
       "[RESCHEDULED] Amon Tobin presents: Two Fingers\n",
       "</h1>\n",
       "</a>\n",
       "<p class=\"copy nohide\">\n",
       "<a href=\"\\club.aspx?id=139960\">Elsewhere</a>\n",
       "</p>\n",
       "</article>\n",
       "</li><li class=\"\">\n",
       "<article class=\"highlight-top\">\n",
       "<p>Sat, 22 Aug 2020</p>\n",
       "<a ga-event-action=\"popular-events\" ga-event-category=\"events-page\" ga-on=\"click\" href=\"/events/1362947\"><img class=\"nohide\" src=\"/images/events/flyer/2020/4/us-0403-1362947-list.jpg\"/></a>\n",
       "<p class=\"counter nohide\">\n",
       "<span>24</span> attending\n",
       "</p>\n",
       "<a ga-event-action=\"popular-events\" ga-event-category=\"events-page\" ga-on=\"click\" href=\"/events/1362947\">\n",
       "<h1>\n",
       "[RESCHEDULED] Autograf, Zack Martino\n",
       "</h1>\n",
       "</a>\n",
       "<p class=\"copy nohide\">\n",
       "<a href=\"\\club.aspx?id=139960\">Elsewhere</a>\n",
       "</p>\n",
       "</article>\n",
       "</li> </ul>\n",
       "</div>"
      ]
     },
     "execution_count": 14,
     "metadata": {},
     "output_type": "execute_result"
    }
   ],
   "source": [
    "tag = tags[0]\n",
    "tag"
   ]
  },
  {
   "cell_type": "markdown",
   "metadata": {},
   "source": [
    "### Loop to Harvest Info"
   ]
  },
  {
   "cell_type": "markdown",
   "metadata": {},
   "source": [
    "[\"Event_Name\", \"Venue\", \"Event_Date\", \"Number_of_Attendees\"]"
   ]
  },
  {
   "cell_type": "code",
   "execution_count": 70,
   "metadata": {
    "ExecuteTime": {
     "end_time": "2020-07-24T17:26:44.153165Z",
     "start_time": "2020-07-24T17:26:44.150771Z"
    }
   },
   "outputs": [],
   "source": [
    "# tags = soup.find_all(id='events-listing')\n",
    "\n",
    "li_tags = tag.find_all('li')"
   ]
  },
  {
   "cell_type": "code",
   "execution_count": 63,
   "metadata": {
    "ExecuteTime": {
     "end_time": "2020-07-24T17:22:01.461291Z",
     "start_time": "2020-07-24T17:22:01.458355Z"
    }
   },
   "outputs": [],
   "source": [
    "all_events = []\n",
    "\n",
    "for li in li_tags:\n",
    "    \n",
    "    event_dict = {}\n",
    "    h1_list = li.find_all('h1')\n",
    "    \n",
    "    \n",
    "    event_dict['event name'] = h1_list[0].text.replace('\\n','')\n",
    "    p_list = li.find_all('p')\n",
    "    \n",
    "    event_details ={\n",
    "    'date':p_list[0].text,\n",
    "    'attending': p_list[1].text.replace('\\n',''),\n",
    "    'venue': p_list[2].text.replace('\\n','')}\n",
    "    \n",
    "    event_dict.update(event_details)\n",
    "\n",
    "    all_events.append(event_dict)\n",
    "\n",
    "pd.DataFrame.from_records(all_events)"
   ]
  },
  {
   "cell_type": "markdown",
   "metadata": {},
   "source": [
    "#### Start Loop to Collect Events"
   ]
  },
  {
   "cell_type": "code",
   "execution_count": 64,
   "metadata": {
    "ExecuteTime": {
     "end_time": "2020-07-24T17:22:58.202967Z",
     "start_time": "2020-07-24T17:22:58.200990Z"
    }
   },
   "outputs": [],
   "source": [
    "# h1_list = li.find_all('h1')#.text\n",
    "\n",
    "# event_dict['event name'] = h1_list[0].text.replace('\\n','')\n"
   ]
  },
  {
   "cell_type": "code",
   "execution_count": 65,
   "metadata": {
    "ExecuteTime": {
     "end_time": "2020-07-24T17:23:02.445023Z",
     "start_time": "2020-07-24T17:23:02.442872Z"
    }
   },
   "outputs": [],
   "source": [
    "# event_dict = {}"
   ]
  },
  {
   "cell_type": "code",
   "execution_count": 48,
   "metadata": {
    "ExecuteTime": {
     "end_time": "2020-07-24T17:18:11.338921Z",
     "start_time": "2020-07-24T17:18:11.334523Z"
    }
   },
   "outputs": [
    {
     "data": {
      "text/plain": [
       "'\\nKTPM presents / Tribal Disco\\n'"
      ]
     },
     "execution_count": 48,
     "metadata": {},
     "output_type": "execute_result"
    }
   ],
   "source": [
    "h1_list[0].text"
   ]
  },
  {
   "cell_type": "code",
   "execution_count": 49,
   "metadata": {
    "ExecuteTime": {
     "end_time": "2020-07-24T17:18:11.630633Z",
     "start_time": "2020-07-24T17:18:11.626937Z"
    },
    "scrolled": true
   },
   "outputs": [
    {
     "data": {
      "text/plain": [
       "'\\nRebel Cafe & Garden\\n'"
      ]
     },
     "execution_count": 49,
     "metadata": {},
     "output_type": "execute_result"
    }
   ],
   "source": [
    "p_list = li.find_all('p')\n",
    "p_list[2].text#.replace('\\n','')"
   ]
  },
  {
   "cell_type": "code",
   "execution_count": 53,
   "metadata": {
    "ExecuteTime": {
     "end_time": "2020-07-24T17:18:19.081296Z",
     "start_time": "2020-07-24T17:18:19.078270Z"
    }
   },
   "outputs": [],
   "source": [
    "event_details ={\n",
    "    'date':p_list[0].text,\n",
    "    'attending': p_list[1].text.replace('\\n',''),\n",
    "    'venue': p_list[2].text.replace('\\n','')\n",
    "}"
   ]
  },
  {
   "cell_type": "code",
   "execution_count": 59,
   "metadata": {
    "ExecuteTime": {
     "end_time": "2020-07-24T17:20:00.071277Z",
     "start_time": "2020-07-24T17:20:00.068387Z"
    }
   },
   "outputs": [],
   "source": []
  },
  {
   "cell_type": "code",
   "execution_count": 61,
   "metadata": {
    "ExecuteTime": {
     "end_time": "2020-07-24T17:20:00.655290Z",
     "start_time": "2020-07-24T17:20:00.643791Z"
    }
   },
   "outputs": [
    {
     "data": {
      "text/html": [
       "<div>\n",
       "<style scoped>\n",
       "    .dataframe tbody tr th:only-of-type {\n",
       "        vertical-align: middle;\n",
       "    }\n",
       "\n",
       "    .dataframe tbody tr th {\n",
       "        vertical-align: top;\n",
       "    }\n",
       "\n",
       "    .dataframe thead th {\n",
       "        text-align: right;\n",
       "    }\n",
       "</style>\n",
       "<table border=\"1\" class=\"dataframe\">\n",
       "  <thead>\n",
       "    <tr style=\"text-align: right;\">\n",
       "      <th></th>\n",
       "      <th>date</th>\n",
       "      <th>attending</th>\n",
       "      <th>venue</th>\n",
       "    </tr>\n",
       "  </thead>\n",
       "  <tbody>\n",
       "    <tr>\n",
       "      <th>0</th>\n",
       "      <td>Sat, 25 Jul 2020</td>\n",
       "      <td>6 attending</td>\n",
       "      <td>Rebel Cafe &amp; Garden</td>\n",
       "    </tr>\n",
       "    <tr>\n",
       "      <th>1</th>\n",
       "      <td>Sat, 25 Jul 2020</td>\n",
       "      <td>6 attending</td>\n",
       "      <td>Rebel Cafe &amp; Garden</td>\n",
       "    </tr>\n",
       "  </tbody>\n",
       "</table>\n",
       "</div>"
      ],
      "text/plain": [
       "               date    attending                venue\n",
       "0  Sat, 25 Jul 2020  6 attending  Rebel Cafe & Garden\n",
       "1  Sat, 25 Jul 2020  6 attending  Rebel Cafe & Garden"
      ]
     },
     "execution_count": 61,
     "metadata": {},
     "output_type": "execute_result"
    }
   ],
   "source": [
    "pd.DataFrame.from_records(all_events)"
   ]
  },
  {
   "cell_type": "code",
   "execution_count": 16,
   "metadata": {
    "ExecuteTime": {
     "end_time": "2020-07-24T17:06:13.000817Z",
     "start_time": "2020-07-24T17:06:12.995957Z"
    }
   },
   "outputs": [
    {
     "data": {
      "text/plain": [
       "8"
      ]
     },
     "execution_count": 16,
     "metadata": {},
     "output_type": "execute_result"
    }
   ],
   "source": [
    "li_tags = tag.find_all('li')"
   ]
  },
  {
   "cell_type": "code",
   "execution_count": 17,
   "metadata": {
    "ExecuteTime": {
     "end_time": "2020-07-24T17:07:19.109726Z",
     "start_time": "2020-07-24T17:07:19.103527Z"
    }
   },
   "outputs": [
    {
     "data": {
      "text/plain": [
       "<li class=\"\">\n",
       "<article class=\"highlight-top\">\n",
       "<p>Sat, 25 Jul 2020</p>\n",
       "<a ga-event-action=\"popular-events\" ga-event-category=\"events-page\" ga-on=\"click\" href=\"/events/1418967\"><img class=\"nohide\" src=\"/images/events/flyer/2020/7/us-0725-1418967-list.jpg\"/></a>\n",
       "<p class=\"counter nohide\">\n",
       "<span>6</span> attending\n",
       "</p>\n",
       "<a ga-event-action=\"popular-events\" ga-event-category=\"events-page\" ga-on=\"click\" href=\"/events/1418967\">\n",
       "<h1>\n",
       "KTPM presents / Tribal Disco\n",
       "</h1>\n",
       "</a>\n",
       "<p class=\"copy nohide\">\n",
       "Rebel Cafe &amp; Garden\n",
       "</p>\n",
       "</article>\n",
       "</li>"
      ]
     },
     "execution_count": 17,
     "metadata": {},
     "output_type": "execute_result"
    }
   ],
   "source": [
    "li = li_tags[0]\n",
    "li"
   ]
  },
  {
   "cell_type": "markdown",
   "metadata": {},
   "source": [
    "#### Start Loop to Collect Events"
   ]
  },
  {
   "cell_type": "code",
   "execution_count": 56,
   "metadata": {
    "ExecuteTime": {
     "end_time": "2020-07-24T17:19:38.069968Z",
     "start_time": "2020-07-24T17:19:38.066456Z"
    }
   },
   "outputs": [],
   "source": [
    "all_events = []\n",
    "\n",
    "event_dict = {}"
   ]
  },
  {
   "cell_type": "code",
   "execution_count": 47,
   "metadata": {
    "ExecuteTime": {
     "end_time": "2020-07-24T17:18:10.890445Z",
     "start_time": "2020-07-24T17:18:10.887165Z"
    }
   },
   "outputs": [],
   "source": [
    "h1_list = li.find_all('h1')#.text\n",
    "\n",
    "event_dict['event name'] = h1_list[0].text.replace('\\n','')\n"
   ]
  },
  {
   "cell_type": "code",
   "execution_count": 46,
   "metadata": {
    "ExecuteTime": {
     "end_time": "2020-07-24T17:18:10.596429Z",
     "start_time": "2020-07-24T17:18:10.594102Z"
    }
   },
   "outputs": [],
   "source": [
    "event_dict = {}"
   ]
  },
  {
   "cell_type": "code",
   "execution_count": 48,
   "metadata": {
    "ExecuteTime": {
     "end_time": "2020-07-24T17:18:11.338921Z",
     "start_time": "2020-07-24T17:18:11.334523Z"
    }
   },
   "outputs": [
    {
     "data": {
      "text/plain": [
       "'\\nKTPM presents / Tribal Disco\\n'"
      ]
     },
     "execution_count": 48,
     "metadata": {},
     "output_type": "execute_result"
    }
   ],
   "source": [
    "h1_list[0].text"
   ]
  },
  {
   "cell_type": "code",
   "execution_count": 49,
   "metadata": {
    "ExecuteTime": {
     "end_time": "2020-07-24T17:18:11.630633Z",
     "start_time": "2020-07-24T17:18:11.626937Z"
    },
    "scrolled": true
   },
   "outputs": [
    {
     "data": {
      "text/plain": [
       "'\\nRebel Cafe & Garden\\n'"
      ]
     },
     "execution_count": 49,
     "metadata": {},
     "output_type": "execute_result"
    }
   ],
   "source": [
    "p_list = li.find_all('p')\n",
    "p_list[2].text#.replace('\\n','')"
   ]
  },
  {
   "cell_type": "code",
   "execution_count": 53,
   "metadata": {
    "ExecuteTime": {
     "end_time": "2020-07-24T17:18:19.081296Z",
     "start_time": "2020-07-24T17:18:19.078270Z"
    }
   },
   "outputs": [],
   "source": [
    "event_details ={\n",
    "    'date':p_list[0].text,\n",
    "    'attending': p_list[1].text.replace('\\n',''),\n",
    "    'venue': p_list[2].text.replace('\\n','')\n",
    "}"
   ]
  },
  {
   "cell_type": "code",
   "execution_count": 59,
   "metadata": {
    "ExecuteTime": {
     "end_time": "2020-07-24T17:20:00.071277Z",
     "start_time": "2020-07-24T17:20:00.068387Z"
    }
   },
   "outputs": [],
   "source": [
    "# event_dict.update(event_details)"
   ]
  },
  {
   "cell_type": "code",
   "execution_count": 68,
   "metadata": {
    "ExecuteTime": {
     "end_time": "2020-07-24T17:25:11.465252Z",
     "start_time": "2020-07-24T17:25:11.462299Z"
    }
   },
   "outputs": [],
   "source": [
    "# all_events.append(event_dict)"
   ]
  },
  {
   "cell_type": "code",
   "execution_count": 69,
   "metadata": {
    "ExecuteTime": {
     "end_time": "2020-07-24T17:25:13.971441Z",
     "start_time": "2020-07-24T17:25:13.969272Z"
    }
   },
   "outputs": [],
   "source": [
    "# pd.DataFrame.from_records(all_events)"
   ]
  },
  {
   "cell_type": "markdown",
   "metadata": {},
   "source": [
    "## Write a Function to Scrape all of the Events on the Given Page Events Page\n",
    "\n",
    "The function should return a Pandas DataFrame with columns for the Event_Name, Venue, Event_Date and Number_of_Attendees."
   ]
  },
  {
   "cell_type": "code",
   "execution_count": 76,
   "metadata": {
    "ExecuteTime": {
     "end_time": "2020-07-24T17:28:31.700532Z",
     "start_time": "2020-07-24T17:28:31.693394Z"
    }
   },
   "outputs": [],
   "source": [
    "def scrape_events(events_page_url):\n",
    "    #Your code here\n",
    "    response = requests.get(events_page_url,'lxml')\n",
    "    \n",
    "    soup = bs4.BeautifulSoup(response.content,'lxml')\n",
    "    \n",
    "    tags = soup.find_all(id='events-listing')\n",
    "    \n",
    "    if len(tags)>1:\n",
    "        print(\"error too many tags\")\n",
    "    else:\n",
    "        tag = tags[0]\n",
    "\n",
    "    li_tags = tag.find_all('li')\n",
    "    \n",
    "#     df.columns = [\"Event_Name\", \"Venue\", \"Event_Date\", \"Number_of_Attendees\"]\n",
    "    all_events = []\n",
    "    for li in li_tags:\n",
    "\n",
    "        event_dict = {}\n",
    "        h1_list = li.find_all('h1')\n",
    "\n",
    "\n",
    "        event_dict['event name'] = h1_list[0].text.replace('\\n','')\n",
    "        p_list = li.find_all('p')\n",
    "\n",
    "        event_details ={\n",
    "        'date':p_list[0].text,\n",
    "        'attending': p_list[1].text.replace('\\n',''),\n",
    "        'venue': p_list[2].text.replace('\\n','')}\n",
    "\n",
    "        event_dict.update(event_details)\n",
    "\n",
    "        all_events.append(event_dict)\n",
    "\n",
    "    return  pd.DataFrame.from_records(all_events)"
   ]
  },
  {
   "cell_type": "code",
   "execution_count": 77,
   "metadata": {
    "ExecuteTime": {
     "end_time": "2020-07-24T17:28:31.946578Z",
     "start_time": "2020-07-24T17:28:31.943003Z"
    }
   },
   "outputs": [
    {
     "data": {
      "text/plain": [
       "'https://www.residentadvisor.net/events/us/newyork'"
      ]
     },
     "execution_count": 77,
     "metadata": {},
     "output_type": "execute_result"
    }
   ],
   "source": [
    "url"
   ]
  },
  {
   "cell_type": "code",
   "execution_count": 78,
   "metadata": {
    "ExecuteTime": {
     "end_time": "2020-07-24T17:28:32.752419Z",
     "start_time": "2020-07-24T17:28:32.406599Z"
    }
   },
   "outputs": [
    {
     "data": {
      "text/html": [
       "<div>\n",
       "<style scoped>\n",
       "    .dataframe tbody tr th:only-of-type {\n",
       "        vertical-align: middle;\n",
       "    }\n",
       "\n",
       "    .dataframe tbody tr th {\n",
       "        vertical-align: top;\n",
       "    }\n",
       "\n",
       "    .dataframe thead th {\n",
       "        text-align: right;\n",
       "    }\n",
       "</style>\n",
       "<table border=\"1\" class=\"dataframe\">\n",
       "  <thead>\n",
       "    <tr style=\"text-align: right;\">\n",
       "      <th></th>\n",
       "      <th>event name</th>\n",
       "      <th>date</th>\n",
       "      <th>attending</th>\n",
       "      <th>venue</th>\n",
       "    </tr>\n",
       "  </thead>\n",
       "  <tbody>\n",
       "    <tr>\n",
       "      <th>0</th>\n",
       "      <td>KTPM presents / Tribal Disco</td>\n",
       "      <td>Sat, 25 Jul 2020</td>\n",
       "      <td>6 attending</td>\n",
       "      <td>Rebel Cafe &amp; Garden</td>\n",
       "    </tr>\n",
       "    <tr>\n",
       "      <th>1</th>\n",
       "      <td>Rave Revue: Living Your Best Afterlife</td>\n",
       "      <td>Sat, 25 Jul 2020</td>\n",
       "      <td>2 attending</td>\n",
       "      <td>Secret Loft</td>\n",
       "    </tr>\n",
       "    <tr>\n",
       "      <th>2</th>\n",
       "      <td>Sasha &amp; John Digweed at The Brooklyn Mirage</td>\n",
       "      <td>Fri, 31 Jul 2020</td>\n",
       "      <td>54 attending</td>\n",
       "      <td>Brooklyn Mirage</td>\n",
       "    </tr>\n",
       "    <tr>\n",
       "      <th>3</th>\n",
       "      <td>Nora En Pure presents Purified</td>\n",
       "      <td>Sat, 1 Aug 2020</td>\n",
       "      <td>71 attending</td>\n",
       "      <td>Brooklyn Mirage</td>\n",
       "    </tr>\n",
       "    <tr>\n",
       "      <th>4</th>\n",
       "      <td>[RESCHEDULED] Rjd2</td>\n",
       "      <td>Fri, 14 Aug 2020</td>\n",
       "      <td>13 attending</td>\n",
       "      <td>Elsewhere</td>\n",
       "    </tr>\n",
       "    <tr>\n",
       "      <th>5</th>\n",
       "      <td>Jellybean Rocks The House ~ The Boat Ride with...</td>\n",
       "      <td>Sat, 15 Aug 2020</td>\n",
       "      <td>7 attending</td>\n",
       "      <td>Circle Line Cruises</td>\n",
       "    </tr>\n",
       "    <tr>\n",
       "      <th>6</th>\n",
       "      <td>[RESCHEDULED] Amon Tobin presents: Two Fingers</td>\n",
       "      <td>Thu, 20 Aug 2020</td>\n",
       "      <td>20 attending</td>\n",
       "      <td>Elsewhere</td>\n",
       "    </tr>\n",
       "    <tr>\n",
       "      <th>7</th>\n",
       "      <td>[RESCHEDULED] Autograf, Zack Martino</td>\n",
       "      <td>Sat, 22 Aug 2020</td>\n",
       "      <td>24 attending</td>\n",
       "      <td>Elsewhere</td>\n",
       "    </tr>\n",
       "  </tbody>\n",
       "</table>\n",
       "</div>"
      ],
      "text/plain": [
       "                                          event name              date  \\\n",
       "0                       KTPM presents / Tribal Disco  Sat, 25 Jul 2020   \n",
       "1             Rave Revue: Living Your Best Afterlife  Sat, 25 Jul 2020   \n",
       "2        Sasha & John Digweed at The Brooklyn Mirage  Fri, 31 Jul 2020   \n",
       "3                     Nora En Pure presents Purified   Sat, 1 Aug 2020   \n",
       "4                                 [RESCHEDULED] Rjd2  Fri, 14 Aug 2020   \n",
       "5  Jellybean Rocks The House ~ The Boat Ride with...  Sat, 15 Aug 2020   \n",
       "6     [RESCHEDULED] Amon Tobin presents: Two Fingers  Thu, 20 Aug 2020   \n",
       "7               [RESCHEDULED] Autograf, Zack Martino  Sat, 22 Aug 2020   \n",
       "\n",
       "      attending                venue  \n",
       "0   6 attending  Rebel Cafe & Garden  \n",
       "1   2 attending          Secret Loft  \n",
       "2  54 attending      Brooklyn Mirage  \n",
       "3  71 attending      Brooklyn Mirage  \n",
       "4  13 attending            Elsewhere  \n",
       "5   7 attending  Circle Line Cruises  \n",
       "6  20 attending            Elsewhere  \n",
       "7  24 attending            Elsewhere  "
      ]
     },
     "execution_count": 78,
     "metadata": {},
     "output_type": "execute_result"
    }
   ],
   "source": [
    "scrape_events(url)"
   ]
  },
  {
   "cell_type": "markdown",
   "metadata": {},
   "source": [
    "# END OF STUDY GROUP"
   ]
  },
  {
   "cell_type": "code",
   "execution_count": null,
   "metadata": {},
   "outputs": [],
   "source": []
  },
  {
   "cell_type": "markdown",
   "metadata": {},
   "source": [
    "## Write a Function to Retrieve the URL for the Next Page"
   ]
  },
  {
   "cell_type": "code",
   "execution_count": null,
   "metadata": {},
   "outputs": [],
   "source": [
    "def next_page(url):\n",
    "    #Your code here\n",
    "    return next_page_url"
   ]
  },
  {
   "cell_type": "markdown",
   "metadata": {},
   "source": [
    "## Scrape the Next 1000 Events for Your Area\n",
    "\n",
    "Display the data sorted by the number of attendees. If there is a tie for the number attending, sort by event date."
   ]
  },
  {
   "cell_type": "code",
   "execution_count": null,
   "metadata": {},
   "outputs": [],
   "source": [
    "#Your code here"
   ]
  },
  {
   "cell_type": "markdown",
   "metadata": {},
   "source": [
    "## Summary \n",
    "\n",
    "Congratulations! In this lab, you successfully developed a pipeline to scrape a website for concert event information!"
   ]
  }
 ],
 "metadata": {
  "kernelspec": {
   "display_name": "learn-env",
   "language": "python",
   "name": "learn-env"
  },
  "language_info": {
   "codemirror_mode": {
    "name": "ipython",
    "version": 3
   },
   "file_extension": ".py",
   "mimetype": "text/x-python",
   "name": "python",
   "nbconvert_exporter": "python",
   "pygments_lexer": "ipython3",
   "version": "3.6.9"
  },
  "toc": {
   "base_numbering": 1,
   "nav_menu": {},
   "number_sections": true,
   "sideBar": true,
   "skip_h1_title": false,
   "title_cell": "Table of Contents",
   "title_sidebar": "Contents",
   "toc_cell": false,
   "toc_position": {},
   "toc_section_display": true,
   "toc_window_display": true
  }
 },
 "nbformat": 4,
 "nbformat_minor": 2
}
