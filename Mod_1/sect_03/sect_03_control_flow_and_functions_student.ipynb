{
 "cells": [
  {
   "cell_type": "markdown",
   "metadata": {},
   "source": [
    "# Sect 03: Control Flow, Functions, and Statistics\n"
   ]
  },
  {
   "cell_type": "markdown",
   "metadata": {},
   "source": [
    "- online-ds-ft-070620\n",
    "- 07/14/20"
   ]
  },
  {
   "cell_type": "markdown",
   "metadata": {},
   "source": [
    "# Announcements"
   ]
  },
  {
   "cell_type": "markdown",
   "metadata": {},
   "source": [
    "- Intro to Career Services Thursday 12 pm EST"
   ]
  },
  {
   "cell_type": "markdown",
   "metadata": {},
   "source": [
    "# Learning Objectives"
   ]
  },
  {
   "cell_type": "markdown",
   "metadata": {},
   "source": [
    "- Discuss some key Python vocabulary\n",
    "- Discuss Methods of Dispersion and Methods of Central Tendency\n",
    "- Walk through the Implementing Statistics with Functions lab"
   ]
  },
  {
   "cell_type": "markdown",
   "metadata": {},
   "source": [
    "# Questions"
   ]
  },
  {
   "cell_type": "markdown",
   "metadata": {},
   "source": [
    "-  Mathematical notation?\n",
    "- "
   ]
  },
  {
   "cell_type": "markdown",
   "metadata": {},
   "source": [
    "# Python Vocabulary "
   ]
  },
  {
   "cell_type": "markdown",
   "metadata": {},
   "source": [
    "- Variable: name/label that points to/is assigned to a value or function or object.\n",
    "- \"assign\": setting the specific value for that variable\n",
    "- operator: special symbol/character with some special meaning in python\n",
    "    - `=`\n",
    "    - `+-`\n",
    "    - `==`\n",
    "    - `+=`,`-=`,`/=`,etc.\n",
    "    - `+`,`-`,`/`\n",
    "    - Modulo `%` - the remainder \n",
    "    - `//` - floor devision\n",
    "    - `is`,`is not` vs `==`\n",
    "    - `in`\n",
    "    \n",
    "    \n",
    "- Loop:\n",
    "    - code that will run on every item in some container (`iterable`)\n",
    "    - `collection`\n",
    "    \n",
    "- \"Nested\" loop:\n",
    "    - loop inside a loop\n",
    "\n",
    "- **Function: a reusable block of code that we can `call` as many times as we want, that we can customize/make-flexible using paramters** \n",
    "- Parameters: \n",
    "    - what we pass into a function. \n",
    "    \n",
    "- Argument:\n",
    "    - Positional Argument:\n",
    "    - Keyword/default Arguments:\n",
    "    \n",
    "    \n",
    "- \"Calling\" a function:  \n",
    "    - Using a function (used paranthesis to make it do something\n",
    "   "
   ]
  },
  {
   "cell_type": "code",
   "execution_count": 56,
   "metadata": {
    "ExecuteTime": {
     "end_time": "2020-07-14T16:26:38.176769Z",
     "start_time": "2020-07-14T16:26:38.174481Z"
    }
   },
   "outputs": [],
   "source": [
    "def my_func(name):\n",
    "    print(name)"
   ]
  },
  {
   "cell_type": "code",
   "execution_count": 14,
   "metadata": {
    "ExecuteTime": {
     "end_time": "2020-07-14T16:11:57.263263Z",
     "start_time": "2020-07-14T16:11:57.259385Z"
    }
   },
   "outputs": [
    {
     "data": {
      "text/plain": [
       "True"
      ]
     },
     "execution_count": 14,
     "metadata": {},
     "output_type": "execute_result"
    }
   ],
   "source": [
    "people = ['Joan','Miguel','Charlotte','Joey']\n",
    "'Miguel' in people"
   ]
  },
  {
   "cell_type": "code",
   "execution_count": 57,
   "metadata": {
    "ExecuteTime": {
     "end_time": "2020-07-14T16:26:50.137882Z",
     "start_time": "2020-07-14T16:26:50.135096Z"
    }
   },
   "outputs": [
    {
     "name": "stdout",
     "output_type": "stream",
     "text": [
      "Joan\n"
     ]
    }
   ],
   "source": [
    "my_func(people[0])"
   ]
  },
  {
   "cell_type": "code",
   "execution_count": 15,
   "metadata": {
    "ExecuteTime": {
     "end_time": "2020-07-14T16:12:35.644922Z",
     "start_time": "2020-07-14T16:12:35.639969Z"
    }
   },
   "outputs": [
    {
     "data": {
      "text/plain": [
       "True"
      ]
     },
     "execution_count": 15,
     "metadata": {},
     "output_type": "execute_result"
    }
   ],
   "source": [
    "4 == 2+2"
   ]
  },
  {
   "cell_type": "code",
   "execution_count": 40,
   "metadata": {
    "ExecuteTime": {
     "end_time": "2020-07-14T16:18:31.084592Z",
     "start_time": "2020-07-14T16:18:31.079501Z"
    }
   },
   "outputs": [
    {
     "data": {
      "text/plain": [
       "True"
      ]
     },
     "execution_count": 40,
     "metadata": {},
     "output_type": "execute_result"
    }
   ],
   "source": [
    "a='1'\n",
    "b='1'\n",
    "a==b"
   ]
  },
  {
   "cell_type": "code",
   "execution_count": 41,
   "metadata": {
    "ExecuteTime": {
     "end_time": "2020-07-14T16:18:32.181244Z",
     "start_time": "2020-07-14T16:18:32.177140Z"
    }
   },
   "outputs": [
    {
     "data": {
      "text/plain": [
       "True"
      ]
     },
     "execution_count": 41,
     "metadata": {},
     "output_type": "execute_result"
    }
   ],
   "source": [
    "a is b"
   ]
  },
  {
   "cell_type": "code",
   "execution_count": 45,
   "metadata": {
    "ExecuteTime": {
     "end_time": "2020-07-14T16:19:34.312120Z",
     "start_time": "2020-07-14T16:19:34.309603Z"
    }
   },
   "outputs": [],
   "source": [
    "list_a = ['1']\n",
    "list_b = ['1']\n",
    "\n"
   ]
  },
  {
   "cell_type": "code",
   "execution_count": 46,
   "metadata": {
    "ExecuteTime": {
     "end_time": "2020-07-14T16:19:34.661976Z",
     "start_time": "2020-07-14T16:19:34.657561Z"
    }
   },
   "outputs": [
    {
     "data": {
      "text/plain": [
       "True"
      ]
     },
     "execution_count": 46,
     "metadata": {},
     "output_type": "execute_result"
    }
   ],
   "source": [
    "list_a==list_b"
   ]
  },
  {
   "cell_type": "code",
   "execution_count": 47,
   "metadata": {
    "ExecuteTime": {
     "end_time": "2020-07-14T16:19:42.707325Z",
     "start_time": "2020-07-14T16:19:42.704041Z"
    }
   },
   "outputs": [
    {
     "data": {
      "text/plain": [
       "False"
      ]
     },
     "execution_count": 47,
     "metadata": {},
     "output_type": "execute_result"
    }
   ],
   "source": [
    "list_a is list_b"
   ]
  },
  {
   "cell_type": "code",
   "execution_count": 48,
   "metadata": {
    "ExecuteTime": {
     "end_time": "2020-07-14T16:19:43.439033Z",
     "start_time": "2020-07-14T16:19:43.435819Z"
    }
   },
   "outputs": [
    {
     "data": {
      "text/plain": [
       "True"
      ]
     },
     "execution_count": 48,
     "metadata": {},
     "output_type": "execute_result"
    }
   ],
   "source": [
    "a[0] == b[0]"
   ]
  },
  {
   "cell_type": "code",
   "execution_count": 49,
   "metadata": {
    "ExecuteTime": {
     "end_time": "2020-07-14T16:19:44.760298Z",
     "start_time": "2020-07-14T16:19:44.756372Z"
    }
   },
   "outputs": [
    {
     "data": {
      "text/plain": [
       "True"
      ]
     },
     "execution_count": 49,
     "metadata": {},
     "output_type": "execute_result"
    }
   ],
   "source": [
    "a[0] is b[0]"
   ]
  },
  {
   "cell_type": "code",
   "execution_count": 51,
   "metadata": {
    "ExecuteTime": {
     "end_time": "2020-07-14T16:20:18.584749Z",
     "start_time": "2020-07-14T16:20:18.582098Z"
    }
   },
   "outputs": [],
   "source": [
    "list_a = ['1','2']\n",
    "list_b = ['1']"
   ]
  },
  {
   "cell_type": "code",
   "execution_count": 53,
   "metadata": {
    "ExecuteTime": {
     "end_time": "2020-07-14T16:20:28.716225Z",
     "start_time": "2020-07-14T16:20:28.712735Z"
    }
   },
   "outputs": [
    {
     "data": {
      "text/plain": [
       "(['1', '2'], ['1'])"
      ]
     },
     "execution_count": 53,
     "metadata": {},
     "output_type": "execute_result"
    }
   ],
   "source": [
    "list_a,list_b"
   ]
  },
  {
   "cell_type": "code",
   "execution_count": 54,
   "metadata": {
    "ExecuteTime": {
     "end_time": "2020-07-14T16:20:37.434291Z",
     "start_time": "2020-07-14T16:20:37.431636Z"
    }
   },
   "outputs": [],
   "source": [
    "list_a = list_b"
   ]
  },
  {
   "cell_type": "code",
   "execution_count": 55,
   "metadata": {
    "ExecuteTime": {
     "end_time": "2020-07-14T16:20:44.179187Z",
     "start_time": "2020-07-14T16:20:44.175620Z"
    }
   },
   "outputs": [
    {
     "data": {
      "text/plain": [
       "['1']"
      ]
     },
     "execution_count": 55,
     "metadata": {},
     "output_type": "execute_result"
    }
   ],
   "source": [
    "list_a"
   ]
  },
  {
   "cell_type": "markdown",
   "metadata": {},
   "source": [
    "# Statistics"
   ]
  },
  {
   "cell_type": "markdown",
   "metadata": {
    "colab_type": "text",
    "id": "8kyBkTOJCyT4"
   },
   "source": [
    "## Measures of Central Tendency"
   ]
  },
  {
   "cell_type": "markdown",
   "metadata": {
    "colab_type": "text",
    "id": "8kyBkTOJCyT4"
   },
   "source": [
    "### Mean"
   ]
  },
  {
   "cell_type": "markdown",
   "metadata": {
    "colab_type": "text",
    "id": "8kyBkTOJCyT4"
   },
   "source": [
    "The **Mean** or **Arithmetic Average** is the value obtained by dividing the sum of all the data by the total number of data points as shown in the formula below:\n",
    "\n",
    "$$ \n",
    "\\Large\\bar X = \\dfrac{\\sum X}{N} $$"
   ]
  },
  {
   "cell_type": "markdown",
   "metadata": {
    "colab_type": "text",
    "id": "8kyBkTOJCyT4"
   },
   "source": [
    "### Median "
   ]
  },
  {
   "cell_type": "markdown",
   "metadata": {
    "colab_type": "text",
    "id": "8kyBkTOJCyT4"
   },
   "source": [
    "- The median is the middle value in a sorted list of values/observations\n",
    "\n",
    "```python\n",
    "def median(list_of_observations):\n",
    "    \"\"\"Finds the median for input list of observations/values by sorting observations and choosing appropriate value depending on if len(list) is odd or even.\n",
    "    Args:\n",
    "        list_of_observations (list): The first parameter.\n",
    "\n",
    "    Returns:\n",
    "        median (single element of list): calculated median value.\n",
    "    \"\"\"\n",
    "    \n",
    "    \n",
    "    # Calculate length of list / num of observations\n",
    "    length = len(list_of_observations)         \n",
    "    \n",
    "    # Sort reviews by values to to locate median\n",
    "    sorted_vals = sorted(list_of_observations) \n",
    "    \n",
    "    \n",
    "    ## Calc median using methods for odd/even lengths\n",
    "    # If length is even calc mean of middle 2 nums:\n",
    "    if ((length % 2) == 0):\n",
    "        \n",
    "        print('There is an even number of values. Calculating mean of middle 2 elements.')\n",
    "        \n",
    "        ## Get the location of middle nums\n",
    "        ## REMINDER: Python list indices start at 0, not 1\n",
    "\n",
    "        # Index of 1st num is halfway into list\n",
    "        idx_0 = int(length/2)\n",
    "        \n",
    "        # Index of 2nd num is +1 in list\n",
    "        idx_1 = idx_0 +1\n",
    "        \n",
    "        \n",
    "        # Median is mean of mid nums\n",
    "        median = (sorted_vals[idx_0] + sorted_vals[idx_1])/2\n",
    "    \n",
    "        \n",
    "    # If length is odd, select middle num\n",
    "    else:\n",
    "        \n",
    "        print('There is an odd number of values. Selecting middle elemenmt.')\n",
    "        \n",
    "        # Get the location of mid num\n",
    "        idx_med = int(length//2)    \n",
    "        \n",
    "        # Median is mid num\n",
    "        median = sorted_vals[idx_med]             \n",
    "    \n",
    "    return median\n",
    "\n",
    "```"
   ]
  },
  {
   "cell_type": "markdown",
   "metadata": {
    "colab_type": "text",
    "id": "8kyBkTOJCyT4"
   },
   "source": [
    "### Mode"
   ]
  },
  {
   "cell_type": "markdown",
   "metadata": {
    "colab_type": "text",
    "id": "8kyBkTOJCyT4"
   },
   "source": [
    "- The mode is the value that occurs the most\n",
    "    - highest frequency\n",
    "    \n",
    "  \n",
    "```python\n",
    "def get_mode(data):\n",
    "    \"\"\"Solution from Implementing stats with functions lab.\n",
    "    Finds mode by making a dictionary of vals = {val:frequency} \n",
    "    Loops through data and updates a dictionary with +=1.\n",
    "    \n",
    "    Args:\n",
    "        data (list)\n",
    "        \n",
    "    Returns:\n",
    "        mode (element from data list)\n",
    "    \"\"\"\n",
    "\n",
    "    # Create and populate frequency distribution\n",
    "    frequency_dict = {}\n",
    "    \n",
    "    # If an element is not in the dictionary , add it with value 1\n",
    "    # If an element is already in the dictionary , +1 the value\n",
    "    for i in data:\n",
    "        \n",
    "        if i not in frequency_dict:\n",
    "            frequency_dict[i] = 1\n",
    "            \n",
    "        else:\n",
    "            frequency_dict[i] += 1\n",
    "    \n",
    "    # Create a list for mode values\n",
    "    modes = []\n",
    "    \n",
    "    #from the dictionary, add element(s) to the modes list with max frequency\n",
    "    highest_freq = max(frequency_dict.values())\n",
    "    \n",
    "    for key, val in frequency_dict.items():\n",
    "        if val == highest_freq:\n",
    "            modes.append(key)\n",
    "            \n",
    "    # Return the mode list \n",
    "    return modes\n",
    "```"
   ]
  },
  {
   "cell_type": "markdown",
   "metadata": {
    "colab_type": "text",
    "id": "W70VNCxZ9wDv"
   },
   "source": [
    "## Measures of Dispersion"
   ]
  },
  {
   "cell_type": "markdown",
   "metadata": {
    "colab_type": "text",
    "id": "W70VNCxZ9wDv"
   },
   "source": [
    "### Absolute Deviation"
   ]
  },
  {
   "cell_type": "markdown",
   "metadata": {
    "colab_type": "text",
    "id": "W70VNCxZ9wDv"
   },
   "source": [
    "**Absolute Deviation** is the simplest way of calculating the dispersion of a data set. It is calculated by taking a value from the dataset and subtracting the mean of the dataset. This helps to identify the \"distance\" between a given value and the mean. In other words, how much a value *deviates* from the mean.  \n",
    "\n",
    "> $\\left|x_i - \\bar{x}\\right|$\n",
    "\n",
    "**Average Absolute Deviation** is calculated by taking the mean of all individual absolute deviations in a data set as shown in the formula below:\n",
    "\n",
    "$$\\large \\dfrac{1}{n}\\sum^n_{i=1}\\left|(x_i-\\bar x)\\right| $$"
   ]
  },
  {
   "cell_type": "markdown",
   "metadata": {
    "colab_type": "text",
    "id": "W70VNCxZ9wDv"
   },
   "source": [
    "### Variance"
   ]
  },
  {
   "cell_type": "markdown",
   "metadata": {
    "colab_type": "text",
    "id": "W70VNCxZ9wDv"
   },
   "source": [
    "Earlier in the course, you learned about __variance__ (represented by $\\sigma^2$) as a measure of dispersion for continuous random variables from its expected mean value. Let's quickly revisit this, as variance formula plays a key role while calculating covariance and correlation measures.\n",
    "\n",
    "The formula for calculating variance as shown below:\n",
    "\n",
    "$$\\Large \\sigma^2 = \\dfrac{1}{n}\\displaystyle\\sum_{i=1}^{n}(x_i-\\mu)^2$$\n",
    "\n",
    "- $x$ represents an individual data points\n",
    "- $\\mu $ is the mean of the data points\n",
    "- $n$ is the total number of data points "
   ]
  },
  {
   "cell_type": "markdown",
   "metadata": {
    "colab_type": "text",
    "id": "W70VNCxZ9wDv"
   },
   "source": [
    "## Standard Deviation"
   ]
  },
  {
   "cell_type": "markdown",
   "metadata": {
    "colab_type": "text",
    "id": "W70VNCxZ9wDv"
   },
   "source": [
    "The **Standard Deviation** is another measure of the spread of values within a dataset. \n",
    "It is simply the square root of the variance. In the above formula, $\\sigma^2$ is the variance so $\\sigma$ is the standard deviation. \n",
    "\n",
    "$$ \\large \\sigma = \\sqrt{\\dfrac{1}{n}\\displaystyle\\sum^n_{i=1}(x_i-\\mu)^2} $$"
   ]
  },
  {
   "cell_type": "markdown",
   "metadata": {
    "colab_type": "text",
    "id": "W70VNCxZ9wDv"
   },
   "source": [
    "## Measures of Mututal Variation"
   ]
  },
  {
   "cell_type": "markdown",
   "metadata": {
    "colab_type": "text",
    "id": "W70VNCxZ9wDv"
   },
   "source": [
    "### Calculating Covariance"
   ]
  },
  {
   "cell_type": "markdown",
   "metadata": {
    "colab_type": "text",
    "id": "W70VNCxZ9wDv"
   },
   "source": [
    "If you have $X$ and $Y$, two random variables having $n$ elements each. You can calculate covariance ($\\sigma_{xy}$) between these two variables by using the formula:\n",
    "\n",
    "$$ \\Large \\sigma_{XY} = \\dfrac{1}{n}\\displaystyle\\sum_{i=1}^{n}(x_i -\\mu_x)(y_i - \\mu_y)$$\n",
    "\n",
    "- $\\sigma_{XY}$ = Covariance between $X$ and $Y$\n",
    "- $x_i$ = ith element of variable $X$\n",
    "- $y_i$ = ith element of variable $Y$\n",
    "- $n$ = number of data points (__$n$ must be same for $X$ and $Y$__)\n",
    "- $\\mu_x$ = mean of the independent variable $X$\n",
    "- $\\mu_y$ = mean of the dependent variable $Y$\n",
    "\n",
    "#### Interpreting covariance values \n",
    "\n",
    "Covariance values range from positive infinity to negative infinity. \n",
    "\n",
    "* A **positive covariance** indicates that two variables are **positively related**\n",
    "\n",
    "* A **negative covariance** indicates that two variables are **inversely related**\n",
    "\n",
    "* A **covariance equal or close to 0** indicates that there is **no linear relationship** between two variables"
   ]
  },
  {
   "cell_type": "markdown",
   "metadata": {
    "colab_type": "text",
    "id": "W70VNCxZ9wDv"
   },
   "source": [
    "### Calculating Correlation Coefficient"
   ]
  },
  {
   "cell_type": "markdown",
   "metadata": {
    "colab_type": "text",
    "id": "W70VNCxZ9wDv"
   },
   "source": [
    "Pearson Correlation ($r$) is calculated using following formula :\n",
    "\n",
    "$$ \\Large r = \\frac{\\sum_{i=1}^{n}(x_i -\\mu_x)(y_i - \\mu_y)} {\\sqrt{\\sum_{i=1}^{n}(x_i - \\mu_x)^2 \\sum_{i=1}^{n}(y_i-\\mu_y)^2}}$$\n",
    "\n",
    "So just like in the case of covariance,  $X$ and $Y$ are two random variables having n elements each. \n",
    "\n",
    "\n",
    "- $x_i$ = ith element of variable $X$\n",
    "- $y_i$ = ith element of variable $Y$\n",
    "- $n$ = number of data points (__$n$ must be same for $X$ and $Y$__)\n",
    "- $\\mu_x$ = mean of the independent variable $X$\n",
    "- $\\mu_y$ = mean of the dependent variable $Y$\n",
    "- $r$ = Calculated Pearson Correlation"
   ]
  }
 ],
 "metadata": {
  "kernelspec": {
   "display_name": "learn-env",
   "language": "python",
   "name": "learn-env"
  },
  "language_info": {
   "codemirror_mode": {
    "name": "ipython",
    "version": 3
   },
   "file_extension": ".py",
   "mimetype": "text/x-python",
   "name": "python",
   "nbconvert_exporter": "python",
   "pygments_lexer": "ipython3",
   "version": "3.6.9"
  },
  "toc": {
   "base_numbering": 1,
   "nav_menu": {},
   "number_sections": false,
   "sideBar": true,
   "skip_h1_title": false,
   "title_cell": "Table of Contents",
   "title_sidebar": "Contents",
   "toc_cell": false,
   "toc_position": {},
   "toc_section_display": true,
   "toc_window_display": true
  }
 },
 "nbformat": 4,
 "nbformat_minor": 2
}
