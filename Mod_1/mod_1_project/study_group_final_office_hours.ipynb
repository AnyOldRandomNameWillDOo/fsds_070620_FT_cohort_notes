{
 "cells": [
  {
   "cell_type": "markdown",
   "metadata": {},
   "source": [
    "# Final Mod 1 Project Office Hours"
   ]
  },
  {
   "cell_type": "markdown",
   "metadata": {},
   "source": [
    "- 07/31/20\n",
    "- 070620FT"
   ]
  },
  {
   "cell_type": "markdown",
   "metadata": {},
   "source": [
    "<div style=\"font-size:1.7rem;font-weight:bold;\">\n",
    "    <h4>TOPICS</h4>\n",
    "<ol>\n",
    "    <li>Exporting final notebook -> README.md </li>\n",
    "    <li>Review non-technical presentation requirements. </li>\n",
    "    <li>Turning in project links.</li>\n",
    "    <li>Adding references/citations for other people's code</li>\n",
    "    <li>End of Module Survey</li>\n",
    "    </ol>\n",
    "    </div>"
   ]
  },
  {
   "cell_type": "markdown",
   "metadata": {},
   "source": [
    "## Exporting Notebook"
   ]
  },
  {
   "cell_type": "markdown",
   "metadata": {},
   "source": [
    "From inside your final project Jupyter Notebook:\n",
    "- In the menu bar, select: `File`>`Download as` > `Markdown (md)`\n",
    "\n",
    "\n",
    "> The notebook and output images will be saved into a .zip folder and downloaded via your web browser.\n",
    "\n",
    "\n",
    "- **Open the .zip file using File Exporer / Finder and Extract the files** into a folder (you can keep in your Downloads folder)\n",
    "\n",
    "\n",
    "- **Switch to the Jupyter Notebook startup page/file browser.**\n",
    "\n",
    "\n",
    "- **Select the check box next to the README.md file** in the jupyter file browser\n",
    "\n",
    "\n",
    "- **Click the `Rename` button** (above the list of files.)\n",
    "    - Change the filename to ***ANYTHING other than README.md*** (e.g. README_original.md)\n",
    "\n",
    "\n",
    "- After renaming the original README, **click on the `Upload` button above the file list on the right next to the `New` button.**\n",
    "\n",
    "\n",
    "> Finder or windows explorer will pop up now for you to select the files that you want to upload to your repository. \n",
    "\n",
    "- **Navigate to the folder where you extracted the .zip file**\n",
    "- Select all of the files(`Cmd`+`A` for Mac, `Cntrl`+`A` for windows) and click OK.\n",
    "    \n",
    "    \n",
    "> The files will now appear in the File list but the haven't been saved yet.\n",
    "\n",
    "- click the blue `Upload` button that appears next to each file.\n",
    "    \n",
    "- **Finally, rename your exported notebook's md file to README.md (`student.md` > `README.md`).**\n",
    "\n",
    "\n",
    "- **Commit your changes and push them to GitHub.**\n",
    "- **Go to your repo url and verify that you can scroll down and see your own notebook as the README.**\n",
    "    "
   ]
  },
  {
   "cell_type": "markdown",
   "metadata": {},
   "source": [
    "## Non-Technical Presentation Requirements"
   ]
  },
  {
   "cell_type": "markdown",
   "metadata": {},
   "source": [
    "- Remember your target audience is Microsoft.\n",
    "- Your presentation should be 5-8 min long. \n",
    "\n",
    "> - **Make sure your presentation has:**\n",
    "    - Title Slide (with your name)\n",
    "    - Intro or Overview slide\n",
    "    - Data or Methods slide<br><br>\n",
    "    - For each of your 3 questions:\n",
    "        - Show your figure and bullet-pointed observations.\n",
    "        - Make sure to include an **actionable recommendation** for Microsoft based on your visual/observations.<br><br>\n",
    "    - A Conclusions slide (repeat answers/recommendations)\n",
    "    - A Future Work slide (list what you would do next for them if they pay you to keep working on this project)\n",
    "    - A Thank You slide\n",
    "    \n",
    "- **Save your presentation as a pdf inside your repo. (`presentation.pdf`)**"
   ]
  },
  {
   "cell_type": "markdown",
   "metadata": {
    "heading_collapsed": true
   },
   "source": [
    "## Turning in project links."
   ]
  },
  {
   "cell_type": "markdown",
   "metadata": {},
   "source": [
    "## End of Module Survey"
   ]
  },
  {
   "cell_type": "markdown",
   "metadata": {},
   "source": [
    "## References/Citations"
   ]
  },
  {
   "cell_type": "code",
   "execution_count": null,
   "metadata": {},
   "outputs": [],
   "source": [
    "## Code from: \n",
    "def my_funct():\n",
    "    \"\"\"Example function docstring\n",
    "    Source for code: \n",
    "    \"\"\""
   ]
  }
 ],
 "metadata": {
  "kernelspec": {
   "display_name": "Python [conda env:learn-env] *",
   "language": "python",
   "name": "conda-env-learn-env-py"
  },
  "language_info": {
   "codemirror_mode": {
    "name": "ipython",
    "version": 3
   },
   "file_extension": ".py",
   "mimetype": "text/x-python",
   "name": "python",
   "nbconvert_exporter": "python",
   "pygments_lexer": "ipython3",
   "version": "3.6.11"
  },
  "toc": {
   "base_numbering": 1,
   "nav_menu": {},
   "number_sections": true,
   "sideBar": true,
   "skip_h1_title": false,
   "title_cell": "Table of Contents",
   "title_sidebar": "Contents",
   "toc_cell": false,
   "toc_position": {
    "height": "calc(100% - 180px)",
    "left": "10px",
    "top": "150px",
    "width": "256px"
   },
   "toc_section_display": true,
   "toc_window_display": true
  }
 },
 "nbformat": 4,
 "nbformat_minor": 2
}
